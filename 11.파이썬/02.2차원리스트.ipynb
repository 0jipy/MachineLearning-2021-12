{
 "cells": [
  {
   "cell_type": "code",
   "execution_count": 1,
   "metadata": {},
   "outputs": [],
   "source": [
    "#2차원 리스트"
   ]
  },
  {
   "cell_type": "code",
   "execution_count": 2,
   "metadata": {},
   "outputs": [
    {
     "data": {
      "text/plain": [
       "[[10, 20], [30, 40], [50, 60]]"
      ]
     },
     "execution_count": 2,
     "metadata": {},
     "output_type": "execute_result"
    }
   ],
   "source": [
    "a = [[10,20],[30,40],[50,60]]\n",
    "a"
   ]
  },
  {
   "cell_type": "code",
   "execution_count": 3,
   "metadata": {},
   "outputs": [
    {
     "data": {
      "text/plain": [
       "3"
      ]
     },
     "execution_count": 3,
     "metadata": {},
     "output_type": "execute_result"
    }
   ],
   "source": [
    "len(a)"
   ]
  },
  {
   "cell_type": "code",
   "execution_count": 5,
   "metadata": {},
   "outputs": [
    {
     "data": {
      "text/plain": [
       "[[10, 20], [30, 40], [50, 60]]"
      ]
     },
     "execution_count": 5,
     "metadata": {},
     "output_type": "execute_result"
    }
   ],
   "source": [
    "import numpy as np\n",
    "b = np.arange(1,7).reshape(3,2) * 10\n",
    "b.tolist()"
   ]
  },
  {
   "cell_type": "markdown",
   "metadata": {},
   "source": [
    "- 2차원 리스트와 반복문"
   ]
  },
  {
   "cell_type": "code",
   "execution_count": 8,
   "metadata": {},
   "outputs": [
    {
     "name": "stdout",
     "output_type": "stream",
     "text": [
      "[10, 20]\n",
      "[30, 40]\n",
      "[50, 60]\n"
     ]
    }
   ],
   "source": [
    "for row in a :\n",
    "    print(row)"
   ]
  },
  {
   "cell_type": "code",
   "execution_count": 9,
   "metadata": {},
   "outputs": [
    {
     "name": "stdout",
     "output_type": "stream",
     "text": [
      "10 20 \n",
      "30 40 \n",
      "50 60 \n"
     ]
    }
   ],
   "source": [
    "# 2D 로우와 컬럼 돌아야 하므로 반복문 두번 쓰는것이 맞아. \n",
    "for row in a:\n",
    "    for element in row:\n",
    "        print(element, end=' ')\n",
    "    print()"
   ]
  },
  {
   "cell_type": "markdown",
   "metadata": {},
   "source": [
    "- 반복문으로 2차원 리스트 만들기"
   ]
  },
  {
   "cell_type": "code",
   "execution_count": 12,
   "metadata": {},
   "outputs": [],
   "source": [
    "# 1차원\n",
    "num_list = []\n",
    "for i in range(5):\n",
    "    num_list.append(i)"
   ]
  },
  {
   "cell_type": "code",
   "execution_count": 17,
   "metadata": {},
   "outputs": [
    {
     "name": "stdout",
     "output_type": "stream",
     "text": [
      "10 11 12 13 14 \n",
      "20 21 22 23 24 \n",
      "30 31 32 33 34 \n",
      "40 41 42 43 44 \n"
     ]
    }
   ],
   "source": [
    "# 2차원\n",
    "dim2_list = []\n",
    "for i in range(10, 50, 10):\n",
    "    for k in range(5):\n",
    "        print(i+k, end=' ')\n",
    "    print()"
   ]
  },
  {
   "cell_type": "code",
   "execution_count": 18,
   "metadata": {},
   "outputs": [
    {
     "data": {
      "text/plain": [
       "[[10, 11, 12, 13, 14],\n",
       " [20, 21, 22, 23, 24],\n",
       " [30, 31, 32, 33, 34],\n",
       " [40, 41, 42, 43, 44]]"
      ]
     },
     "execution_count": 18,
     "metadata": {},
     "output_type": "execute_result"
    }
   ],
   "source": [
    "# 2차원\n",
    "dim2_list = []\n",
    "for i in range(10, 50, 10):\n",
    "    line = []\n",
    "    for k in range(5):\n",
    "        line.append(i+k)\n",
    "    dim2_list.append(line)\n",
    "dim2_list"
   ]
  },
  {
   "cell_type": "markdown",
   "metadata": {},
   "source": [
    "# 심사문제 지뢰찾기"
   ]
  },
  {
   "cell_type": "markdown",
   "metadata": {},
   "source": [
    "표준 입력으로 2차원 리스트의 가로(col)와 세로(row)가 입력되고 그 다음 줄부터 리스트의 요소로 들어갈 문자가 입력됩니다. 이때 2차원 리스트 안에서 *는 지뢰이고 .은 지뢰가 아닙니다. 지뢰가 아닌 요소에는 인접한 지뢰의 개수를 출력하는 프로그램을 만드세요(input에서 안내 문자열은 출력하지 않아야 합니다).\n",
    "\n",
    "여러 줄을 입력 받으려면 다음과 같이 for 반복문에서 input을 호출한 뒤 append로 각 줄을 추가하면 됩니다(list 안에 문자열을 넣으면 문자열이 문자 리스트로 변환됩니다).\n",
    "\n",
    "matrix = []\n",
    "for i in range(row):\n",
    "    matrix.append(list(input()))\n",
    "이 문제는 지금까지 심사문제 중에서 가장 어렵습니다. 처음 풀어보는 경우 대략 두 시간은 걸립니다. 시간을 두고 천천히 고민해서 풀어보세요. 지금까지 학습한 내용을 모두 동원해야 풀 수 있으며 막힐 때는 지금까지 학습한 내용을 다시 복습하면서 힌트를 찾아보세요.\n",
    "\n",
    "judge_minesweeper.py"
   ]
  },
  {
   "cell_type": "code",
   "execution_count": 21,
   "metadata": {},
   "outputs": [
    {
     "ename": "TypeError",
     "evalue": "'list' object cannot be interpreted as an integer",
     "output_type": "error",
     "traceback": [
      "\u001b[1;31m---------------------------------------------------------------------------\u001b[0m",
      "\u001b[1;31mTypeError\u001b[0m                                 Traceback (most recent call last)",
      "\u001b[1;32m<ipython-input-21-53a650d2b82a>\u001b[0m in \u001b[0;36m<module>\u001b[1;34m\u001b[0m\n\u001b[0;32m      1\u001b[0m \u001b[0mmatrix\u001b[0m \u001b[1;33m=\u001b[0m \u001b[1;33m[\u001b[0m\u001b[1;33m]\u001b[0m\u001b[1;33m\u001b[0m\u001b[1;33m\u001b[0m\u001b[0m\n\u001b[1;32m----> 2\u001b[1;33m \u001b[1;32mfor\u001b[0m \u001b[0mi\u001b[0m \u001b[1;32min\u001b[0m \u001b[0mrange\u001b[0m\u001b[1;33m(\u001b[0m\u001b[0mrow\u001b[0m\u001b[1;33m)\u001b[0m\u001b[1;33m:\u001b[0m\u001b[1;33m\u001b[0m\u001b[1;33m\u001b[0m\u001b[0m\n\u001b[0m\u001b[0;32m      3\u001b[0m     \u001b[0mmatrix\u001b[0m\u001b[1;33m.\u001b[0m\u001b[0mappend\u001b[0m\u001b[1;33m(\u001b[0m\u001b[0mlist\u001b[0m\u001b[1;33m(\u001b[0m\u001b[0minput\u001b[0m\u001b[1;33m(\u001b[0m\u001b[1;33m)\u001b[0m\u001b[1;33m)\u001b[0m\u001b[1;33m)\u001b[0m\u001b[1;33m\u001b[0m\u001b[1;33m\u001b[0m\u001b[0m\n",
      "\u001b[1;31mTypeError\u001b[0m: 'list' object cannot be interpreted as an integer"
     ]
    }
   ],
   "source": [
    "# matrix = []\n",
    "# for i in range(row):\n",
    "#     matrix.append(list(input()))"
   ]
  },
  {
   "cell_type": "markdown",
   "metadata": {},
   "source": [
    "- 지뢰찾기"
   ]
  },
  {
   "cell_type": "code",
   "execution_count": 23,
   "metadata": {},
   "outputs": [
    {
     "data": {
      "text/plain": [
       "0.058687307440915326"
      ]
     },
     "execution_count": 23,
     "metadata": {},
     "output_type": "execute_result"
    }
   ],
   "source": [
    "import random\n",
    "random.random()"
   ]
  },
  {
   "cell_type": "code",
   "execution_count": 24,
   "metadata": {},
   "outputs": [],
   "source": [
    "# 지뢰판 만들기"
   ]
  },
  {
   "cell_type": "code",
   "execution_count": 32,
   "metadata": {},
   "outputs": [
    {
     "data": {
      "text/plain": [
       "[['.', '*', '.', '.', '.', '.', '.'],\n",
       " ['.', '.', '.', '.', '.', '.', '.'],\n",
       " ['.', '.', '.', '.', '.', '.', '*'],\n",
       " ['.', '.', '.', '*', '.', '.', '.'],\n",
       " ['.', '.', '.', '*', '.', '.', '.'],\n",
       " ['.', '*', '.', '*', '.', '.', '*'],\n",
       " ['.', '.', '*', '*', '*', '*', '.']]"
      ]
     },
     "execution_count": 32,
     "metadata": {},
     "output_type": "execute_result"
    }
   ],
   "source": [
    "import random\n",
    "N = 7\n",
    "mines = [['*' if random.random() > 0.7 else '.' for _ in range(N)] for _ in range(N)]\n",
    "mines"
   ]
  },
  {
   "cell_type": "markdown",
   "metadata": {},
   "source": [
    "# 랜덤이면 별표 도 다른건가?"
   ]
  },
  {
   "cell_type": "code",
   "execution_count": 34,
   "metadata": {},
   "outputs": [],
   "source": [
    "def print_mines(mat):\n",
    "    for row in mat:\n",
    "        for element in row:\n",
    "            print(element, end=' ')\n",
    "        print()"
   ]
  },
  {
   "cell_type": "markdown",
   "metadata": {},
   "source": [
    "- 5 by 5 짜리 쓰고 7로 늘렸다. 7바이 7로 5바이5를 서치하라는 건가?\n",
    "- 나는 7-7 하고파 글고, 밖은 없는 놈으로 채워야 "
   ]
  },
  {
   "cell_type": "code",
   "execution_count": 35,
   "metadata": {},
   "outputs": [
    {
     "name": "stdout",
     "output_type": "stream",
     "text": [
      ". * . . . . . \n",
      ". . . . . . . \n",
      ". . . . . . * \n",
      ". . . * . . . \n",
      ". . . * . . . \n",
      ". * . * . . * \n",
      ". . * * * * . \n"
     ]
    }
   ],
   "source": [
    "print_mines(mines)"
   ]
  },
  {
   "cell_type": "markdown",
   "metadata": {},
   "source": [
    "q1 : 끝의 low와 col을 어떻게 .(지뢰없음) 으로 채우는가.  \n",
    "q"
   ]
  },
  {
   "cell_type": "code",
   "execution_count": 36,
   "metadata": {},
   "outputs": [],
   "source": [
    "# 패딩하기 padding 된 mines -----> pad_mines"
   ]
  },
  {
   "cell_type": "code",
   "execution_count": 64,
   "metadata": {},
   "outputs": [
    {
     "name": "stdout",
     "output_type": "stream",
     "text": [
      ". . . . . . . . . \n",
      ". . * . . . . . . \n",
      ". . . . . . . . . \n",
      ". . . . . . . * . \n",
      ". . . . * . . . . \n",
      ". . . . * . . . . \n",
      ". . * . * . . * . \n",
      ". . . * * * * . . \n",
      ". . . . . . . . . \n"
     ]
    }
   ],
   "source": [
    "# 첫줄만들기\n",
    "pad_mines = ['.'* (N+2)]\n",
    "for row in mines:\n",
    "    line = '.'\n",
    "    for element in row:\n",
    "        line += element\n",
    "    line += '.'\n",
    "    pad_mines.append(line)\n",
    "pad_mines.append('.' * (N+2))\n",
    "print_mines(pad_mines)"
   ]
  },
  {
   "cell_type": "code",
   "execution_count": 72,
   "metadata": {},
   "outputs": [
    {
     "name": "stdout",
     "output_type": "stream",
     "text": [
      "1 * 1 0 0 0 0 \n",
      "1 1 1 0 0 1 1 \n",
      "0 0 1 1 1 1 * \n",
      "0 0 2 * 2 1 1 \n",
      "1 1 4 * 3 1 1 \n",
      "1 * 5 * 5 3 * \n",
      "1 2 * * * * 2 \n"
     ]
    }
   ],
   "source": [
    "# 현재 N = 7 인상황\n",
    "final_mines = []\n",
    "for i in range(1, N+1):\n",
    "    row =''\n",
    "    for k in range(1, N+1):\n",
    "        if pad_mines[i][k]=='*':\n",
    "            row +='*'\n",
    "        else:\n",
    "            count = (pad_mines[i-1][k-1]=='*') + (pad_mines[i-1][k]=='*' ) + (pad_mines[i-1][k+1]=='*') +\\\n",
    "                    (pad_mines[i][k-1]=='*') + (pad_mines[i][k]=='*') + (pad_mines[i][k+1]=='*') +\\\n",
    "                    (pad_mines[i+1][k-1]=='*') + (pad_mines[i+1][k]=='*') + (pad_mines[i+1][k+1]=='*')\n",
    "            row += str(count)\n",
    "    final_mines.append(row)\n",
    "\n",
    "print_mines(final_mines)"
   ]
  },
  {
   "cell_type": "code",
   "execution_count": 76,
   "metadata": {},
   "outputs": [
    {
     "data": {
      "text/plain": [
       "int"
      ]
     },
     "execution_count": 76,
     "metadata": {},
     "output_type": "execute_result"
    }
   ],
   "source": [
    "type(count)"
   ]
  },
  {
   "cell_type": "markdown",
   "metadata": {},
   "source": [
    "# 리스트 형태 리팩"
   ]
  },
  {
   "cell_type": "code",
   "execution_count": 74,
   "metadata": {},
   "outputs": [
    {
     "name": "stdout",
     "output_type": "stream",
     "text": [
      ". . . . . . . . . \n",
      ". . * . . . . . . \n",
      ". . . . . . . . . \n",
      ". . . . . . . * . \n",
      ". . . . * . . . . \n",
      ". . . . * . . . . \n",
      ". . * . * . . * . \n",
      ". . . * * * * . . \n",
      ". . . . . . . . . \n"
     ]
    }
   ],
   "source": [
    "# 첫줄만들기\n",
    "# pad_mines = ['.'* (N+2)]\n",
    "# for row in mines:\n",
    "#     line = '.'\n",
    "#     for element in row:\n",
    "#         line += element\n",
    "#     line += '.'\n",
    "#     pad_mines.append(line)\n",
    "# pad_mines.append('.' * (N+2))\n",
    "# print_mines(pad_mines)\n",
    "\n",
    "\n",
    "pad_line = ['.' for _ in range(N+2)]\n",
    "pad_mines = [pad_line]\n",
    "for row in mines:\n",
    "    line = ['.']\n",
    "    for element in row:\n",
    "        line.append(element)\n",
    "    line.append('.')\n",
    "    pad_mines.append(line)\n",
    "pad_mines.append(pad_line)\n",
    "print_mines(pad_mines)"
   ]
  },
  {
   "cell_type": "code",
   "execution_count": 77,
   "metadata": {},
   "outputs": [
    {
     "name": "stdout",
     "output_type": "stream",
     "text": [
      "1 * 1 0 0 0 0 \n",
      "1 1 1 0 0 1 1 \n",
      "0 0 1 1 1 1 * \n",
      "0 0 2 * 2 1 1 \n",
      "1 1 4 * 3 1 1 \n",
      "1 * 5 * 5 3 * \n",
      "1 2 * * * * 2 \n"
     ]
    }
   ],
   "source": [
    "final_mines = []\n",
    "for i in range(1, N+1):\n",
    "    row =[]\n",
    "    for k in range(1, N+1):\n",
    "        if pad_mines[i][k]=='*':\n",
    "            row.append('*')\n",
    "        else:\n",
    "            count = (pad_mines[i-1][k-1]== '*') + (pad_mines[i-1][k]=='*' ) + (pad_mines[i-1][k+1]== '*') + \\\n",
    "                    (pad_mines[i][k-1]== '*') + (pad_mines[i][k]== '*') + (pad_mines[i][k+1]== '*') + \\\n",
    "                    (pad_mines[i+1][k-1]== '*') + (pad_mines[i+1][k]== '*') + (pad_mines[i+1][k+1]== '*')\n",
    "            row.append((str(count)))\n",
    "    final_mines.append(row)\n",
    "\n",
    "print_mines(final_mines)"
   ]
  },
  {
   "cell_type": "markdown",
   "metadata": {},
   "source": [
    "--"
   ]
  },
  {
   "cell_type": "code",
   "execution_count": 53,
   "metadata": {},
   "outputs": [
    {
     "name": "stdout",
     "output_type": "stream",
     "text": [
      "2\n"
     ]
    }
   ],
   "source": [
    "# 조건식에서는 트루지만 정수 변환 되면 T = 1, F = 0 으로 변환.\n",
    "b = 3 \n",
    "print((b == 3) * 2)\n",
    "# 원래 b 이퀄 3은 트루인데, 트루 곱하기 2는 없어서 \n",
    "# 트루가 정수 1로 변환 2가 출력되는 결과"
   ]
  },
  {
   "cell_type": "markdown",
   "metadata": {},
   "source": [
    "- 리스트의 할당 copy, deepcopy #"
   ]
  },
  {
   "cell_type": "code",
   "execution_count": 75,
   "metadata": {},
   "outputs": [
    {
     "data": {
      "text/plain": [
       "[[1, 2], [3, 4]]"
      ]
     },
     "execution_count": 75,
     "metadata": {},
     "output_type": "execute_result"
    }
   ],
   "source": [
    "import copy\n",
    "a= [[1,2],[3,4]]\n",
    "b = copy.deepcopy(a)\n",
    "b[1][1] = 100\n",
    "a\n"
   ]
  },
  {
   "cell_type": "markdown",
   "metadata": {},
   "source": [
    "기억장소에 값이 있을 수 있고 기억장소로 가봤더니 . 값이 들어가 있을 수 있고, 혹은 주소가 들어가 있을 수 있어. \n",
    "\n",
    "주소가 들어가 있을 경우가 생겨.. 그래서 이런 카피의 문제가 생겨 .\n",
    "\n",
    "그렇기에 내가 C 랭귀지를 강의하면서 포인터 강의를 딱 하는 순간에 컴공과 거의 대부분은 안하려그래. .포인터의 벽을 넘을 수 없어.\n",
    "\n",
    "\n",
    "LG cns를 다녔는데,\n",
    "예전에는 LG eds \n",
    "프로그래밍 개발할때 포인터 쓰지 말도록 권해 ..\n",
    "\n",
    "너는 쓸 줄 알아도 네 후임으로 오는사람은 포인터 쓸 줄 몰라. 걍 어레이 써. "
   ]
  }
 ],
 "metadata": {
  "interpreter": {
   "hash": "b3ba2566441a7c06988d0923437866b63cedc61552a5af99d1f4fb67d367b25f"
  },
  "kernelspec": {
   "display_name": "Python 3.8.8 64-bit ('base': conda)",
   "language": "python",
   "name": "python3"
  },
  "language_info": {
   "codemirror_mode": {
    "name": "ipython",
    "version": 3
   },
   "file_extension": ".py",
   "mimetype": "text/x-python",
   "name": "python",
   "nbconvert_exporter": "python",
   "pygments_lexer": "ipython3",
   "version": "3.8.8"
  },
  "orig_nbformat": 4
 },
 "nbformat": 4,
 "nbformat_minor": 2
}
