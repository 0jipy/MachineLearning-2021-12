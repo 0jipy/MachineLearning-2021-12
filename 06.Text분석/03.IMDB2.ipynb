{
 "cells": [
  {
   "cell_type": "markdown",
   "metadata": {},
   "source": [
    "# IMDB 영화평 감성분석 (센티멘트 분석)\n",
    "- Pipeline\n",
    "- TF - IDF / Logistic Regression "
   ]
  },
  {
   "cell_type": "code",
   "execution_count": 1,
   "metadata": {},
   "outputs": [],
   "source": [
    "import numpy as np\n",
    "import pandas as pd"
   ]
  },
  {
   "cell_type": "code",
   "execution_count": 2,
   "metadata": {},
   "outputs": [
    {
     "data": {
      "text/html": [
       "<div>\n",
       "<style scoped>\n",
       "    .dataframe tbody tr th:only-of-type {\n",
       "        vertical-align: middle;\n",
       "    }\n",
       "\n",
       "    .dataframe tbody tr th {\n",
       "        vertical-align: top;\n",
       "    }\n",
       "\n",
       "    .dataframe thead th {\n",
       "        text-align: right;\n",
       "    }\n",
       "</style>\n",
       "<table border=\"1\" class=\"dataframe\">\n",
       "  <thead>\n",
       "    <tr style=\"text-align: right;\">\n",
       "      <th></th>\n",
       "      <th>id</th>\n",
       "      <th>sentiment</th>\n",
       "      <th>review</th>\n",
       "    </tr>\n",
       "  </thead>\n",
       "  <tbody>\n",
       "    <tr>\n",
       "      <th>0</th>\n",
       "      <td>\"5814_8\"</td>\n",
       "      <td>1</td>\n",
       "      <td>\"With all this stuff going down at the moment ...</td>\n",
       "    </tr>\n",
       "    <tr>\n",
       "      <th>1</th>\n",
       "      <td>\"2381_9\"</td>\n",
       "      <td>1</td>\n",
       "      <td>\"\\\"The Classic War of the Worlds\\\" by Timothy ...</td>\n",
       "    </tr>\n",
       "    <tr>\n",
       "      <th>2</th>\n",
       "      <td>\"7759_3\"</td>\n",
       "      <td>0</td>\n",
       "      <td>\"The film starts with a manager (Nicholas Bell...</td>\n",
       "    </tr>\n",
       "  </tbody>\n",
       "</table>\n",
       "</div>"
      ],
      "text/plain": [
       "         id  sentiment                                             review\n",
       "0  \"5814_8\"          1  \"With all this stuff going down at the moment ...\n",
       "1  \"2381_9\"          1  \"\\\"The Classic War of the Worlds\\\" by Timothy ...\n",
       "2  \"7759_3\"          0  \"The film starts with a manager (Nicholas Bell..."
      ]
     },
     "execution_count": 2,
     "metadata": {},
     "output_type": "execute_result"
    }
   ],
   "source": [
    "df = pd.read_csv('data/labeledTrainData.tsv', sep='\\t', quoting=3) # 3 :  Quote - None\n",
    "df.head(3)"
   ]
  },
  {
   "cell_type": "markdown",
   "metadata": {},
   "source": [
    "- 텍스트 전처리"
   ]
  },
  {
   "cell_type": "code",
   "execution_count": 3,
   "metadata": {},
   "outputs": [],
   "source": [
    "# <br /> 태그는 공백으로 처리\n",
    "df.review = df.review.str.replace('<br />', ' ')"
   ]
  },
  {
   "cell_type": "code",
   "execution_count": 4,
   "metadata": {},
   "outputs": [
    {
     "name": "stderr",
     "output_type": "stream",
     "text": [
      "<ipython-input-4-59a2ec62eedf>:2: FutureWarning: The default value of regex will change from True to False in a future version.\n",
      "  df.review = df.review.str.replace('[^A-Za-z]', ' ').str.strip()\n"
     ]
    }
   ],
   "source": [
    "# 구둣점하고 숫자 제거 - 영문자가 아닌놈들은 공백으로 변환\n",
    "df.review = df.review.str.replace('[^A-Za-z]', ' ').str.strip()\n",
    "# df.review[0][:1000]"
   ]
  },
  {
   "cell_type": "markdown",
   "metadata": {},
   "source": [
    "- Train / test set 분리 "
   ]
  },
  {
   "cell_type": "code",
   "execution_count": 5,
   "metadata": {},
   "outputs": [],
   "source": [
    "from sklearn.model_selection import train_test_split\n",
    "X_train, X_test, y_train, y_test = train_test_split(\n",
    "    df.review, df.sentiment, stratify=df.sentiment, random_state=2022\n",
    ")\n",
    "# X_train.shape, X_test.shape, y_train.shape, y_test.shape,\n",
    "# y_train.value_counts()"
   ]
  },
  {
   "cell_type": "code",
   "execution_count": 6,
   "metadata": {},
   "outputs": [],
   "source": [
    "# y_train.value_counts()"
   ]
  },
  {
   "cell_type": "markdown",
   "metadata": {},
   "source": [
    "- # Pipeline : TF-IDFVectorizer + Logistic Regression"
   ]
  },
  {
   "cell_type": "markdown",
   "metadata": {},
   "source": [
    "- Pipeline"
   ]
  },
  {
   "cell_type": "code",
   "execution_count": 7,
   "metadata": {},
   "outputs": [],
   "source": [
    "from sklearn.feature_extraction.text import TfidfVectorizer\n",
    "from sklearn.pipeline import Pipeline\n",
    "from sklearn.linear_model import LogisticRegression"
   ]
  },
  {
   "cell_type": "code",
   "execution_count": 8,
   "metadata": {},
   "outputs": [],
   "source": [
    "pipeline = Pipeline([\n",
    "    ('tvect', TfidfVectorizer(stop_words='english', ngram_range=(1,2))),\n",
    "    ('lr', LogisticRegression(random_state=2022))\n",
    "])"
   ]
  },
  {
   "cell_type": "code",
   "execution_count": 9,
   "metadata": {},
   "outputs": [],
   "source": [
    "# 윗 셀과 동일한 코드.\n",
    "# tvect = TfidfVectorizer(stop_words ='english', ngram_range= (1,2))\n",
    "# lr = LogisticRegression(random_state=2022)\n",
    "# pipeline = Pipeline([('tvect', tvect), ('lr', lr)])"
   ]
  },
  {
   "cell_type": "code",
   "execution_count": 10,
   "metadata": {},
   "outputs": [
    {
     "name": "stdout",
     "output_type": "stream",
     "text": [
      "Wall time: 24.1 s\n"
     ]
    },
    {
     "data": {
      "text/plain": [
       "Pipeline(steps=[('tvect',\n",
       "                 TfidfVectorizer(ngram_range=(1, 2), stop_words='english')),\n",
       "                ('lr', LogisticRegression(random_state=2022))])"
      ]
     },
     "execution_count": 10,
     "metadata": {},
     "output_type": "execute_result"
    }
   ],
   "source": [
    "# 학습 \n",
    "%time pipeline.fit(X_train, y_train)"
   ]
  },
  {
   "cell_type": "code",
   "execution_count": 11,
   "metadata": {},
   "outputs": [
    {
     "data": {
      "text/plain": [
       "0.87472"
      ]
     },
     "execution_count": 11,
     "metadata": {},
     "output_type": "execute_result"
    }
   ],
   "source": [
    "# 평가  # 파이프라인으로 감싸니까 변화하고 할 때에 특별한 값 없어. \n",
    "pipeline.score(X_test, y_test)"
   ]
  },
  {
   "cell_type": "markdown",
   "metadata": {},
   "source": [
    "- 최적의 하이퍼 파라메터 찾기"
   ]
  },
  {
   "cell_type": "code",
   "execution_count": 12,
   "metadata": {},
   "outputs": [],
   "source": [
    "from sklearn.model_selection import GridSearchCV\n",
    "params = {\n",
    "    'tvect__max_df' : [100, 500],\n",
    "    'lr__C' : [1, 10]\n",
    "}"
   ]
  },
  {
   "cell_type": "code",
   "execution_count": 13,
   "metadata": {},
   "outputs": [
    {
     "name": "stdout",
     "output_type": "stream",
     "text": [
      "Wall time: 1min 54s\n"
     ]
    },
    {
     "data": {
      "text/plain": [
       "GridSearchCV(cv=3,\n",
       "             estimator=Pipeline(steps=[('tvect',\n",
       "                                        TfidfVectorizer(ngram_range=(1, 2),\n",
       "                                                        stop_words='english')),\n",
       "                                       ('lr',\n",
       "                                        LogisticRegression(random_state=2022))]),\n",
       "             n_jobs=-1,\n",
       "             param_grid={'lr__C': [1, 10], 'tvect__max_df': [100, 500]},\n",
       "             scoring='accuracy')"
      ]
     },
     "execution_count": 13,
     "metadata": {},
     "output_type": "execute_result"
    }
   ],
   "source": [
    "grid_pipe = GridSearchCV(\n",
    "    pipeline, param_grid=params, scoring='accuracy', cv=3, n_jobs=-1\n",
    ")  # n jobs = -1 주면, 멀티 쓰레딩으로 돌아\n",
    "%time grid_pipe.fit(X_train, y_train)"
   ]
  },
  {
   "cell_type": "code",
   "execution_count": 14,
   "metadata": {},
   "outputs": [],
   "source": [
    "# Wall time: 1min 54s\n",
    "# GridSearchCV(cv=3,\n",
    "#              estimator=Pipeline(steps=[('tvect',\n",
    "#                                         TfidfVectorizer(ngram_range=(1, 2),\n",
    "#                                                         stop_words='english')),\n",
    "#                                        ('lr',\n",
    "#                                         LogisticRegression(random_state=2022))]),\n",
    "#              n_jobs=-1,\n",
    "#              param_grid={'lr__C': [1, 10], 'tvect__max_df': [100, 500]},\n",
    "#              scoring='accuracy')"
   ]
  },
  {
   "cell_type": "code",
   "execution_count": 15,
   "metadata": {},
   "outputs": [
    {
     "data": {
      "text/plain": [
       "{'lr__C': 10, 'tvect__max_df': 500}"
      ]
     },
     "execution_count": 15,
     "metadata": {},
     "output_type": "execute_result"
    }
   ],
   "source": [
    "grid_pipe.best_params_"
   ]
  },
  {
   "cell_type": "code",
   "execution_count": 16,
   "metadata": {},
   "outputs": [
    {
     "name": "stdout",
     "output_type": "stream",
     "text": [
      "Wall time: 1min 58s\n"
     ]
    },
    {
     "data": {
      "text/plain": [
       "GridSearchCV(cv=3,\n",
       "             estimator=Pipeline(steps=[('tvect',\n",
       "                                        TfidfVectorizer(ngram_range=(1, 2),\n",
       "                                                        stop_words='english')),\n",
       "                                       ('lr',\n",
       "                                        LogisticRegression(random_state=2022))]),\n",
       "             n_jobs=-1,\n",
       "             param_grid={'lr__C': [1, 10], 'tvect__max_df': [100, 500]},\n",
       "             scoring='accuracy')"
      ]
     },
     "execution_count": 16,
     "metadata": {},
     "output_type": "execute_result"
    }
   ],
   "source": [
    "from sklearn.model_selection import GridSearchCV\n",
    "params = {\n",
    "    'tvect__max_df' : [500, 1000],\n",
    "    'lr__C' : [10, 20]\n",
    "}\n",
    "%time grid_pipe.fit(X_train, y_train)"
   ]
  },
  {
   "cell_type": "code",
   "execution_count": 17,
   "metadata": {},
   "outputs": [
    {
     "data": {
      "text/plain": [
       "{'lr__C': 10, 'tvect__max_df': 500}"
      ]
     },
     "execution_count": 17,
     "metadata": {},
     "output_type": "execute_result"
    }
   ],
   "source": [
    "grid_pipe.best_params_\n",
    "# 여전히 같은 값이 나와줘. 300, 700, 13, 7 등등 할 수 있을것. "
   ]
  },
  {
   "cell_type": "code",
   "execution_count": 18,
   "metadata": {},
   "outputs": [
    {
     "data": {
      "text/plain": [
       "0.87552"
      ]
     },
     "execution_count": 18,
     "metadata": {},
     "output_type": "execute_result"
    }
   ],
   "source": [
    "grid_pipe.best_estimator_.score(X_test, y_test)\n",
    "# 0.87472 보다 조금 올라 0.87552"
   ]
  },
  {
   "cell_type": "markdown",
   "metadata": {},
   "source": [
    "# 교재 추천 파트\n",
    " -  딥러닝을 위한 자연어 처리 입문\n",
    " -  정규표현식 등.\n",
    " -  독학하기 어려워. 작년 자연어 처리 1주일 처음에 나가서 벡터 유사도 까지 했었어 . 쉽지 않아. "
   ]
  },
  {
   "cell_type": "markdown",
   "metadata": {},
   "source": [
    "- 모델 저장"
   ]
  },
  {
   "cell_type": "code",
   "execution_count": 19,
   "metadata": {},
   "outputs": [
    {
     "data": {
      "text/plain": [
       "['model/imdb_pipe.pkl']"
      ]
     },
     "execution_count": 19,
     "metadata": {},
     "output_type": "execute_result"
    }
   ],
   "source": [
    "import joblib\n",
    "joblib.dump(grid_pipe.best_estimator_, 'model/imdb_pipe.pkl')"
   ]
  },
  {
   "cell_type": "code",
   "execution_count": 20,
   "metadata": {},
   "outputs": [],
   "source": [
    "best_pipe = joblib.load('model/imdb_pipe.pkl')"
   ]
  },
  {
   "cell_type": "markdown",
   "metadata": {},
   "source": [
    "- 실제 데이터"
   ]
  },
  {
   "cell_type": "code",
   "execution_count": 21,
   "metadata": {},
   "outputs": [
    {
     "data": {
      "text/plain": [
       "'\\nBefore all of the hype I wanted to see Spider-Man in the theater, and the hype just made me want to see it more. I didn\\'t know what to expect, but I certainly expected better than what I saw. Besides being a snooze fest, it was so sappy and saccharin I scheduled a dentist visit during the movie.\\n\\nThe movie started going wayward the moment Peter Parker (Tom Holland) went to Doctor Strange (Benedict Cumberbatch) for a spell to make everyone forget him. It wasn\\'t a bad idea for Peter to go to Doctor Strange to fix his little revealed-identity problem, it was just oddly dumb of Doctor Strange to actually accommodate Peter. Doctor Strange truly attempted to make everyone in the world forget who Peter Parker was. It was a massive spell that seemed very excessive just to fix one man\\'s problems. The movie went into silly mode as Parker kept interrupting Doctor Strange as he was doing the spell. The result was a host of old nemeses from different universes converging upon this universe to find Parker. If it was explained, it was explained poorly.\\n\\nAt this point the movie was on shaky ground, but it hadn\\'t given way. \"No Way Home\" would suffer another setback when Parker fought Strange to prevent him from sending all of these villains back to their respective universes. You see, if they were to go back then they\\'d meet death at the hands of, or because of, that universe\\'s Spider-Man, and this universe\\'s Spider-Man was way too moralistic to allow that to happen. No, Parker would fix it so that they could all go back home and they could all live happily ever after.\\n\\nEverything after this part of the movie was immaterial to me in the grand scheme. For me, when a plot is based upon a faulty or simply bad premise, everything that follows is equally faulty and meaningless. Not that the things that follow can\\'t be cool aesthetically; they\\'re just empty.\\n\\nParker was operating upon the righteous advice of his Aunt May (Marisa Tomei). Per her wisdom, Parker had an obligation to help these poor misguided men, no matter what the exponentially more knowledgeable Doctor Strange said. Doctor Strange wanted to do the most logical thing which was send each villain back to his own universe and let fate take over from there. Parker, with his oversized heart and undersized common sense, wanted to keep them in his own universe as pet projects until he could fix them, then send them back. Nevermind that he was going to be actively tampering with the course of events of another universe thereby massively altering their timelines with untold consequences, he simply wasn\\'t old enough, wise enough, or experienced enough to know what was the best thing to do. Furthermore, it was a slap in the face of the other Spider-Men. As if to say, \"You guys screwed up, I\\'m going to find a better, more wholesome solution because I\\'m a better Spider-Man\"\\n\\nI was so thoroughly perturbed by this new mission of Spider-Man\\'s to save these villains that everything after that began to annoy me. The attempts at comedy were awkward and grossly unfunny. The emotional moments were too often and too long. The final nail in the coffin of this was the runtime. Boy did they drag this out. I could put up with a didactic and flawed plot if you get us through it in a quick and exciting way, but in their attempts to have this grand send off for Spider-Man we had to suffer through an ocean of tears, a chasm of emotions, and an abundance of silence with slow music. I left the theater drained and upset as though I\\'d just been to the DMV. Everything was set up for them to reboot Spider-Man if needed, but at this point I could use a break and no more Spider-Men about \"home.\"\\n\\n'"
      ]
     },
     "execution_count": 21,
     "metadata": {},
     "output_type": "execute_result"
    }
   ],
   "source": [
    "review = '''\n",
    "Before all of the hype I wanted to see Spider-Man in the theater, and the hype just made me want to see it more. I didn't know what to expect, but I certainly expected better than what I saw. Besides being a snooze fest, it was so sappy and saccharin I scheduled a dentist visit during the movie.\n",
    "\n",
    "The movie started going wayward the moment Peter Parker (Tom Holland) went to Doctor Strange (Benedict Cumberbatch) for a spell to make everyone forget him. It wasn't a bad idea for Peter to go to Doctor Strange to fix his little revealed-identity problem, it was just oddly dumb of Doctor Strange to actually accommodate Peter. Doctor Strange truly attempted to make everyone in the world forget who Peter Parker was. It was a massive spell that seemed very excessive just to fix one man's problems. The movie went into silly mode as Parker kept interrupting Doctor Strange as he was doing the spell. The result was a host of old nemeses from different universes converging upon this universe to find Parker. If it was explained, it was explained poorly.\n",
    "\n",
    "At this point the movie was on shaky ground, but it hadn't given way. \"No Way Home\" would suffer another setback when Parker fought Strange to prevent him from sending all of these villains back to their respective universes. You see, if they were to go back then they'd meet death at the hands of, or because of, that universe's Spider-Man, and this universe's Spider-Man was way too moralistic to allow that to happen. No, Parker would fix it so that they could all go back home and they could all live happily ever after.\n",
    "\n",
    "Everything after this part of the movie was immaterial to me in the grand scheme. For me, when a plot is based upon a faulty or simply bad premise, everything that follows is equally faulty and meaningless. Not that the things that follow can't be cool aesthetically; they're just empty.\n",
    "\n",
    "Parker was operating upon the righteous advice of his Aunt May (Marisa Tomei). Per her wisdom, Parker had an obligation to help these poor misguided men, no matter what the exponentially more knowledgeable Doctor Strange said. Doctor Strange wanted to do the most logical thing which was send each villain back to his own universe and let fate take over from there. Parker, with his oversized heart and undersized common sense, wanted to keep them in his own universe as pet projects until he could fix them, then send them back. Nevermind that he was going to be actively tampering with the course of events of another universe thereby massively altering their timelines with untold consequences, he simply wasn't old enough, wise enough, or experienced enough to know what was the best thing to do. Furthermore, it was a slap in the face of the other Spider-Men. As if to say, \"You guys screwed up, I'm going to find a better, more wholesome solution because I'm a better Spider-Man\"\n",
    "\n",
    "I was so thoroughly perturbed by this new mission of Spider-Man's to save these villains that everything after that began to annoy me. The attempts at comedy were awkward and grossly unfunny. The emotional moments were too often and too long. The final nail in the coffin of this was the runtime. Boy did they drag this out. I could put up with a didactic and flawed plot if you get us through it in a quick and exciting way, but in their attempts to have this grand send off for Spider-Man we had to suffer through an ocean of tears, a chasm of emotions, and an abundance of silence with slow music. I left the theater drained and upset as though I'd just been to the DMV. Everything was set up for them to reboot Spider-Man if needed, but at this point I could use a break and no more Spider-Men about \"home.\"\n",
    "\n",
    "'''\n",
    "review"
   ]
  },
  {
   "cell_type": "code",
   "execution_count": 22,
   "metadata": {},
   "outputs": [],
   "source": [
    "# 텍스트 전처리\n",
    "import re\n",
    "clean_review = re.sub('[^A-Za-z]', ' ', review).strip()"
   ]
  },
  {
   "cell_type": "code",
   "execution_count": 23,
   "metadata": {},
   "outputs": [
    {
     "data": {
      "text/plain": [
       "array([0], dtype=int64)"
      ]
     },
     "execution_count": 23,
     "metadata": {},
     "output_type": "execute_result"
    }
   ],
   "source": [
    "best_pipe.predict([clean_review])\n",
    "# 0 부정이 나왔어."
   ]
  },
  {
   "cell_type": "code",
   "execution_count": 24,
   "metadata": {},
   "outputs": [],
   "source": [
    "# clean_review"
   ]
  }
 ],
 "metadata": {
  "interpreter": {
   "hash": "b3ba2566441a7c06988d0923437866b63cedc61552a5af99d1f4fb67d367b25f"
  },
  "kernelspec": {
   "display_name": "Python 3.8.8 64-bit ('base': conda)",
   "language": "python",
   "name": "python3"
  },
  "language_info": {
   "codemirror_mode": {
    "name": "ipython",
    "version": 3
   },
   "file_extension": ".py",
   "mimetype": "text/x-python",
   "name": "python",
   "nbconvert_exporter": "python",
   "pygments_lexer": "ipython3",
   "version": "3.8.8"
  },
  "orig_nbformat": 4
 },
 "nbformat": 4,
 "nbformat_minor": 2
}
