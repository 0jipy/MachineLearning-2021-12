{
 "cells": [
  {
   "cell_type": "code",
   "execution_count": 1,
   "metadata": {},
   "outputs": [
    {
     "data": {
      "text/plain": [
       "<Response [200]>"
      ]
     },
     "execution_count": 1,
     "metadata": {},
     "output_type": "execute_result"
    }
   ],
   "source": [
    "from bs4 import BeautifulSoup\n",
    "import requests\n",
    "\n",
    "# URL_kino = \"https://m.kinolights.com/title/7113\"   # 포레스트 검트 영화정보\n",
    "# response = requests.get(URL_kino)\n",
    "# response\n",
    "# # dom = BeautifulSoup(response.content, 'html.parser')\n",
    "# # html = response.content\n",
    "# soup = BeautifulSoup(response.content,'html.parser')\n",
    "# print(soup.prettify())\n",
    "\n",
    "URL_reviews = \"https://m.kinolights.com/title/7113/reviews\"\n",
    "res_kino = requests.get(URL_reviews)\n",
    "res_kino"
   ]
  },
  {
   "cell_type": "code",
   "execution_count": 19,
   "metadata": {},
   "outputs": [
    {
     "data": {
      "text/plain": [
       "'<!doctype html>\\n<html>\\n  <head>\\n    <title>í\\x82¤ë\\x85¸ë\\x9d¼ì\\x9d´ì¸\\xa0 â\\x80\\x93 ì\\x98\\x81í\\x99\\x94 ë\\x93\\x9cë\\x9d¼ë§\\x88 ë³´ê¸° ì\\xa0\\x84 í\\x95\\x84ì\\x88\\x98 ì\\x95±</title><meta data-n-head=\"1\" charset=\"utf-8\"><meta data-n-head=\"1\" name=\"viewport\" content=\"width=device-width,initial-scale=1,user-scalable=no\"><meta data-n-head=\"1\" name=\"mobile-web-app-capable\" content=\"yes\"><meta data-n-head=\"1\" name=\"apple-mobile-web-app-capable\" content=\"yes\"><meta data-n-head=\"1\" name=\"application_name\" content=\"í\\x82¤ë\\x85¸ë\\x9d¼ì\\x9d´ì¸\\xa0 â\\x80\\x93 ì\\x98\\x81í\\x99\\x94 ë\\x93\\x9cë\\x9d¼ë§\\x88 ë³´ê¸° ì\\xa0\\x84 í\\x95\\x84ì\\x88\\x98 ì\\x95±\"><meta data-n-head=\"1\" data-hid=\"author\" name=\"author\" content=\"í\\x82¤ë\\x85¸ë\\x9d¼ì\\x9d´ì¸\\xa0\"><meta data-n-head=\"1\" data-hid=\"desc\" name=\"description\" content=\"ë³´ê³\\xa0 ì\\x8b¶ì\\x9d\\x80 ì\\x98\\x81í\\x99\\x94/ë\\x93\\x9cë\\x9d¼ë§\\x88 ì\\x96´ë\\x94\\x94ì\\x84\\x9c ë³¼ ì\\x88\\x98 ì\\x9e\\x88ë\\x8a\\x94ì§\\x80 5ì´\\x88 ì\\x9d´ì\\x83\\x81 ì°¾ì§\\x80 ë§\\x88ì\\x84¸ì\\x9a\\x94. ë\\x84·í\\x94\\x8cë¦\\xadì\\x8a¤, ì\\x9b¨ì\\x9d´ë¸\\x8c, í\\x8b°ë¹\\x99, ì\\x99\\x93ì±\\xa0 ë\\x93± ì£¼ì\\x9a\\x94 OTT ì\\x84\\x9cë¹\\x84ì\\x8a¤ í\\x86µí\\x95© ê²\\x80ì\\x83\\x89ì\\x9d\\x80 í\\x82¤ë\\x85¸ë\\x9d¼ì\\x9d´ì¸\\xa0ì\\x97\\x90ì\\x84\\x9c!\"><meta data-n-head=\"1\" data-hid=\"keywords\" name=\"keywords\" content=\"ë³´ê³\\xa0 ì\\x8b¶ì\\x9d\\x80 ì\\x98\\x81í\\x99\\x94/ë\\x93\\x9cë\\x9d¼ë§\\x88 ì\\x96´ë\\x94\\x94ì\\x84\\x9c ë³¼ ì\\x88\\x98 ì\\x9e\\x88ë\\x8a\\x94ì§\\x80 5ì´\\x88 ì\\x9d´ì\\x83\\x81 ì°¾ì§\\x80 ë§\\x88ì\\x84¸ì\\x9a\\x94. ë\\x84·í\\x94\\x8cë¦\\xadì\\x8a¤, ì\\x9b¨ì\\x9d´ë¸\\x8c, í\\x8b°ë¹\\x99, ì\\x99\\x93ì±\\xa0 ë\\x93± ì£¼ì\\x9a\\x94 OTT ì\\x84\\x9cë¹\\x84ì\\x8a¤ í\\x86µí\\x95© ê²\\x80ì\\x83\\x89ì\\x9d\\x80 í\\x82¤ë\\x85¸ë\\x9d¼ì\\x9d´ì¸\\xa0ì\\x97\\x90ì\\x84\\x9c!\"><meta data-n-head=\"1\" data-hid=\"ogtype\" property=\"og:type\" content=\"video.movie\"><meta data-n-head=\"1\" data-hid=\"ogtitle\" property=\"og:title\" content=\"í\\x82¤ë\\x85¸ë\\x9d¼ì\\x9d´ì¸\\xa0 â\\x80\\x93 ì\\x98\\x81í\\x99\\x94 ë\\x93\\x9cë\\x9d¼ë§\\x88 ë³´ê¸° ì\\xa0\\x84 í\\x95\\x84ì\\x88\\x98 ì\\x95±\"><meta data-n-head=\"1\" data-hid=\"ogdesc\" property=\"og:description\" content=\"ë³´ê³\\xa0 ì\\x8b¶ì\\x9d\\x80 ì\\x98\\x81í\\x99\\x94/ë\\x93\\x9cë\\x9d¼ë§\\x88 ì\\x96´ë\\x94\\x94ì\\x84\\x9c ë³¼ ì\\x88\\x98 ì\\x9e\\x88ë\\x8a\\x94ì§\\x80 5ì´\\x88 ì\\x9d´ì\\x83\\x81 ì°¾ì§\\x80 ë§\\x88ì\\x84¸ì\\x9a\\x94. ë\\x84·í\\x94\\x8cë¦\\xadì\\x8a¤, ì\\x9b¨ì\\x9d´ë¸\\x8c, í\\x8b°ë¹\\x99, ì\\x99\\x93ì±\\xa0 ë\\x93± ì£¼ì\\x9a\\x94 OTT ì\\x84\\x9cë¹\\x84ì\\x8a¤ í\\x86µí\\x95© ê²\\x80ì\\x83\\x89ì\\x9d\\x80 í\\x82¤ë\\x85¸ë\\x9d¼ì\\x9d´ì¸\\xa0ì\\x97\\x90ì\\x84\\x9c!\"><meta data-n-head=\"1\" data-hid=\"twittertitle\" property=\"twitter:title\" content=\"í\\x82¤ë\\x85¸ë\\x9d¼ì\\x9d´ì¸\\xa0 â\\x80\\x93 ì\\x98\\x81í\\x99\\x94 ë\\x93\\x9cë\\x9d¼ë§\\x88 ë³´ê¸° ì\\xa0\\x84 í\\x95\\x84ì\\x88\\x98 ì\\x95±\"><meta data-n-head=\"1\" data-hid=\"twitterdescription\" property=\"twitter:description\" content=\"ë³´ê³\\xa0 ì\\x8b¶ì\\x9d\\x80 ì\\x98\\x81í\\x99\\x94/ë\\x93\\x9cë\\x9d¼ë§\\x88 ì\\x96´ë\\x94\\x94ì\\x84\\x9c ë³¼ ì\\x88\\x98 ì\\x9e\\x88ë\\x8a\\x94ì§\\x80 5ì´\\x88 ì\\x9d´ì\\x83\\x81 ì°¾ì§\\x80 ë§\\x88ì\\x84¸ì\\x9a\\x94. ë\\x84·í\\x94\\x8cë¦\\xadì\\x8a¤, ì\\x9b¨ì\\x9d´ë¸\\x8c, í\\x8b°ë¹\\x99, ì\\x99\\x93ì±\\xa0 ë\\x93± ì£¼ì\\x9a\\x94 OTT ì\\x84\\x9cë¹\\x84ì\\x8a¤ í\\x86µí\\x95© ê²\\x80ì\\x83\\x89ì\\x9d\\x80 í\\x82¤ë\\x85¸ë\\x9d¼ì\\x9d´ì¸\\xa0ì\\x97\\x90ì\\x84\\x9c!\"><meta data-n-head=\"1\" data-hid=\"ogimage\" property=\"og:image\" content=\"https://static.kinolights.com/banner-share.png\"><link data-n-head=\"1\" rel=\"icon\" type=\"image/png\" sizes=\"32x32\" href=\"https://nujhrcqkiwag1408085.cdn.ntruss.com/static/common/icon/favicon-33x33.png\"><script data-n-head=\"1\" data-hid=\"gtm-script\">window._gtm_init||(window._gtm_init=1,function(t,e,n,a,o){t[n]=1==t[n]||\"yes\"==e[n]||1==e[n]||1==e.msDoNotTrack||t[a]&&t[a][o]&&t[a][o]()?1:0}(window,navigator,\"doNotTrack\",\"external\",\"msTrackingProtectionEnabled\"),function(a,o,i,r,g){a[g]={},a._gtm_inject=function(t){var e,n;a.doNotTrack||a[g][t]||(a[g][t]=1,a[r]=a[r]||[],a[r].push({\"gtm.start\":(new Date).getTime(),event:\"gtm.js\"}),e=o.getElementsByTagName(i)[0],(n=o.createElement(i)).async=!0,n.src=\"https://www.googletagmanager.com/gtm.js?id=\"+t,e.parentNode.insertBefore(n,e))}}(window,document,\"script\",\"dataLayer\",\"_gtm_ids\"))</script><link rel=\"preload\" href=\"/_nuxt/bc33b81.js\" as=\"script\"><link rel=\"preload\" href=\"/_nuxt/cb5e8b2.js\" as=\"script\"><link rel=\"preload\" href=\"/_nuxt/0eaa7a4.js\" as=\"script\"><link rel=\"preload\" href=\"/_nuxt/91df897.js\" as=\"script\"><link rel=\"preload\" href=\"/_nuxt/93124df.js\" as=\"script\"><link rel=\"preload\" href=\"/_nuxt/24575de.js\" as=\"script\"><link rel=\"preload\" href=\"/_nuxt/cac04cb.js\" as=\"script\"><link rel=\"preload\" href=\"/_nuxt/9777e7a.js\" as=\"script\"><link rel=\"preload\" href=\"/_nuxt/61c8f36.js\" as=\"script\"><link rel=\"preload\" href=\"/_nuxt/00997f9.js\" as=\"script\"><link rel=\"preload\" href=\"/_nuxt/304f318.js\" as=\"script\"><link rel=\"preload\" href=\"/_nuxt/6c440a6.js\" as=\"script\"><link rel=\"preload\" href=\"/_nuxt/47ff312.js\" as=\"script\"><link rel=\"preload\" href=\"/_nuxt/ef8380b.js\" as=\"script\"><link rel=\"preload\" href=\"/_nuxt/03c9a85.js\" as=\"script\"><link rel=\"preload\" href=\"/_nuxt/1b1b5b0.js\" as=\"script\"><link rel=\"preload\" href=\"/_nuxt/8616409.js\" as=\"script\"><link rel=\"preload\" href=\"/_nuxt/24c1de4.js\" as=\"script\"><link rel=\"preload\" href=\"/_nuxt/95bf7e7.js\" as=\"script\"><link rel=\"preload\" href=\"/_nuxt/56b0bdb.js\" as=\"script\"><link rel=\"preload\" href=\"/_nuxt/8b037e0.js\" as=\"script\"><link rel=\"preload\" href=\"/_nuxt/fc772e8.js\" as=\"script\"><link rel=\"preload\" href=\"/_nuxt/43ad772.js\" as=\"script\"><link rel=\"preload\" href=\"/_nuxt/4b51acf.js\" as=\"script\"><link rel=\"preload\" href=\"/_nuxt/6cc80cc.js\" as=\"script\"><link rel=\"preload\" href=\"/_nuxt/b51fd58.js\" as=\"script\"><link rel=\"preload\" href=\"/_nuxt/1726043.js\" as=\"script\"><link rel=\"preload\" href=\"/_nuxt/c24b895.js\" as=\"script\">\\n  </head>\\n  <body>\\n    <noscript data-n-head=\"1\" data-hid=\"gtm-noscript\" data-pbody=\"true\"></noscript><div id=\"__nuxt\"><style>#nuxt-loading{background:#fff;visibility:hidden;opacity:0;position:absolute;left:0;right:0;top:0;bottom:0;display:flex;justify-content:center;align-items:center;flex-direction:column;animation:nuxtLoadingIn 10s ease;-webkit-animation:nuxtLoadingIn 10s ease;animation-fill-mode:forwards;overflow:hidden}@keyframes nuxtLoadingIn{0%{visibility:hidden;opacity:0}20%{visibility:visible;opacity:0}100%{visibility:visible;opacity:1}}@-webkit-keyframes nuxtLoadingIn{0%{visibility:hidden;opacity:0}20%{visibility:visible;opacity:0}100%{visibility:visible;opacity:1}}#nuxt-loading>div,#nuxt-loading>div:after{border-radius:50%;width:5rem;height:5rem}#nuxt-loading>div{font-size:10px;position:relative;text-indent:-9999em;border:.5rem solid #f5f5f5;border-left:.5rem solid #d3d3d3;-webkit-transform:translateZ(0);-ms-transform:translateZ(0);transform:translateZ(0);-webkit-animation:nuxtLoading 1.1s infinite linear;animation:nuxtLoading 1.1s infinite linear}#nuxt-loading.error>div{border-left:.5rem solid #ff4500;animation-duration:5s}@-webkit-keyframes nuxtLoading{0%{-webkit-transform:rotate(0);transform:rotate(0)}100%{-webkit-transform:rotate(360deg);transform:rotate(360deg)}}@keyframes nuxtLoading{0%{-webkit-transform:rotate(0);transform:rotate(0)}100%{-webkit-transform:rotate(360deg);transform:rotate(360deg)}}</style><script>window.addEventListener(\"error\",function(){var e=document.getElementById(\"nuxt-loading\");e&&(e.className+=\" error\")})</script><div id=\"nuxt-loading\" aria-live=\"polite\" role=\"status\"><div>Loading...</div></div></div><script>window.__NUXT__=function(i){return{config:{isProd:!0,isDev:!1,baseURL:\"https://api.kinolights.com\",clickURL:\"https://click.kinolights.com\",snsRedirectUrl:\"https://api.kinolights.com/v1/user/\",appleRedirectUrl:\"https://m.kinolights.com\",appVersionInReview:\"1.2.5\",appVersionInForce:i,appVersionInRecommend:i,linkidUrl:\"https://linkid.pw/event/bridgePage?eventid=10002&cid=kinolights_01&cvalue=\",googleAnalyticsId:\"UA-111657493-1\",kinoLoadImgUrl:\"https://nujhrcqkiwag1408085.cdn.ntruss.com/static/common/poster_lazyload.png\",_app:{basePath:\"/\",assetsPath:\"/_nuxt/\",cdnURL:null}}}}(\"1.2.3\")</script>\\n  <script src=\"/_nuxt/bc33b81.js\"></script><script src=\"/_nuxt/cb5e8b2.js\"></script><script src=\"/_nuxt/0eaa7a4.js\"></script><script src=\"/_nuxt/91df897.js\"></script><script src=\"/_nuxt/93124df.js\"></script><script src=\"/_nuxt/24575de.js\"></script><script src=\"/_nuxt/cac04cb.js\"></script><script src=\"/_nuxt/9777e7a.js\"></script><script src=\"/_nuxt/61c8f36.js\"></script><script src=\"/_nuxt/00997f9.js\"></script><script src=\"/_nuxt/304f318.js\"></script><script src=\"/_nuxt/6c440a6.js\"></script><script src=\"/_nuxt/47ff312.js\"></script><script src=\"/_nuxt/ef8380b.js\"></script><script src=\"/_nuxt/03c9a85.js\"></script><script src=\"/_nuxt/1b1b5b0.js\"></script><script src=\"/_nuxt/8616409.js\"></script><script src=\"/_nuxt/24c1de4.js\"></script><script src=\"/_nuxt/95bf7e7.js\"></script><script src=\"/_nuxt/56b0bdb.js\"></script><script src=\"/_nuxt/8b037e0.js\"></script><script src=\"/_nuxt/fc772e8.js\"></script><script src=\"/_nuxt/43ad772.js\"></script><script src=\"/_nuxt/4b51acf.js\"></script><script src=\"/_nuxt/6cc80cc.js\"></script><script src=\"/_nuxt/b51fd58.js\"></script><script src=\"/_nuxt/1726043.js\"></script><script src=\"/_nuxt/c24b895.js\"></script></body>\\n</html>\\n'"
      ]
     },
     "execution_count": 19,
     "metadata": {},
     "output_type": "execute_result"
    }
   ],
   "source": [
    "url = \"https://m.kinolights.com/title/7113/reviews\"\n",
    "# url = \"https://m.kinolights.com/title/7113\"\n",
    "res = requests.get(url)\n",
    "res.text"
   ]
  },
  {
   "cell_type": "code",
   "execution_count": 20,
   "metadata": {},
   "outputs": [],
   "source": [
    "s = BeautifulSoup(res.text, 'html.parser')"
   ]
  },
  {
   "cell_type": "code",
   "execution_count": null,
   "metadata": {},
   "outputs": [],
   "source": [
    "a = soup_kino.select_one(\"#contents > div.all-review-container > div.review-area > div:nth-child(1) > div > div.review-wrap > a:nth-child(2) > div > p\")\n"
   ]
  },
  {
   "cell_type": "code",
   "execution_count": 25,
   "metadata": {},
   "outputs": [],
   "source": [
    "s.select('#contents')\n",
    "s.select_one('#contents')"
   ]
  },
  {
   "cell_type": "code",
   "execution_count": 26,
   "metadata": {},
   "outputs": [
    {
     "data": {
      "text/plain": [
       "<!DOCTYPE html>\n",
       "\n",
       "<html>\n",
       "<head>\n",
       "<title>í¤ë\n",
       "¸ë¼ì´ì¸  â ìí ëë¼ë§ ë³´ê¸° ì  íì ì±</title><meta charset=\"utf-8\" data-n-head=\"1\"/><meta content=\"width=device-width,initial-scale=1,user-scalable=no\" data-n-head=\"1\" name=\"viewport\"/><meta content=\"yes\" data-n-head=\"1\" name=\"mobile-web-app-capable\"/><meta content=\"yes\" data-n-head=\"1\" name=\"apple-mobile-web-app-capable\"/><meta content=\"í¤ë\n",
       "¸ë¼ì´ì¸  â ìí ëë¼ë§ ë³´ê¸° ì  íì ì±\" data-n-head=\"1\" name=\"application_name\"/><meta content=\"í¤ë\n",
       "¸ë¼ì´ì¸ \" data-hid=\"author\" data-n-head=\"1\" name=\"author\"/><meta content=\"ë³´ê³  ì¶ì ìí/ëë¼ë§ ì´ëì ë³¼ ì ìëì§ 5ì´ ì´ì ì°¾ì§ ë§ì¸ì. ë·íë¦­ì¤, ì¨ì´ë¸, í°ë¹, ìì±  ë± ì£¼ì OTT ìë¹ì¤ íµí© ê²ìì í¤ë\n",
       "¸ë¼ì´ì¸ ìì!\" data-hid=\"desc\" data-n-head=\"1\" name=\"description\"/><meta content=\"ë³´ê³  ì¶ì ìí/ëë¼ë§ ì´ëì ë³¼ ì ìëì§ 5ì´ ì´ì ì°¾ì§ ë§ì¸ì. ë·íë¦­ì¤, ì¨ì´ë¸, í°ë¹, ìì±  ë± ì£¼ì OTT ìë¹ì¤ íµí© ê²ìì í¤ë\n",
       "¸ë¼ì´ì¸ ìì!\" data-hid=\"keywords\" data-n-head=\"1\" name=\"keywords\"/><meta content=\"video.movie\" data-hid=\"ogtype\" data-n-head=\"1\" property=\"og:type\"/><meta content=\"í¤ë\n",
       "¸ë¼ì´ì¸  â ìí ëë¼ë§ ë³´ê¸° ì  íì ì±\" data-hid=\"ogtitle\" data-n-head=\"1\" property=\"og:title\"/><meta content=\"ë³´ê³  ì¶ì ìí/ëë¼ë§ ì´ëì ë³¼ ì ìëì§ 5ì´ ì´ì ì°¾ì§ ë§ì¸ì. ë·íë¦­ì¤, ì¨ì´ë¸, í°ë¹, ìì±  ë± ì£¼ì OTT ìë¹ì¤ íµí© ê²ìì í¤ë\n",
       "¸ë¼ì´ì¸ ìì!\" data-hid=\"ogdesc\" data-n-head=\"1\" property=\"og:description\"/><meta content=\"í¤ë\n",
       "¸ë¼ì´ì¸  â ìí ëë¼ë§ ë³´ê¸° ì  íì ì±\" data-hid=\"twittertitle\" data-n-head=\"1\" property=\"twitter:title\"/><meta content=\"ë³´ê³  ì¶ì ìí/ëë¼ë§ ì´ëì ë³¼ ì ìëì§ 5ì´ ì´ì ì°¾ì§ ë§ì¸ì. ë·íë¦­ì¤, ì¨ì´ë¸, í°ë¹, ìì±  ë± ì£¼ì OTT ìë¹ì¤ íµí© ê²ìì í¤ë\n",
       "¸ë¼ì´ì¸ ìì!\" data-hid=\"twitterdescription\" data-n-head=\"1\" property=\"twitter:description\"/><meta content=\"https://static.kinolights.com/banner-share.png\" data-hid=\"ogimage\" data-n-head=\"1\" property=\"og:image\"/><link data-n-head=\"1\" href=\"https://nujhrcqkiwag1408085.cdn.ntruss.com/static/common/icon/favicon-33x33.png\" rel=\"icon\" sizes=\"32x32\" type=\"image/png\"/><script data-hid=\"gtm-script\" data-n-head=\"1\">window._gtm_init||(window._gtm_init=1,function(t,e,n,a,o){t[n]=1==t[n]||\"yes\"==e[n]||1==e[n]||1==e.msDoNotTrack||t[a]&&t[a][o]&&t[a][o]()?1:0}(window,navigator,\"doNotTrack\",\"external\",\"msTrackingProtectionEnabled\"),function(a,o,i,r,g){a[g]={},a._gtm_inject=function(t){var e,n;a.doNotTrack||a[g][t]||(a[g][t]=1,a[r]=a[r]||[],a[r].push({\"gtm.start\":(new Date).getTime(),event:\"gtm.js\"}),e=o.getElementsByTagName(i)[0],(n=o.createElement(i)).async=!0,n.src=\"https://www.googletagmanager.com/gtm.js?id=\"+t,e.parentNode.insertBefore(n,e))}}(window,document,\"script\",\"dataLayer\",\"_gtm_ids\"))</script><link as=\"script\" href=\"/_nuxt/bc33b81.js\" rel=\"preload\"/><link as=\"script\" href=\"/_nuxt/cb5e8b2.js\" rel=\"preload\"/><link as=\"script\" href=\"/_nuxt/0eaa7a4.js\" rel=\"preload\"/><link as=\"script\" href=\"/_nuxt/91df897.js\" rel=\"preload\"/><link as=\"script\" href=\"/_nuxt/93124df.js\" rel=\"preload\"/><link as=\"script\" href=\"/_nuxt/24575de.js\" rel=\"preload\"/><link as=\"script\" href=\"/_nuxt/cac04cb.js\" rel=\"preload\"/><link as=\"script\" href=\"/_nuxt/9777e7a.js\" rel=\"preload\"/><link as=\"script\" href=\"/_nuxt/61c8f36.js\" rel=\"preload\"/><link as=\"script\" href=\"/_nuxt/00997f9.js\" rel=\"preload\"/><link as=\"script\" href=\"/_nuxt/304f318.js\" rel=\"preload\"/><link as=\"script\" href=\"/_nuxt/6c440a6.js\" rel=\"preload\"/><link as=\"script\" href=\"/_nuxt/47ff312.js\" rel=\"preload\"/><link as=\"script\" href=\"/_nuxt/ef8380b.js\" rel=\"preload\"/><link as=\"script\" href=\"/_nuxt/03c9a85.js\" rel=\"preload\"/><link as=\"script\" href=\"/_nuxt/1b1b5b0.js\" rel=\"preload\"/><link as=\"script\" href=\"/_nuxt/8616409.js\" rel=\"preload\"/><link as=\"script\" href=\"/_nuxt/24c1de4.js\" rel=\"preload\"/><link as=\"script\" href=\"/_nuxt/95bf7e7.js\" rel=\"preload\"/><link as=\"script\" href=\"/_nuxt/56b0bdb.js\" rel=\"preload\"/><link as=\"script\" href=\"/_nuxt/8b037e0.js\" rel=\"preload\"/><link as=\"script\" href=\"/_nuxt/fc772e8.js\" rel=\"preload\"/><link as=\"script\" href=\"/_nuxt/43ad772.js\" rel=\"preload\"/><link as=\"script\" href=\"/_nuxt/4b51acf.js\" rel=\"preload\"/><link as=\"script\" href=\"/_nuxt/6cc80cc.js\" rel=\"preload\"/><link as=\"script\" href=\"/_nuxt/b51fd58.js\" rel=\"preload\"/><link as=\"script\" href=\"/_nuxt/1726043.js\" rel=\"preload\"/><link as=\"script\" href=\"/_nuxt/c24b895.js\" rel=\"preload\"/>\n",
       "</head>\n",
       "<body>\n",
       "<noscript data-hid=\"gtm-noscript\" data-n-head=\"1\" data-pbody=\"true\"></noscript><div id=\"__nuxt\"><style>#nuxt-loading{background:#fff;visibility:hidden;opacity:0;position:absolute;left:0;right:0;top:0;bottom:0;display:flex;justify-content:center;align-items:center;flex-direction:column;animation:nuxtLoadingIn 10s ease;-webkit-animation:nuxtLoadingIn 10s ease;animation-fill-mode:forwards;overflow:hidden}@keyframes nuxtLoadingIn{0%{visibility:hidden;opacity:0}20%{visibility:visible;opacity:0}100%{visibility:visible;opacity:1}}@-webkit-keyframes nuxtLoadingIn{0%{visibility:hidden;opacity:0}20%{visibility:visible;opacity:0}100%{visibility:visible;opacity:1}}#nuxt-loading>div,#nuxt-loading>div:after{border-radius:50%;width:5rem;height:5rem}#nuxt-loading>div{font-size:10px;position:relative;text-indent:-9999em;border:.5rem solid #f5f5f5;border-left:.5rem solid #d3d3d3;-webkit-transform:translateZ(0);-ms-transform:translateZ(0);transform:translateZ(0);-webkit-animation:nuxtLoading 1.1s infinite linear;animation:nuxtLoading 1.1s infinite linear}#nuxt-loading.error>div{border-left:.5rem solid #ff4500;animation-duration:5s}@-webkit-keyframes nuxtLoading{0%{-webkit-transform:rotate(0);transform:rotate(0)}100%{-webkit-transform:rotate(360deg);transform:rotate(360deg)}}@keyframes nuxtLoading{0%{-webkit-transform:rotate(0);transform:rotate(0)}100%{-webkit-transform:rotate(360deg);transform:rotate(360deg)}}</style><script>window.addEventListener(\"error\",function(){var e=document.getElementById(\"nuxt-loading\");e&&(e.className+=\" error\")})</script><div aria-live=\"polite\" id=\"nuxt-loading\" role=\"status\"><div>Loading...</div></div></div><script>window.__NUXT__=function(i){return{config:{isProd:!0,isDev:!1,baseURL:\"https://api.kinolights.com\",clickURL:\"https://click.kinolights.com\",snsRedirectUrl:\"https://api.kinolights.com/v1/user/\",appleRedirectUrl:\"https://m.kinolights.com\",appVersionInReview:\"1.2.5\",appVersionInForce:i,appVersionInRecommend:i,linkidUrl:\"https://linkid.pw/event/bridgePage?eventid=10002&cid=kinolights_01&cvalue=\",googleAnalyticsId:\"UA-111657493-1\",kinoLoadImgUrl:\"https://nujhrcqkiwag1408085.cdn.ntruss.com/static/common/poster_lazyload.png\",_app:{basePath:\"/\",assetsPath:\"/_nuxt/\",cdnURL:null}}}}(\"1.2.3\")</script>\n",
       "<script src=\"/_nuxt/bc33b81.js\"></script><script src=\"/_nuxt/cb5e8b2.js\"></script><script src=\"/_nuxt/0eaa7a4.js\"></script><script src=\"/_nuxt/91df897.js\"></script><script src=\"/_nuxt/93124df.js\"></script><script src=\"/_nuxt/24575de.js\"></script><script src=\"/_nuxt/cac04cb.js\"></script><script src=\"/_nuxt/9777e7a.js\"></script><script src=\"/_nuxt/61c8f36.js\"></script><script src=\"/_nuxt/00997f9.js\"></script><script src=\"/_nuxt/304f318.js\"></script><script src=\"/_nuxt/6c440a6.js\"></script><script src=\"/_nuxt/47ff312.js\"></script><script src=\"/_nuxt/ef8380b.js\"></script><script src=\"/_nuxt/03c9a85.js\"></script><script src=\"/_nuxt/1b1b5b0.js\"></script><script src=\"/_nuxt/8616409.js\"></script><script src=\"/_nuxt/24c1de4.js\"></script><script src=\"/_nuxt/95bf7e7.js\"></script><script src=\"/_nuxt/56b0bdb.js\"></script><script src=\"/_nuxt/8b037e0.js\"></script><script src=\"/_nuxt/fc772e8.js\"></script><script src=\"/_nuxt/43ad772.js\"></script><script src=\"/_nuxt/4b51acf.js\"></script><script src=\"/_nuxt/6cc80cc.js\"></script><script src=\"/_nuxt/b51fd58.js\"></script><script src=\"/_nuxt/1726043.js\"></script><script src=\"/_nuxt/c24b895.js\"></script></body>\n",
       "</html>"
      ]
     },
     "execution_count": 26,
     "metadata": {},
     "output_type": "execute_result"
    }
   ],
   "source": [
    "s"
   ]
  },
  {
   "cell_type": "code",
   "execution_count": 2,
   "metadata": {},
   "outputs": [
    {
     "data": {
      "text/plain": [
       "<!DOCTYPE html>\n",
       "<html>\n",
       "<head>\n",
       "<title>키노라이츠 – 영화 드라마 보기 전 필수 앱</title><meta charset=\"utf-8\" data-n-head=\"1\"/><meta content=\"width=device-width,initial-scale=1,user-scalable=no\" data-n-head=\"1\" name=\"viewport\"/><meta content=\"yes\" data-n-head=\"1\" name=\"mobile-web-app-capable\"/><meta content=\"yes\" data-n-head=\"1\" name=\"apple-mobile-web-app-capable\"/><meta content=\"키노라이츠 – 영화 드라마 보기 전 필수 앱\" data-n-head=\"1\" name=\"application_name\"/><meta content=\"키노라이츠\" data-hid=\"author\" data-n-head=\"1\" name=\"author\"/><meta content=\"보고 싶은 영화/드라마 어디서 볼 수 있는지 5초 이상 찾지 마세요. 넷플릭스, 웨이브, 티빙, 왓챠 등 주요 OTT 서비스 통합 검색은 키노라이츠에서!\" data-hid=\"desc\" data-n-head=\"1\" name=\"description\"/><meta content=\"보고 싶은 영화/드라마 어디서 볼 수 있는지 5초 이상 찾지 마세요. 넷플릭스, 웨이브, 티빙, 왓챠 등 주요 OTT 서비스 통합 검색은 키노라이츠에서!\" data-hid=\"keywords\" data-n-head=\"1\" name=\"keywords\"/><meta content=\"video.movie\" data-hid=\"ogtype\" data-n-head=\"1\" property=\"og:type\"/><meta content=\"키노라이츠 – 영화 드라마 보기 전 필수 앱\" data-hid=\"ogtitle\" data-n-head=\"1\" property=\"og:title\"/><meta content=\"보고 싶은 영화/드라마 어디서 볼 수 있는지 5초 이상 찾지 마세요. 넷플릭스, 웨이브, 티빙, 왓챠 등 주요 OTT 서비스 통합 검색은 키노라이츠에서!\" data-hid=\"ogdesc\" data-n-head=\"1\" property=\"og:description\"/><meta content=\"키노라이츠 – 영화 드라마 보기 전 필수 앱\" data-hid=\"twittertitle\" data-n-head=\"1\" property=\"twitter:title\"/><meta content=\"보고 싶은 영화/드라마 어디서 볼 수 있는지 5초 이상 찾지 마세요. 넷플릭스, 웨이브, 티빙, 왓챠 등 주요 OTT 서비스 통합 검색은 키노라이츠에서!\" data-hid=\"twitterdescription\" data-n-head=\"1\" property=\"twitter:description\"/><meta content=\"https://static.kinolights.com/banner-share.png\" data-hid=\"ogimage\" data-n-head=\"1\" property=\"og:image\"/><link data-n-head=\"1\" href=\"https://nujhrcqkiwag1408085.cdn.ntruss.com/static/common/icon/favicon-33x33.png\" rel=\"icon\" sizes=\"32x32\" type=\"image/png\"/><script data-hid=\"gtm-script\" data-n-head=\"1\">window._gtm_init||(window._gtm_init=1,function(t,e,n,a,o){t[n]=1==t[n]||\"yes\"==e[n]||1==e[n]||1==e.msDoNotTrack||t[a]&&t[a][o]&&t[a][o]()?1:0}(window,navigator,\"doNotTrack\",\"external\",\"msTrackingProtectionEnabled\"),function(a,o,i,r,g){a[g]={},a._gtm_inject=function(t){var e,n;a.doNotTrack||a[g][t]||(a[g][t]=1,a[r]=a[r]||[],a[r].push({\"gtm.start\":(new Date).getTime(),event:\"gtm.js\"}),e=o.getElementsByTagName(i)[0],(n=o.createElement(i)).async=!0,n.src=\"https://www.googletagmanager.com/gtm.js?id=\"+t,e.parentNode.insertBefore(n,e))}}(window,document,\"script\",\"dataLayer\",\"_gtm_ids\"))</script><link as=\"script\" href=\"/_nuxt/bc33b81.js\" rel=\"preload\"/><link as=\"script\" href=\"/_nuxt/cb5e8b2.js\" rel=\"preload\"/><link as=\"script\" href=\"/_nuxt/0eaa7a4.js\" rel=\"preload\"/><link as=\"script\" href=\"/_nuxt/91df897.js\" rel=\"preload\"/><link as=\"script\" href=\"/_nuxt/93124df.js\" rel=\"preload\"/><link as=\"script\" href=\"/_nuxt/24575de.js\" rel=\"preload\"/><link as=\"script\" href=\"/_nuxt/cac04cb.js\" rel=\"preload\"/><link as=\"script\" href=\"/_nuxt/9777e7a.js\" rel=\"preload\"/><link as=\"script\" href=\"/_nuxt/61c8f36.js\" rel=\"preload\"/><link as=\"script\" href=\"/_nuxt/00997f9.js\" rel=\"preload\"/><link as=\"script\" href=\"/_nuxt/304f318.js\" rel=\"preload\"/><link as=\"script\" href=\"/_nuxt/6c440a6.js\" rel=\"preload\"/><link as=\"script\" href=\"/_nuxt/47ff312.js\" rel=\"preload\"/><link as=\"script\" href=\"/_nuxt/ef8380b.js\" rel=\"preload\"/><link as=\"script\" href=\"/_nuxt/03c9a85.js\" rel=\"preload\"/><link as=\"script\" href=\"/_nuxt/1b1b5b0.js\" rel=\"preload\"/><link as=\"script\" href=\"/_nuxt/8616409.js\" rel=\"preload\"/><link as=\"script\" href=\"/_nuxt/24c1de4.js\" rel=\"preload\"/><link as=\"script\" href=\"/_nuxt/95bf7e7.js\" rel=\"preload\"/><link as=\"script\" href=\"/_nuxt/56b0bdb.js\" rel=\"preload\"/><link as=\"script\" href=\"/_nuxt/8b037e0.js\" rel=\"preload\"/><link as=\"script\" href=\"/_nuxt/fc772e8.js\" rel=\"preload\"/><link as=\"script\" href=\"/_nuxt/43ad772.js\" rel=\"preload\"/><link as=\"script\" href=\"/_nuxt/4b51acf.js\" rel=\"preload\"/><link as=\"script\" href=\"/_nuxt/6cc80cc.js\" rel=\"preload\"/><link as=\"script\" href=\"/_nuxt/b51fd58.js\" rel=\"preload\"/><link as=\"script\" href=\"/_nuxt/1726043.js\" rel=\"preload\"/><link as=\"script\" href=\"/_nuxt/c24b895.js\" rel=\"preload\"/>\n",
       "</head>\n",
       "<body>\n",
       "<noscript data-hid=\"gtm-noscript\" data-n-head=\"1\" data-pbody=\"true\"></noscript><div id=\"__nuxt\"><style>#nuxt-loading{background:#fff;visibility:hidden;opacity:0;position:absolute;left:0;right:0;top:0;bottom:0;display:flex;justify-content:center;align-items:center;flex-direction:column;animation:nuxtLoadingIn 10s ease;-webkit-animation:nuxtLoadingIn 10s ease;animation-fill-mode:forwards;overflow:hidden}@keyframes nuxtLoadingIn{0%{visibility:hidden;opacity:0}20%{visibility:visible;opacity:0}100%{visibility:visible;opacity:1}}@-webkit-keyframes nuxtLoadingIn{0%{visibility:hidden;opacity:0}20%{visibility:visible;opacity:0}100%{visibility:visible;opacity:1}}#nuxt-loading>div,#nuxt-loading>div:after{border-radius:50%;width:5rem;height:5rem}#nuxt-loading>div{font-size:10px;position:relative;text-indent:-9999em;border:.5rem solid #f5f5f5;border-left:.5rem solid #d3d3d3;-webkit-transform:translateZ(0);-ms-transform:translateZ(0);transform:translateZ(0);-webkit-animation:nuxtLoading 1.1s infinite linear;animation:nuxtLoading 1.1s infinite linear}#nuxt-loading.error>div{border-left:.5rem solid #ff4500;animation-duration:5s}@-webkit-keyframes nuxtLoading{0%{-webkit-transform:rotate(0);transform:rotate(0)}100%{-webkit-transform:rotate(360deg);transform:rotate(360deg)}}@keyframes nuxtLoading{0%{-webkit-transform:rotate(0);transform:rotate(0)}100%{-webkit-transform:rotate(360deg);transform:rotate(360deg)}}</style><script>window.addEventListener(\"error\",function(){var e=document.getElementById(\"nuxt-loading\");e&&(e.className+=\" error\")})</script><div aria-live=\"polite\" id=\"nuxt-loading\" role=\"status\"><div>Loading...</div></div></div><script>window.__NUXT__=function(i){return{config:{isProd:!0,isDev:!1,baseURL:\"https://api.kinolights.com\",clickURL:\"https://click.kinolights.com\",snsRedirectUrl:\"https://api.kinolights.com/v1/user/\",appleRedirectUrl:\"https://m.kinolights.com\",appVersionInReview:\"1.2.5\",appVersionInForce:i,appVersionInRecommend:i,linkidUrl:\"https://linkid.pw/event/bridgePage?eventid=10002&cid=kinolights_01&cvalue=\",googleAnalyticsId:\"UA-111657493-1\",kinoLoadImgUrl:\"https://nujhrcqkiwag1408085.cdn.ntruss.com/static/common/poster_lazyload.png\",_app:{basePath:\"/\",assetsPath:\"/_nuxt/\",cdnURL:null}}}}(\"1.2.3\")</script>\n",
       "<script src=\"/_nuxt/bc33b81.js\"></script><script src=\"/_nuxt/cb5e8b2.js\"></script><script src=\"/_nuxt/0eaa7a4.js\"></script><script src=\"/_nuxt/91df897.js\"></script><script src=\"/_nuxt/93124df.js\"></script><script src=\"/_nuxt/24575de.js\"></script><script src=\"/_nuxt/cac04cb.js\"></script><script src=\"/_nuxt/9777e7a.js\"></script><script src=\"/_nuxt/61c8f36.js\"></script><script src=\"/_nuxt/00997f9.js\"></script><script src=\"/_nuxt/304f318.js\"></script><script src=\"/_nuxt/6c440a6.js\"></script><script src=\"/_nuxt/47ff312.js\"></script><script src=\"/_nuxt/ef8380b.js\"></script><script src=\"/_nuxt/03c9a85.js\"></script><script src=\"/_nuxt/1b1b5b0.js\"></script><script src=\"/_nuxt/8616409.js\"></script><script src=\"/_nuxt/24c1de4.js\"></script><script src=\"/_nuxt/95bf7e7.js\"></script><script src=\"/_nuxt/56b0bdb.js\"></script><script src=\"/_nuxt/8b037e0.js\"></script><script src=\"/_nuxt/fc772e8.js\"></script><script src=\"/_nuxt/43ad772.js\"></script><script src=\"/_nuxt/4b51acf.js\"></script><script src=\"/_nuxt/6cc80cc.js\"></script><script src=\"/_nuxt/b51fd58.js\"></script><script src=\"/_nuxt/1726043.js\"></script><script src=\"/_nuxt/c24b895.js\"></script></body>\n",
       "</html>"
      ]
     },
     "execution_count": 2,
     "metadata": {},
     "output_type": "execute_result"
    }
   ],
   "source": [
    "soup_kino = BeautifulSoup(res_kino.content, 'lxml')\n",
    "soup_kino"
   ]
  },
  {
   "cell_type": "code",
   "execution_count": 3,
   "metadata": {},
   "outputs": [
    {
     "name": "stdout",
     "output_type": "stream",
     "text": [
      "None\n"
     ]
    }
   ],
   "source": [
    "a = soup_kino.select_one(\"#contents > div.all-review-container > div.review-area > div:nth-child(1) > div > div.review-wrap > a:nth-child(2) > div > p\")\n",
    "\n",
    "# soup_kino\n",
    "\n",
    "\n",
    "# #contents > div.all-review-container > div.review-area > div:nth-child(1) > div > div.review-wrap > a:nth-child(2) > div > p\n",
    "\n",
    "# //*[@id=\"contents\"]/div[2]/div[2]/div[1]/div/div[2]/a[2]/div/p\n",
    "print(a)\n",
    "#contents > div.all-review-container > div.review-area > div:nth-child(1) > div > div.review-wrap > a:nth-child(2) > div > p"
   ]
  },
  {
   "cell_type": "code",
   "execution_count": null,
   "metadata": {},
   "outputs": [],
   "source": []
  },
  {
   "cell_type": "code",
   "execution_count": 7,
   "metadata": {},
   "outputs": [
    {
     "ename": "AttributeError",
     "evalue": "ResultSet object has no attribute 'text'. You're probably treating a list of elements like a single element. Did you call find_all() when you meant to call find()?",
     "output_type": "error",
     "traceback": [
      "\u001b[1;31m---------------------------------------------------------------------------\u001b[0m",
      "\u001b[1;31mAttributeError\u001b[0m                            Traceback (most recent call last)",
      "\u001b[1;32mc:\\Users\\jlune\\carbon\\01.MachineLearning\\91.크롤링\\test.ipynb Cell 5'\u001b[0m in \u001b[0;36m<cell line: 1>\u001b[1;34m()\u001b[0m\n\u001b[1;32m----> <a href='vscode-notebook-cell:/c%3A/Users/jlune/carbon/01.MachineLearning/91.%ED%81%AC%EB%A1%A4%EB%A7%81/test.ipynb#ch0000004?line=0'>1</a>\u001b[0m soup_kino\u001b[39m.\u001b[39;49mselect(\u001b[39m\"\u001b[39;49m\u001b[39m#contents > div\u001b[39;49m\u001b[39m\"\u001b[39;49m)\u001b[39m.\u001b[39;49mtext()\n",
      "File \u001b[1;32mC:\\ProgramData\\Anaconda3\\lib\\site-packages\\bs4\\element.py:2173\u001b[0m, in \u001b[0;36mResultSet.__getattr__\u001b[1;34m(self, key)\u001b[0m\n\u001b[0;32m   <a href='file:///c%3A/ProgramData/Anaconda3/lib/site-packages/bs4/element.py?line=2170'>2171</a>\u001b[0m \u001b[39mdef\u001b[39;00m \u001b[39m__getattr__\u001b[39m(\u001b[39mself\u001b[39m, key):\n\u001b[0;32m   <a href='file:///c%3A/ProgramData/Anaconda3/lib/site-packages/bs4/element.py?line=2171'>2172</a>\u001b[0m     \u001b[39m\"\"\"Raise a helpful exception to explain a common code fix.\"\"\"\u001b[39;00m\n\u001b[1;32m-> <a href='file:///c%3A/ProgramData/Anaconda3/lib/site-packages/bs4/element.py?line=2172'>2173</a>\u001b[0m     \u001b[39mraise\u001b[39;00m \u001b[39mAttributeError\u001b[39;00m(\n\u001b[0;32m   <a href='file:///c%3A/ProgramData/Anaconda3/lib/site-packages/bs4/element.py?line=2173'>2174</a>\u001b[0m         \u001b[39m\"\u001b[39m\u001b[39mResultSet object has no attribute \u001b[39m\u001b[39m'\u001b[39m\u001b[39m%s\u001b[39;00m\u001b[39m'\u001b[39m\u001b[39m. You\u001b[39m\u001b[39m'\u001b[39m\u001b[39mre probably treating a list of elements like a single element. Did you call find_all() when you meant to call find()?\u001b[39m\u001b[39m\"\u001b[39m \u001b[39m%\u001b[39m key\n\u001b[0;32m   <a href='file:///c%3A/ProgramData/Anaconda3/lib/site-packages/bs4/element.py?line=2174'>2175</a>\u001b[0m     )\n",
      "\u001b[1;31mAttributeError\u001b[0m: ResultSet object has no attribute 'text'. You're probably treating a list of elements like a single element. Did you call find_all() when you meant to call find()?"
     ]
    }
   ],
   "source": [
    "soup_kino.select(\"#contents > div\").text()"
   ]
  },
  {
   "cell_type": "code",
   "execution_count": null,
   "metadata": {},
   "outputs": [],
   "source": []
  }
 ],
 "metadata": {
  "interpreter": {
   "hash": "b3ba2566441a7c06988d0923437866b63cedc61552a5af99d1f4fb67d367b25f"
  },
  "kernelspec": {
   "display_name": "Python 3.8.8 ('base')",
   "language": "python",
   "name": "python3"
  },
  "language_info": {
   "codemirror_mode": {
    "name": "ipython",
    "version": 3
   },
   "file_extension": ".py",
   "mimetype": "text/x-python",
   "name": "python",
   "nbconvert_exporter": "python",
   "pygments_lexer": "ipython3",
   "version": "3.8.8"
  },
  "orig_nbformat": 4
 },
 "nbformat": 4,
 "nbformat_minor": 2
}
