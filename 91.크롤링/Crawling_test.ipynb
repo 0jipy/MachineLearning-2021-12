{
 "cells": [
  {
   "cell_type": "code",
   "execution_count": 5,
   "metadata": {},
   "outputs": [
    {
     "data": {
      "text/plain": [
       "['dyun',\n",
       " 'ssing2gedeo',\n",
       " 'murder-on-the-orient-express',\n",
       " 'benom-2-res-deeo-bi-kaniji',\n",
       " 'peurenci-diseupaeci',\n",
       " 'gyeonggwanyi-pi',\n",
       " 'deo-raseuteu-dyueol',\n",
       " 'yeonae-bbajin-romaenseu']"
      ]
     },
     "execution_count": 5,
     "metadata": {},
     "output_type": "execute_result"
    }
   ],
   "source": [
    "key_list = [\"dyun\", \"ssing2gedeo\", \"murder-on-the-orient-express\", \"benom-2-res-deeo-bi-kaniji\", \n",
    "\"peurenci-diseupaeci\", \"gyeonggwanyi-pi\", \"deo-raseuteu-dyueol\", \"yeonae-bbajin-romaenseu\"]\n",
    "key_list"
   ]
  },
  {
   "cell_type": "code",
   "execution_count": 16,
   "metadata": {},
   "outputs": [],
   "source": [
    "rate_list = []\n",
    "genre_list = []\n",
    "runtime_list = []\n",
    "director_list = []"
   ]
  },
  {
   "cell_type": "code",
   "execution_count": 17,
   "metadata": {},
   "outputs": [
    {
     "name": "stdout",
     "output_type": "stream",
     "text": [
      "평점 90%  8.1 (495k) 장르SF , 액션 , 드라마 재생 시간2시간 35분 감독 Denis Villeneuve\n",
      "평점 90%  7.5 (35k) 장르애니메이션 , 코미디 , 가족 , 드라마 , 판타지 , 음악 재생 시간1시간 52분 감독 Garth Jennings\n",
      "평점 74%  6.5 (235k) 장르드라마 , 범죄 , 스릴러 재생 시간1시간 54분 감독 Kenneth Branagh\n",
      "평점 77%  6.0 (177k) 장르SF , 액션 , 스릴러 , 코미디 , 공포 재생 시간1시간 37분 감독 Andy Serkis\n",
      "평점 80%  7.2 장르코미디 , 드라마 , 로맨스 , 다큐멘터리 재생 시간1시간 47분 감독 Wes Anderson\n",
      "평점 67%  6.0 장르스릴러 , 범죄 , 드라마 재생 시간1시간 59분 감독 Lee Kyu-man\n",
      "평점 84%  7.4 (122k) 장르액션 , 드라마 , 역사 , 스릴러 재생 시간2시간 33분 감독 Ridley Scott\n",
      "평점 67%  6.0 장르로맨스 , 코미디 , 드라마 재생 시간1시간 35분 감독 Jeong Ga-young\n"
     ]
    }
   ],
   "source": [
    "# 1900개 이상하면 중간에 멈춤, 처리할수있는 용량의 문제가 있는 것인가?\n",
    "from urllib.request import urlopen\n",
    "from bs4 import BeautifulSoup\n",
    "import urllib.request\n",
    "\n",
    "def get_soup(target_url):\n",
    "    html = urllib.request.urlopen(target_url).read()\n",
    "    soup = BeautifulSoup(html, \"html.parser\")\n",
    "    return soup\n",
    "\n",
    "def extract_data(soup):\n",
    "    detail_info = soup.find(\"div\", {\"class\": \"title-info visible-xs visible-sm\"})\n",
    "    divs = detail_info.find_all(\"div\")\n",
    "    \n",
    "    # for div in divs: #for 문을 돌아야 할 이유 없어보여.\n",
    "    div_2 = soup.find_all(\"div\", class_=\"detail-infos\")\n",
    "    rate = div_2[0].text.strip()\n",
    "    genre = div_2[1].text.strip()\n",
    "    runtime = div_2[2].text.strip()\n",
    "    director = div_2[3].text.strip()\n",
    "        # 추가\n",
    "    rate_list.append(rate)\n",
    "    genre_list.append(genre)\n",
    "    runtime_list.append(runtime)\n",
    "    director_list.append(director)\n",
    "\n",
    "    print(rate, genre, runtime, director)\n",
    "\n",
    "for i in key_list:\n",
    "    target_url = \"https://www.justwatch.com/kr/%EC%98%81%ED%99%94/{}\".format(i)\n",
    "    soup = get_soup(target_url)\n",
    "    extract_data(soup)"
   ]
  },
  {
   "cell_type": "code",
   "execution_count": 18,
   "metadata": {},
   "outputs": [
    {
     "data": {
      "text/plain": [
       "['평점 90%  8.1 (495k)',\n",
       " '평점 90%  7.5 (35k)',\n",
       " '평점 74%  6.5 (235k)',\n",
       " '평점 77%  6.0 (177k)',\n",
       " '평점 80%  7.2',\n",
       " '평점 67%  6.0',\n",
       " '평점 84%  7.4 (122k)',\n",
       " '평점 67%  6.0']"
      ]
     },
     "execution_count": 18,
     "metadata": {},
     "output_type": "execute_result"
    }
   ],
   "source": [
    "rate_list"
   ]
  },
  {
   "cell_type": "code",
   "execution_count": null,
   "metadata": {},
   "outputs": [],
   "source": []
  }
 ],
 "metadata": {
  "interpreter": {
   "hash": "b3ba2566441a7c06988d0923437866b63cedc61552a5af99d1f4fb67d367b25f"
  },
  "kernelspec": {
   "display_name": "Python 3.8.8 ('base')",
   "language": "python",
   "name": "python3"
  },
  "language_info": {
   "codemirror_mode": {
    "name": "ipython",
    "version": 3
   },
   "file_extension": ".py",
   "mimetype": "text/x-python",
   "name": "python",
   "nbconvert_exporter": "python",
   "pygments_lexer": "ipython3",
   "version": "3.8.8"
  },
  "orig_nbformat": 4
 },
 "nbformat": 4,
 "nbformat_minor": 2
}
