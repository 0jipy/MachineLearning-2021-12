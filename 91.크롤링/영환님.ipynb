{
 "cells": [
  {
   "cell_type": "code",
   "execution_count": 311,
   "metadata": {},
   "outputs": [],
   "source": [
    "from urllib.request import urlopen"
   ]
  },
  {
   "cell_type": "code",
   "execution_count": 312,
   "metadata": {},
   "outputs": [],
   "source": [
    "html = urlopen(\"https://www.justwatch.com/kr/%EC%98%81%ED%99%94/dyun\")"
   ]
  },
  {
   "cell_type": "code",
   "execution_count": 313,
   "metadata": {},
   "outputs": [],
   "source": [
    "from bs4 import BeautifulSoup\n",
    "from urllib.request import urlopen"
   ]
  },
  {
   "cell_type": "code",
   "execution_count": 314,
   "metadata": {},
   "outputs": [],
   "source": [
    "html = urlopen(\"https://www.justwatch.com/kr/%EC%98%81%ED%99%94/dyun\")\n",
    "bsObj = BeautifulSoup(html)\n"
   ]
  },
  {
   "cell_type": "code",
   "execution_count": null,
   "metadata": {},
   "outputs": [],
   "source": [
    "print(bsObj.find({\"aside\"}))"
   ]
  },
  {
   "cell_type": "markdown",
   "metadata": {},
   "source": [
    "### BeautifulSoup 사용해서 저스트와치 상세페이지 포스터 이미지 다운로드"
   ]
  },
  {
   "cell_type": "code",
   "execution_count": 380,
   "metadata": {},
   "outputs": [
    {
     "data": {
      "text/plain": [
       "('반지의 제왕: 반지 원정대.jpg', <http.client.HTTPMessage at 0x168b8bbb7f0>)"
      ]
     },
     "execution_count": 380,
     "metadata": {},
     "output_type": "execute_result"
    }
   ],
   "source": [
    "import urllib.request\n",
    "from bs4 import BeautifulSoup\n",
    "\n",
    "url = \"https://www.justwatch.com/kr/%EC%98%81%ED%99%94/banjiyi-jewang-banji-weonjeongdae\"\n",
    "req = urllib.request.Request(url)\n",
    "res = urllib.request.urlopen(url).read()\n",
    "\n",
    "# soup을 이용해 url를 parser\n",
    "soup = BeautifulSoup(res, 'html.parser')\n",
    "# 포스터 태그로 이동\n",
    "poster = soup.find(\"div\", class_=\"title-poster title-poster--no-radius-bottom\")\n",
    "# 포스터 태그에서 img의 경로를 받아온다\n",
    "img_url = poster.find(\"img\")[\"data-src\"]\n",
    "\n",
    "# urlretrieve는 다운로드 함수\n",
    "# img.alt 는 이미지 대체 텍스 == 듄\n",
    "urllib.request.urlretrieve(img_url, poster.find(\"img\")[\"alt\"]+'.jpg')"
   ]
  },
  {
   "cell_type": "code",
   "execution_count": 317,
   "metadata": {},
   "outputs": [
    {
     "name": "stdout",
     "output_type": "stream",
     "text": [
      " 듄   (2021)  원제: Dune\n"
     ]
    }
   ],
   "source": [
    "# title 태그로 이동\n",
    "title = soup.find(\"div\", class_=\"title-block\")\n",
    "# title태그에서 제목 \n",
    "title_kor = title.find(\"h1\").get_text()\n",
    "# title태그에서 개봉일\n",
    "opening_data = title.find(\"span\", class_=\"text-muted\").get_text()\n",
    "# title태그에서 원제 가져오기\n",
    "origin_title = title.find(\"h3\").get_text()\n",
    "\n",
    "\n",
    "print(title_kor, opening_data, origin_title)\n"
   ]
  },
  {
   "cell_type": "markdown",
   "metadata": {},
   "source": [
    "### 세부정보는 통으로 크롤링이 가능하지만 DT로 분류시에 문제가 발생할 가능성이 있음\n",
    "ex) ㅣ장르ㅣ SF, 액션, 드라마 와 같은 형태로 불러와질수있도록 해야할것같음"
   ]
  },
  {
   "cell_type": "code",
   "execution_count": null,
   "metadata": {},
   "outputs": [],
   "source": [
    "soup = BeautifulSoup(res, 'html.parser')\n",
    "# detail info태그로 이동\n",
    "rate = soup.find_all(\"div\", class_=\"detail-infos\")\n",
    "print(rate)"
   ]
  },
  {
   "cell_type": "code",
   "execution_count": null,
   "metadata": {},
   "outputs": [],
   "source": [
    "genre = rate.next_sibling()\n",
    "print(rate)"
   ]
  },
  {
   "cell_type": "code",
   "execution_count": 320,
   "metadata": {},
   "outputs": [
    {
     "name": "stdout",
     "output_type": "stream",
     "text": [
      "재생 시간2시간 35분\n"
     ]
    }
   ],
   "source": [
    "run_time = test1.next_sibling.next_sibling.get_text()\n",
    "print(run_time)"
   ]
  },
  {
   "cell_type": "code",
   "execution_count": 321,
   "metadata": {},
   "outputs": [
    {
     "name": "stdout",
     "output_type": "stream",
     "text": [
      " Timothée Chalamet Paul Atreides Rebecca Ferguson Lady Jessica Atreides Oscar Isaac Duke Leto Atreides Josh Brolin Gurney Halleck Stellan Skarsgård Baron Vladimir Harkonnen Dave Bautista Beast Rabban Harkonnen Sharon Duncan-Brewster Dr. Liet Kynes Stephen McKinley Henderson Thufir Hawat Zendaya Chani Chang Chen Dr. Wellington Yueh Charlotte Rampling Reverend Mother Gaius Helen Mohiam Jason Momoa Duncan Idaho Javier Bardem Stilgar David Dastmalchian Piter de Vries Babs Olusanmokun Jamis Golda Rosheuvel Shadout Mapes Roger Yuan Lieutenant Lanville Benjamin Clémentine Herald of the Change Souad Faress Bene Gesserit Sister Seun Shote Arrakeen Residency Gardener Neil Bell Sardaukar Bashar Oliver Ryan Hawat Specialist Stephen Collins Harkonnen Trooper Charlie Rawes Harkonnen Trooper Richard Carter Harkonnen Trooper Benjamin Dilloway Sardaukar Assassin Elmi Rashid Elmi Shamir Tachia Newall Tanat Gloria Obianyo Female Fremen Fehinti Balogun Male Fremen Dora Kápolnai-Schvab Baron Servant Joelle Amery Baron Servant Jimmy Walker Atreides Lieutenant Paul Bullion Sardaukar Soldier Milena Sidorova Human Spider Proxy János Timkó Harkonnen Guard Jean Gilpin Bene Gesserit Ancestor (voice) Marianne Faithfull Bene Gesserit Ancestor (voice) Ellen Dubin Bene Gesserit Ancestor (voice)\n"
     ]
    }
   ],
   "source": [
    "# 출연진 가져오기 - 배우실명과 역 이름 한번에 가져와짐\n",
    "actor = soup.find(\"div\", class_=\"hidden-horizontal-scrollbar title-credits\")\n",
    "print(actor.get_text())"
   ]
  },
  {
   "cell_type": "code",
   "execution_count": 362,
   "metadata": {},
   "outputs": [
    {
     "name": "stdout",
     "output_type": "stream",
     "text": [
      "호빗이라 불리우는 난장이 종족 중의 한 명인 프로도는 자신의 삼촌에게서 우연히 절대 반지를 물려받게 되고, 마법사 간달프를 통해서 절대반지가 사우론의 손에 들어가면 악의 세력이 세상을 지배하게 된다는 것을 알게 된다. 하지만 절대반지를 영원히 파괴할 수 있는 유일한 방법은 반지가 만들어진 불의 산의 용암에 그것을 던져 넣는 길 뿐이다. 마침내 프로도와 그의 친구들, 엘프족인 레골라스, 난장이족 김리, 두명의 인간 전사 아라곤과 보로미르, 그리고 마법사 간달프로 구성된 반지 원정대가 길고도 험난한 여정을 떠나게 되는데...\n"
     ]
    }
   ],
   "source": [
    "# 시놉시스 copy-selector 로 가져오기 \n",
    "# 가장 마지막 부분의 있는 :nth-child()  부분은 지워주어야함\n",
    "# 예시) #base > div.jw-info-box > div > div.jw-info-box__container-content > div:nth-child(2) > div:nth-child(6) > div:nth-child(1) > div:nth-child() <- 이곳 마지막부분을 지워야함 > p > span\n",
    "synopsis = soup.select(\"#base > div.jw-info-box > div > div.jw-info-box__container-content > div:nth-child(2) > div:nth-child(6) > div:nth-child(1) > div > p > span\")\n",
    "print(synopsis[0].get_text())"
   ]
  },
  {
   "cell_type": "code",
   "execution_count": 323,
   "metadata": {},
   "outputs": [
    {
     "name": "stdout",
     "output_type": "stream",
     "text": [
      "평점 90%  8.1 (495k) 장르SF , 액션 , 드라마 재생 시간2시간 35분 감독 Denis Villeneuve\n"
     ]
    }
   ],
   "source": [
    "# 가져와야 할 detail_info 정보의 태그를 가져온다\n",
    "detail_info = soup.find(\"div\", {\"class\": \"title-info visible-xs visible-sm\"})\n",
    "divs = detail_info.find_all(\"div\")\n",
    "for div in divs:\n",
    "        div_2 = soup.find_all(\"div\", class_=\"detail-infos\")\n",
    "        rate = div_2[0].text.strip()\n",
    "        genre = div_2[1].text.strip()\n",
    "        runtime = div_2[2].text.strip()\n",
    "        director = div_2[3].text.strip()\n",
    "print(rate, genre, runtime,director)              "
   ]
  },
  {
   "cell_type": "code",
   "execution_count": 324,
   "metadata": {},
   "outputs": [
    {
     "data": {
      "text/html": [
       "<div>\n",
       "<style scoped>\n",
       "    .dataframe tbody tr th:only-of-type {\n",
       "        vertical-align: middle;\n",
       "    }\n",
       "\n",
       "    .dataframe tbody tr th {\n",
       "        vertical-align: top;\n",
       "    }\n",
       "\n",
       "    .dataframe thead th {\n",
       "        text-align: right;\n",
       "    }\n",
       "</style>\n",
       "<table border=\"1\" class=\"dataframe\">\n",
       "  <thead>\n",
       "    <tr style=\"text-align: right;\">\n",
       "      <th></th>\n",
       "      <th>Unnamed: 0</th>\n",
       "      <th>~03</th>\n",
       "      <th>04~11</th>\n",
       "      <th>12~14</th>\n",
       "      <th>15~16</th>\n",
       "      <th>17~18</th>\n",
       "      <th>19~20</th>\n",
       "      <th>21~22</th>\n",
       "    </tr>\n",
       "  </thead>\n",
       "  <tbody>\n",
       "    <tr>\n",
       "      <th>0</th>\n",
       "      <td>0</td>\n",
       "      <td>banjiyi-jewang-banji-weonjeongdae</td>\n",
       "      <td>the-time-travelers-wife</td>\n",
       "      <td>john-wick</td>\n",
       "      <td>13sigan</td>\n",
       "      <td>murder-on-the-orient-express</td>\n",
       "      <td>bugseumateu</td>\n",
       "      <td>peurenci-diseupaeci</td>\n",
       "    </tr>\n",
       "    <tr>\n",
       "      <th>1</th>\n",
       "      <td>1</td>\n",
       "      <td>namsaegdaemun</td>\n",
       "      <td>peuropojeu</td>\n",
       "      <td>the-grand-budapest-hotel</td>\n",
       "      <td>miseu-seulroun</td>\n",
       "      <td>the-witch-part-1-the-subversion</td>\n",
       "      <td>jokeo</td>\n",
       "      <td>ssing2gedeo</td>\n",
       "    </tr>\n",
       "    <tr>\n",
       "      <th>2</th>\n",
       "      <td>2</td>\n",
       "      <td>meolholraendeu-deuraibeu</td>\n",
       "      <td>the-prestige</td>\n",
       "      <td>begin-again</td>\n",
       "      <td>fantastic-beasts-and-where-to-find-them</td>\n",
       "      <td>redi-peulreieo-weon</td>\n",
       "      <td>1917</td>\n",
       "      <td>dyun</td>\n",
       "    </tr>\n",
       "    <tr>\n",
       "      <th>3</th>\n",
       "      <td>3</td>\n",
       "      <td>harry-potter-and-the-philosophers-stone</td>\n",
       "      <td>the-debt</td>\n",
       "      <td>the-dark-knight-rises</td>\n",
       "      <td>maedeu-maegseu-bunnoyi-doro</td>\n",
       "      <td>asako</td>\n",
       "      <td>peoseuteu-kau</td>\n",
       "      <td>benom-2-res-deeo-bi-kaniji</td>\n",
       "    </tr>\n",
       "    <tr>\n",
       "      <th>4</th>\n",
       "      <td>4</td>\n",
       "      <td>peolpeu-pigsyeon</td>\n",
       "      <td>inception</td>\n",
       "      <td>whiplash</td>\n",
       "      <td>keontaegteu</td>\n",
       "      <td>benom</td>\n",
       "      <td>megi</td>\n",
       "      <td>deo-raseuteu-dyueol</td>\n",
       "    </tr>\n",
       "  </tbody>\n",
       "</table>\n",
       "</div>"
      ],
      "text/plain": [
       "   Unnamed: 0                                      ~03  \\\n",
       "0           0        banjiyi-jewang-banji-weonjeongdae   \n",
       "1           1                            namsaegdaemun   \n",
       "2           2                 meolholraendeu-deuraibeu   \n",
       "3           3  harry-potter-and-the-philosophers-stone   \n",
       "4           4                         peolpeu-pigsyeon   \n",
       "\n",
       "                     04~11                     12~14  \\\n",
       "0  the-time-travelers-wife                 john-wick   \n",
       "1               peuropojeu  the-grand-budapest-hotel   \n",
       "2             the-prestige               begin-again   \n",
       "3                 the-debt     the-dark-knight-rises   \n",
       "4                inception                  whiplash   \n",
       "\n",
       "                                     15~16                            17~18  \\\n",
       "0                                  13sigan     murder-on-the-orient-express   \n",
       "1                           miseu-seulroun  the-witch-part-1-the-subversion   \n",
       "2  fantastic-beasts-and-where-to-find-them              redi-peulreieo-weon   \n",
       "3              maedeu-maegseu-bunnoyi-doro                            asako   \n",
       "4                              keontaegteu                            benom   \n",
       "\n",
       "           19~20                       21~22  \n",
       "0    bugseumateu         peurenci-diseupaeci  \n",
       "1          jokeo                 ssing2gedeo  \n",
       "2           1917                        dyun  \n",
       "3  peoseuteu-kau  benom-2-res-deeo-bi-kaniji  \n",
       "4           megi         deo-raseuteu-dyueol  "
      ]
     },
     "execution_count": 324,
     "metadata": {},
     "output_type": "execute_result"
    }
   ],
   "source": [
    "# csv파일 읽어오기\n",
    "import pandas as pd\n",
    "csv_test = pd.read_csv(\"C:/Users/Kims/Desktop/HK_Project_Team5/key_wavve.csv\")\n",
    "csv_test.head()"
   ]
  },
  {
   "cell_type": "code",
   "execution_count": null,
   "metadata": {},
   "outputs": [],
   "source": [
    "csv_test2 = csv_test.drop([\"Unnamed: 0\"], axis=1)\n",
    "csv_test03 = csv_test2['~03']\n",
    "csv_test03.values[0:100]"
   ]
  },
  {
   "cell_type": "code",
   "execution_count": 392,
   "metadata": {},
   "outputs": [
    {
     "name": "stdout",
     "output_type": "stream",
     "text": [
      "반지의 제왕: 반지 원정대 (2001) 원제: The Lord of the Rings: The Fellowship of the Ring 평점 95%  8.8 (1m) 장르판타지 , 액션 , 드라마 재생 시간2시간 59분 감독 Peter Jackson\n",
      "=============시놉시스==========================================================================================================================\n",
      "호빗이라 불리우는 난장이 종족 중의 한 명인 프로도는 자신의 삼촌에게서 우연히 절대 반지를 물려받게 되고, 마법사 간달프를 통해서 절대반지가 사우론의 손에 들어가면 악의 세력이 세상을 지배하게 된다는 것을 알게 된다. 하지만 절대반지를 영원히 파괴할 수 있는 유일한 방법은 반지가 만들어진 불의 산의 용암에 그것을 던져 넣는 길 뿐이다. 마침내 프로도와 그의 친구들, 엘프족인 레골라스, 난장이족 김리, 두명의 인간 전사 아라곤과 보로미르, 그리고 마법사 간달프로 구성된 반지 원정대가 길고도 험난한 여정을 떠나게 되는데...\n",
      "남색대문 (2002) 원제: 藍色大門 평점 79%  7.3 (3k) 장르로맨스 , Made in Europe , 드라마 재생 시간1시간 25분 감독 Yee Chin-Yen\n",
      "=============시놉시스==========================================================================================================================\n",
      "고등학생인 커로우와 위에전은 자매처럼 지내는 단짝 친구이다. 위에전은 수영부의 장스하오를 좋아하지만 용기가 없어 그 앞에 나서지 못하고, 커로우에게 부탁해 자신의 러브레터를 대신 전달하게 한다. 그러나 위에전은 러브레터 속에 보내는 사람의 이름을 커로우라고 적게 되고, 편지를 받아든 장스하오는 커로우가 자신을 좋아한다고 오해하게 되면서 세 사람 사이의 감정은 복잡해져가는데...\n",
      "멀홀랜드 드라이브 (2001) 원제: Mulholland Drive 평점 86%  7.9 (345k) 장르스릴러 , 드라마 , Made in Europe 재생 시간2시간 27분 감독 David Lynch\n",
      "=============시놉시스==========================================================================================================================\n",
      "헐리웃 스타의 꿈을 안고 LA에 온 베티(나오미 왓츠)는 멀홀랜드 드라이브에서 일어난 자동차 사고로 이름조차 기억하지 못하는 리타(로라 해링)를 만나 그녀가 기억을 되찾을 수 있도록 도와준다. 베티의 적극적인 도움으로 단서를 찾아가던 리타는 한 카페의 여종업원 명찰에서 다이안이라는 이름을 보고 어떤 것을 떠올리게 된다. 베티는 이 이름이 분명 리타와 관계된 사람의 이름일 것이라 말하며 다이안이라는 인물을 찾기 시작한다. 마침내 다이안의 집을 찾아간 두 여인. 그러나 그들은 곧 상상을 초월하는 끔찍한 비밀을 발견하게 되는데...\n",
      "해리 포터와 마법사의 돌 (2001) 원제: Harry Potter and the Philosopher's Stone 평점 87%  7.6 (742k) 장르판타지 , 액션 , 가족 재생 시간2시간 32분 감독 Chris Columbus\n",
      "=============시놉시스==========================================================================================================================\n"
     ]
    },
    {
     "ename": "IndexError",
     "evalue": "list index out of range",
     "output_type": "error",
     "traceback": [
      "\u001b[1;31m---------------------------------------------------------------------------\u001b[0m",
      "\u001b[1;31mIndexError\u001b[0m                                Traceback (most recent call last)",
      "\u001b[1;32m~\\AppData\\Local\\Temp/ipykernel_30196/3921400467.py\u001b[0m in \u001b[0;36m<module>\u001b[1;34m\u001b[0m\n\u001b[0;32m     39\u001b[0m     \u001b[0mtarget_url\u001b[0m \u001b[1;33m=\u001b[0m \u001b[1;34m\"https://www.justwatch.com/kr/%EC%98%81%ED%99%94/{}\"\u001b[0m\u001b[1;33m.\u001b[0m\u001b[0mformat\u001b[0m\u001b[1;33m(\u001b[0m\u001b[0mi\u001b[0m\u001b[1;33m)\u001b[0m\u001b[1;33m\u001b[0m\u001b[1;33m\u001b[0m\u001b[0m\n\u001b[0;32m     40\u001b[0m     \u001b[0msoup\u001b[0m \u001b[1;33m=\u001b[0m \u001b[0mget_soup\u001b[0m\u001b[1;33m(\u001b[0m\u001b[0mtarget_url\u001b[0m\u001b[1;33m)\u001b[0m\u001b[1;33m\u001b[0m\u001b[1;33m\u001b[0m\u001b[0m\n\u001b[1;32m---> 41\u001b[1;33m     \u001b[0mextract_data\u001b[0m\u001b[1;33m(\u001b[0m\u001b[0msoup\u001b[0m\u001b[1;33m)\u001b[0m\u001b[1;33m\u001b[0m\u001b[1;33m\u001b[0m\u001b[0m\n\u001b[0m\u001b[0;32m     42\u001b[0m \u001b[1;33m\u001b[0m\u001b[0m\n",
      "\u001b[1;32m~\\AppData\\Local\\Temp/ipykernel_30196/3921400467.py\u001b[0m in \u001b[0;36mextract_data\u001b[1;34m(soup)\u001b[0m\n\u001b[0;32m     34\u001b[0m     \u001b[0mprint\u001b[0m\u001b[1;33m(\u001b[0m\u001b[0mtitle_kor\u001b[0m\u001b[1;33m,\u001b[0m \u001b[0mopening_data\u001b[0m\u001b[1;33m,\u001b[0m \u001b[0morigin_title\u001b[0m\u001b[1;33m,\u001b[0m\u001b[0mrate\u001b[0m\u001b[1;33m,\u001b[0m \u001b[0mgenre\u001b[0m\u001b[1;33m,\u001b[0m \u001b[0mruntime\u001b[0m\u001b[1;33m,\u001b[0m\u001b[0mdirector\u001b[0m\u001b[1;33m)\u001b[0m\u001b[1;33m\u001b[0m\u001b[1;33m\u001b[0m\u001b[0m\n\u001b[0;32m     35\u001b[0m     \u001b[0mprint\u001b[0m\u001b[1;33m(\u001b[0m\u001b[1;34m\"=============시놉시스==========================================================================================================================\"\u001b[0m\u001b[1;33m)\u001b[0m\u001b[1;33m\u001b[0m\u001b[1;33m\u001b[0m\u001b[0m\n\u001b[1;32m---> 36\u001b[1;33m     \u001b[0mprint\u001b[0m\u001b[1;33m(\u001b[0m\u001b[0msynopsis\u001b[0m\u001b[1;33m[\u001b[0m\u001b[1;36m0\u001b[0m\u001b[1;33m]\u001b[0m\u001b[1;33m.\u001b[0m\u001b[0mget_text\u001b[0m\u001b[1;33m(\u001b[0m\u001b[1;33m)\u001b[0m\u001b[1;33m)\u001b[0m\u001b[1;33m\u001b[0m\u001b[1;33m\u001b[0m\u001b[0m\n\u001b[0m\u001b[0;32m     37\u001b[0m \u001b[1;33m\u001b[0m\u001b[0m\n\u001b[0;32m     38\u001b[0m \u001b[1;32mfor\u001b[0m \u001b[0mi\u001b[0m \u001b[1;32min\u001b[0m \u001b[0mcsv_test03\u001b[0m\u001b[1;33m.\u001b[0m\u001b[0mvalues\u001b[0m\u001b[1;33m[\u001b[0m\u001b[1;36m0\u001b[0m\u001b[1;33m:\u001b[0m\u001b[1;36m15\u001b[0m\u001b[1;33m]\u001b[0m\u001b[1;33m:\u001b[0m\u001b[1;33m\u001b[0m\u001b[1;33m\u001b[0m\u001b[0m\n",
      "\u001b[1;31mIndexError\u001b[0m: list index out of range"
     ]
    }
   ],
   "source": [
    "# 1900개 이상하면 중간에 멈춤, 처리할수있는 용량의 문제가 있는 것인가?\n",
    "from urllib.request import urlopen\n",
    "from bs4 import BeautifulSoup\n",
    "import urllib.request\n",
    "\n",
    "def get_soup(target_url):\n",
    "    html = urllib.request.urlopen(target_url).read()\n",
    "    soup = BeautifulSoup(html, \"html.parser\")\n",
    "    return soup\n",
    "\n",
    "def extract_data(soup):\n",
    "    # 포스터 태그로 이동\n",
    "    #poster = soup.find(\"div\", class_=\"title-poster title-poster--no-radius-bottom\")\n",
    "    # 포스터 태그에서 img의 경로를 받아온다\n",
    "    #img_url = poster.find(\"img\")[\"data-src\"]\n",
    "    # urlretrieve는 다운로드 함수\n",
    "    # img.alt 는 이미지 대체 텍스트 == 듄\n",
    "    #urllib.request.urlretrieve(img_url, poster.find(\"img\")[\"alt\"]+'.jpg')\n",
    "    detail_info = soup.find(\"div\", {\"class\": \"title-info visible-xs visible-sm\"})\n",
    "    divs = detail_info.find_all(\"div\")\n",
    "    for div in divs:\n",
    "        div_2 = soup.find_all(\"div\", class_=\"detail-infos\")\n",
    "        rate = div_2[0].text.strip()\n",
    "        genre = div_2[1].text.strip()\n",
    "        runtime = div_2[2].text.strip()\n",
    "        director = div_2[3].text.strip()\n",
    "        title = soup.find(\"div\", class_=\"title-block\")   \n",
    "        title_kor = title.find(\"h1\").get_text().strip()    \n",
    "        opening_data = title.find(\"span\", class_=\"text-muted\").get_text().strip()\n",
    "        origin_title = title.find(\"h3\").get_text().strip()\n",
    "        synopsis = soup.select(\"#base > div.jw-info-box > div > div.jw-info-box__container-content > div:nth-child(2) > div:nth-child(6) > div:nth-child(1) > div > p > span\")\n",
    "        \n",
    "\n",
    "    print(title_kor, opening_data, origin_title,rate, genre, runtime,director)\n",
    "    print(\"=============시놉시스==========================================================================================================================\")\n",
    "    print(synopsis[0].get_text())\n",
    "\n",
    "for i in csv_test03.values[0:15]:\n",
    "    target_url = \"https://www.justwatch.com/kr/%EC%98%81%ED%99%94/{}\".format(i)\n",
    "    soup = get_soup(target_url)\n",
    "    extract_data(soup)\n",
    "\n"
   ]
  },
  {
   "cell_type": "code",
   "execution_count": null,
   "metadata": {},
   "outputs": [],
   "source": []
  }
 ],
 "metadata": {
  "interpreter": {
   "hash": "46ae208522317b1e0ccd05dd07d6b276f13b06ba5c87d9313b8ca5c34df924de"
  },
  "kernelspec": {
   "display_name": "Python 3.9.7 ('base')",
   "language": "python",
   "name": "python3"
  },
  "language_info": {
   "codemirror_mode": {
    "name": "ipython",
    "version": 3
   },
   "file_extension": ".py",
   "mimetype": "text/x-python",
   "name": "python",
   "nbconvert_exporter": "python",
   "pygments_lexer": "ipython3",
   "version": "3.9.7"
  },
  "orig_nbformat": 4
 },
 "nbformat": 4,
 "nbformat_minor": 2
}
