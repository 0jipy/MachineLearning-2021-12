{
 "cells": [
  {
   "cell_type": "code",
   "execution_count": 1,
   "metadata": {},
   "outputs": [],
   "source": [
    "import numpy as np\n",
    "import pandas as pd\n",
    "import seaborn as sns\n",
    "import warnings\n",
    "warnings.filterwarnings(action='ignore')"
   ]
  },
  {
   "cell_type": "code",
   "execution_count": 3,
   "metadata": {},
   "outputs": [
    {
     "data": {
      "text/html": [
       "<div>\n",
       "<style scoped>\n",
       "    .dataframe tbody tr th:only-of-type {\n",
       "        vertical-align: middle;\n",
       "    }\n",
       "\n",
       "    .dataframe tbody tr th {\n",
       "        vertical-align: top;\n",
       "    }\n",
       "\n",
       "    .dataframe thead th {\n",
       "        text-align: right;\n",
       "    }\n",
       "</style>\n",
       "<table border=\"1\" class=\"dataframe\">\n",
       "  <thead>\n",
       "    <tr style=\"text-align: right;\">\n",
       "      <th></th>\n",
       "      <th>survived</th>\n",
       "      <th>pclass</th>\n",
       "      <th>sex</th>\n",
       "      <th>age</th>\n",
       "      <th>sibsp</th>\n",
       "      <th>parch</th>\n",
       "      <th>fare</th>\n",
       "      <th>embarked</th>\n",
       "      <th>class</th>\n",
       "      <th>who</th>\n",
       "      <th>adult_male</th>\n",
       "      <th>deck</th>\n",
       "      <th>embark_town</th>\n",
       "      <th>alive</th>\n",
       "      <th>alone</th>\n",
       "    </tr>\n",
       "  </thead>\n",
       "  <tbody>\n",
       "    <tr>\n",
       "      <th>0</th>\n",
       "      <td>0</td>\n",
       "      <td>3</td>\n",
       "      <td>male</td>\n",
       "      <td>22.0</td>\n",
       "      <td>1</td>\n",
       "      <td>0</td>\n",
       "      <td>7.2500</td>\n",
       "      <td>S</td>\n",
       "      <td>Third</td>\n",
       "      <td>man</td>\n",
       "      <td>True</td>\n",
       "      <td>NaN</td>\n",
       "      <td>Southampton</td>\n",
       "      <td>no</td>\n",
       "      <td>False</td>\n",
       "    </tr>\n",
       "    <tr>\n",
       "      <th>1</th>\n",
       "      <td>1</td>\n",
       "      <td>1</td>\n",
       "      <td>female</td>\n",
       "      <td>38.0</td>\n",
       "      <td>1</td>\n",
       "      <td>0</td>\n",
       "      <td>71.2833</td>\n",
       "      <td>C</td>\n",
       "      <td>First</td>\n",
       "      <td>woman</td>\n",
       "      <td>False</td>\n",
       "      <td>C</td>\n",
       "      <td>Cherbourg</td>\n",
       "      <td>yes</td>\n",
       "      <td>False</td>\n",
       "    </tr>\n",
       "    <tr>\n",
       "      <th>2</th>\n",
       "      <td>1</td>\n",
       "      <td>3</td>\n",
       "      <td>female</td>\n",
       "      <td>26.0</td>\n",
       "      <td>0</td>\n",
       "      <td>0</td>\n",
       "      <td>7.9250</td>\n",
       "      <td>S</td>\n",
       "      <td>Third</td>\n",
       "      <td>woman</td>\n",
       "      <td>False</td>\n",
       "      <td>NaN</td>\n",
       "      <td>Southampton</td>\n",
       "      <td>yes</td>\n",
       "      <td>True</td>\n",
       "    </tr>\n",
       "    <tr>\n",
       "      <th>3</th>\n",
       "      <td>1</td>\n",
       "      <td>1</td>\n",
       "      <td>female</td>\n",
       "      <td>35.0</td>\n",
       "      <td>1</td>\n",
       "      <td>0</td>\n",
       "      <td>53.1000</td>\n",
       "      <td>S</td>\n",
       "      <td>First</td>\n",
       "      <td>woman</td>\n",
       "      <td>False</td>\n",
       "      <td>C</td>\n",
       "      <td>Southampton</td>\n",
       "      <td>yes</td>\n",
       "      <td>False</td>\n",
       "    </tr>\n",
       "    <tr>\n",
       "      <th>4</th>\n",
       "      <td>0</td>\n",
       "      <td>3</td>\n",
       "      <td>male</td>\n",
       "      <td>35.0</td>\n",
       "      <td>0</td>\n",
       "      <td>0</td>\n",
       "      <td>8.0500</td>\n",
       "      <td>S</td>\n",
       "      <td>Third</td>\n",
       "      <td>man</td>\n",
       "      <td>True</td>\n",
       "      <td>NaN</td>\n",
       "      <td>Southampton</td>\n",
       "      <td>no</td>\n",
       "      <td>True</td>\n",
       "    </tr>\n",
       "  </tbody>\n",
       "</table>\n",
       "</div>"
      ],
      "text/plain": [
       "   survived  pclass     sex   age  sibsp  parch     fare embarked  class  \\\n",
       "0         0       3    male  22.0      1      0   7.2500        S  Third   \n",
       "1         1       1  female  38.0      1      0  71.2833        C  First   \n",
       "2         1       3  female  26.0      0      0   7.9250        S  Third   \n",
       "3         1       1  female  35.0      1      0  53.1000        S  First   \n",
       "4         0       3    male  35.0      0      0   8.0500        S  Third   \n",
       "\n",
       "     who  adult_male deck  embark_town alive  alone  \n",
       "0    man        True  NaN  Southampton    no  False  \n",
       "1  woman       False    C    Cherbourg   yes  False  \n",
       "2  woman       False  NaN  Southampton   yes   True  \n",
       "3  woman       False    C  Southampton   yes  False  \n",
       "4    man        True  NaN  Southampton    no   True  "
      ]
     },
     "execution_count": 3,
     "metadata": {},
     "output_type": "execute_result"
    }
   ],
   "source": [
    "titanic = sns.load_dataset('titanic')\n",
    "titanic.head()"
   ]
  },
  {
   "cell_type": "code",
   "execution_count": 34,
   "metadata": {},
   "outputs": [
    {
     "name": "stdout",
     "output_type": "stream",
     "text": [
      "<class 'pandas.core.frame.DataFrame'>\n",
      "RangeIndex: 891 entries, 0 to 890\n",
      "Data columns (total 16 columns):\n",
      " #   Column       Non-Null Count  Dtype   \n",
      "---  ------       --------------  -----   \n",
      " 0   survived     891 non-null    int64   \n",
      " 1   pclass       891 non-null    int64   \n",
      " 2   sex          891 non-null    object  \n",
      " 3   age          714 non-null    float64 \n",
      " 4   sibsp        891 non-null    int64   \n",
      " 5   parch        891 non-null    int64   \n",
      " 6   fare         891 non-null    float64 \n",
      " 7   embarked     889 non-null    object  \n",
      " 8   class        891 non-null    category\n",
      " 9   who          891 non-null    object  \n",
      " 10  adult_male   891 non-null    bool    \n",
      " 11  deck         203 non-null    category\n",
      " 12  embark_town  889 non-null    object  \n",
      " 13  alive        891 non-null    object  \n",
      " 14  alone        891 non-null    bool    \n",
      " 15  adult & sex  891 non-null    object  \n",
      "dtypes: bool(2), category(2), float64(2), int64(4), object(6)\n",
      "memory usage: 87.6+ KB\n"
     ]
    }
   ],
   "source": [
    "titanic.info()"
   ]
  },
  {
   "cell_type": "markdown",
   "metadata": {},
   "source": [
    "a. 타이타닉호의 승객에 대해 나이와 성별에 의한 카테고리 열인 category1 열을 만드시오. \n",
    "category1 카테고리는 다음과 같이 정의됨\n",
    "1) 20살이 넘으면 성별을 그대로 사용한다.\n",
    "2) 20살 미만이면 성별에 관계없이 “child”라고 한다.\n"
   ]
  },
  {
   "cell_type": "code",
   "execution_count": 13,
   "metadata": {},
   "outputs": [
    {
     "data": {
      "text/plain": [
       "array([  7,   9,  10,  14,  16,  22,  24,  27,  38,  39,  43,  44,  49,\n",
       "        50,  58,  59,  63,  67,  68,  71,  78,  84,  86, 111, 114, 119,\n",
       "       125, 136, 138, 143, 144, 145, 147, 156, 163, 164, 165, 171, 172,\n",
       "       175, 182, 183, 184, 191, 192, 193, 204, 205, 208, 220, 226, 228,\n",
       "       233, 237, 238, 261, 266, 278, 282, 283, 291, 297, 302, 305, 307,\n",
       "       311, 329, 333, 340, 348, 352, 371, 372, 374, 379, 381, 385, 386,\n",
       "       389, 407, 417, 419, 424, 427, 433, 435, 445, 446, 448, 469, 479,\n",
       "       480, 489, 500, 504, 505, 530, 532, 535, 541, 542, 546, 549, 550,\n",
       "       566, 574, 575, 585, 618, 634, 642, 644, 646, 651, 654, 675, 677,\n",
       "       683, 686, 687, 688, 689, 691, 700, 702, 715, 720, 721, 731, 746,\n",
       "       748, 750, 751, 755, 757, 764, 775, 777, 780, 781, 786, 787, 788,\n",
       "       791, 802, 803, 807, 813, 819, 824, 827, 830, 831, 834, 841, 844,\n",
       "       850, 852, 853, 855, 869, 875, 877, 887])"
      ]
     },
     "execution_count": 13,
     "metadata": {},
     "output_type": "execute_result"
    }
   ],
   "source": [
    "# 조건에 맞는 데이터들의 인덱스를 이용 \n",
    "# who컬럼의 값을 변경하고자 한다.\n",
    "\n",
    "f = titanic.age[titanic.age < 20].index\n",
    "f = np.array(f,int)\n",
    "f"
   ]
  },
  {
   "cell_type": "code",
   "execution_count": 18,
   "metadata": {},
   "outputs": [
    {
     "data": {
      "text/plain": [
       "array(['child', 'child', 'child', 'child', 'child', 'child', 'child',\n",
       "       'man', 'woman', 'child', 'child', 'woman', 'woman', 'child',\n",
       "       'child', 'child', 'child', 'man', 'woman', 'woman', 'child',\n",
       "       'woman', 'man', 'child', 'woman', 'child', 'child', 'woman', 'man',\n",
       "       'man', 'man', 'man', 'child', 'woman', 'man', 'child', 'child',\n",
       "       'child', 'child', 'man', 'child', 'child', 'child', 'man', 'woman',\n",
       "       'child', 'man', 'child', 'woman', 'man', 'man', 'man', 'child',\n",
       "       'child', 'man', 'child', 'man', 'child', 'man', 'man', 'woman',\n",
       "       'child', 'man', 'child', 'woman', 'woman', 'woman', 'man', 'child',\n",
       "       'child', 'child', 'man', 'man', 'child', 'man', 'child', 'man',\n",
       "       'child', 'woman', 'child', 'woman', 'child', 'man', 'woman', 'man',\n",
       "       'child', 'child', 'child', 'child', 'child', 'child', 'child',\n",
       "       'child', 'man', 'woman', 'man', 'child', 'man', 'child', 'child',\n",
       "       'child', 'woman', 'child', 'man', 'man', 'man', 'man', 'woman',\n",
       "       'child', 'child', 'child', 'child', 'man', 'woman', 'woman', 'man',\n",
       "       'woman', 'child', 'child', 'man', 'man', 'child', 'child', 'woman',\n",
       "       'woman', 'man', 'child', 'man', 'child', 'man', 'man', 'child',\n",
       "       'child', 'child', 'man', 'man', 'man', 'child', 'child', 'woman',\n",
       "       'woman', 'child', 'child', 'man', 'child', 'child', 'woman',\n",
       "       'child', 'child', 'child', 'child', 'child', 'child', 'man', 'man',\n",
       "       'man', 'child', 'child', 'woman', 'woman', 'child', 'child', 'man',\n",
       "       'woman'], dtype=object)"
      ]
     },
     "execution_count": 18,
     "metadata": {},
     "output_type": "execute_result"
    }
   ],
   "source": [
    "titanic.who[f].values"
   ]
  },
  {
   "cell_type": "code",
   "execution_count": 47,
   "metadata": {},
   "outputs": [],
   "source": [
    "# 1. \"adult % sex\" 컬럼 생성하여 sex 컬럼 그대로 입력.\n",
    "titanic[\"adult & sex\"] = titanic[\"sex\"]\n",
    "# titanic[\"adult & sex\"]"
   ]
  },
  {
   "cell_type": "code",
   "execution_count": 48,
   "metadata": {},
   "outputs": [
    {
     "data": {
      "text/plain": [
       "male     727\n",
       "child    164\n",
       "Name: adult & sex, dtype: int64"
      ]
     },
     "execution_count": 48,
     "metadata": {},
     "output_type": "execute_result"
    }
   ],
   "source": [
    "# 1. \"adult % sex\" 컬럼 생성하여 20세 미만 \"child\" 로 채우기\n",
    "titanic[\"adult & sex\"] = titanic.apply(lambda r: \"child\" if r.age < 20 else titanic[\"adult & sex\"], axis=1)\n",
    "titanic[\"adult & sex\"].value_counts()"
   ]
  },
  {
   "cell_type": "code",
   "execution_count": null,
   "metadata": {},
   "outputs": [],
   "source": []
  }
 ],
 "metadata": {
  "interpreter": {
   "hash": "b3ba2566441a7c06988d0923437866b63cedc61552a5af99d1f4fb67d367b25f"
  },
  "kernelspec": {
   "display_name": "Python 3.8.8 64-bit ('base': conda)",
   "language": "python",
   "name": "python3"
  },
  "language_info": {
   "codemirror_mode": {
    "name": "ipython",
    "version": 3
   },
   "file_extension": ".py",
   "mimetype": "text/x-python",
   "name": "python",
   "nbconvert_exporter": "python",
   "pygments_lexer": "ipython3",
   "version": "3.8.8"
  },
  "orig_nbformat": 4
 },
 "nbformat": 4,
 "nbformat_minor": 2
}
