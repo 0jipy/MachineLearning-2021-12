{
 "cells": [
  {
   "cell_type": "markdown",
   "metadata": {},
   "source": [
    "# 넘파이 연습문제 풀기  ,자료 21p"
   ]
  },
  {
   "cell_type": "code",
   "execution_count": 1,
   "metadata": {},
   "outputs": [],
   "source": [
    "import numpy as np\n",
    "import pandas as pd"
   ]
  },
  {
   "cell_type": "markdown",
   "metadata": {},
   "source": [
    "## Q1. 행렬만들기"
   ]
  },
  {
   "cell_type": "code",
   "execution_count": 2,
   "metadata": {},
   "outputs": [
    {
     "data": {
      "text/plain": [
       "array([[10, 20, 30, 40],\n",
       "       [50, 60, 70, 80]])"
      ]
     },
     "execution_count": 2,
     "metadata": {},
     "output_type": "execute_result"
    }
   ],
   "source": [
    "np.arange(10,81,10).reshape(2,4)\n",
    "# np.arange(1,9).reshape(2,4)*10"
   ]
  },
  {
   "cell_type": "markdown",
   "metadata": {},
   "source": [
    "## Q2. Indexing, Slicing"
   ]
  },
  {
   "cell_type": "code",
   "execution_count": 3,
   "metadata": {},
   "outputs": [],
   "source": [
    "# 2. 주어진 행렬에서 새끼번호 문제\n",
    "# 멍청하게 이걸 만들고 있네 .흙흙\n",
    "m = np.array([\n",
    "    [0,1,2,3,4],\n",
    "    [5,6,7,8,9],\n",
    "    [10,11,12,13,14]\n",
    "])\n",
    "#  np.arange(0,15).reshape(3,5)"
   ]
  },
  {
   "cell_type": "code",
   "execution_count": 4,
   "metadata": {},
   "outputs": [
    {
     "data": {
      "text/plain": [
       "7"
      ]
     },
     "execution_count": 4,
     "metadata": {},
     "output_type": "execute_result"
    }
   ],
   "source": [
    "# 1) 7은 2D 매트릭스의 2행 3열 (2,3)\n",
    "m[1,2]"
   ]
  },
  {
   "cell_type": "code",
   "execution_count": 5,
   "metadata": {},
   "outputs": [
    {
     "data": {
      "text/plain": [
       "14"
      ]
     },
     "execution_count": 5,
     "metadata": {},
     "output_type": "execute_result"
    }
   ],
   "source": [
    "# 2) 14는 (3,5)\n",
    "m[2,4]"
   ]
  },
  {
   "cell_type": "code",
   "execution_count": 6,
   "metadata": {},
   "outputs": [
    {
     "data": {
      "text/plain": [
       "array([6, 7])"
      ]
     },
     "execution_count": 6,
     "metadata": {},
     "output_type": "execute_result"
    }
   ],
   "source": [
    "# 3) 배열 [6,7], 2행의 2,3열\n",
    "m[1, 1:3]"
   ]
  },
  {
   "cell_type": "code",
   "execution_count": 7,
   "metadata": {},
   "outputs": [
    {
     "data": {
      "text/plain": [
       "array([ 7, 12])"
      ]
     },
     "execution_count": 7,
     "metadata": {},
     "output_type": "execute_result"
    }
   ],
   "source": [
    "# 4)배열 [7,12]  2행,3행 의 3열\n",
    "m[1:3, 2]"
   ]
  },
  {
   "cell_type": "code",
   "execution_count": 8,
   "metadata": {},
   "outputs": [
    {
     "data": {
      "text/plain": [
       "array([[3, 4],\n",
       "       [8, 9]])"
      ]
     },
     "execution_count": 8,
     "metadata": {},
     "output_type": "execute_result"
    }
   ],
   "source": [
    "# 5)배열 [3,4], [8,9] #3:5에서 5자리에 -1음수 인덱스 쓰고 싶으면?\n",
    "# m[:2, 3:5]\n",
    "m[:-1, 3:]"
   ]
  },
  {
   "cell_type": "markdown",
   "metadata": {},
   "source": [
    "## Q3 Boolean indexing\n"
   ]
  },
  {
   "cell_type": "code",
   "execution_count": 9,
   "metadata": {},
   "outputs": [
    {
     "data": {
      "text/plain": [
       "array([ 0,  1,  2,  3,  4,  5,  6,  7,  8,  9, 10, 11, 12, 13, 14])"
      ]
     },
     "execution_count": 9,
     "metadata": {},
     "output_type": "execute_result"
    }
   ],
   "source": [
    "# 3번 문제 \n",
    "f = m.flatten()\n",
    "f"
   ]
  },
  {
   "cell_type": "code",
   "execution_count": 10,
   "metadata": {},
   "outputs": [
    {
     "data": {
      "text/plain": [
       "array([ 0,  3,  6,  9, 12])"
      ]
     },
     "execution_count": 10,
     "metadata": {},
     "output_type": "execute_result"
    }
   ],
   "source": [
    "# 3.1) 3의 배수를 찾아라? #3의 배수\n",
    "f[f % 3 == 0]"
   ]
  },
  {
   "cell_type": "code",
   "execution_count": 11,
   "metadata": {},
   "outputs": [
    {
     "data": {
      "text/plain": [
       "array([ 1,  5,  9, 13])"
      ]
     },
     "execution_count": 11,
     "metadata": {},
     "output_type": "execute_result"
    }
   ],
   "source": [
    "# 3.2) 4로 나누면 1이 남는수\n",
    "f[f % 4 == 1]"
   ]
  },
  {
   "cell_type": "code",
   "execution_count": 12,
   "metadata": {},
   "outputs": [
    {
     "data": {
      "text/plain": [
       "array([9])"
      ]
     },
     "execution_count": 12,
     "metadata": {},
     "output_type": "execute_result"
    }
   ],
   "source": [
    "# 3.3)  3으로 나누면 나누어 지고 4로 나누면 1이 남는 수 ? 교집합 찾기\n",
    "f[(f % 3 == 0) &(f % 4 == 1)]"
   ]
  },
  {
   "cell_type": "markdown",
   "metadata": {},
   "source": [
    "##. Q4 대각선 행렬"
   ]
  },
  {
   "cell_type": "code",
   "execution_count": 13,
   "metadata": {},
   "outputs": [],
   "source": [
    "# 한줄로 쓰는 답 #샘과 함께\n",
    "# 추후 정리. 최종적으로 2*m1 + 3*m2"
   ]
  },
  {
   "cell_type": "code",
   "execution_count": 14,
   "metadata": {},
   "outputs": [
    {
     "data": {
      "text/plain": [
       "array([[1, 0, 0, 0, 0],\n",
       "       [0, 1, 0, 0, 0],\n",
       "       [0, 0, 1, 0, 0],\n",
       "       [0, 0, 0, 1, 0],\n",
       "       [0, 0, 0, 0, 1]], dtype=int8)"
      ]
     },
     "execution_count": 14,
     "metadata": {},
     "output_type": "execute_result"
    }
   ],
   "source": [
    "# 4\n",
    "m1 = np.eye(N=5,M=5, dtype=np.int8)\n",
    "m1"
   ]
  },
  {
   "cell_type": "code",
   "execution_count": 15,
   "metadata": {},
   "outputs": [
    {
     "data": {
      "text/plain": [
       "array([[0, 0, 0, 0, 0],\n",
       "       [1, 0, 0, 0, 0],\n",
       "       [0, 1, 0, 0, 0],\n",
       "       [0, 0, 1, 0, 0],\n",
       "       [0, 0, 0, 1, 0]], dtype=int8)"
      ]
     },
     "execution_count": 15,
     "metadata": {},
     "output_type": "execute_result"
    }
   ],
   "source": [
    "m2 = np.eye(N=5,M=5,k=-1, dtype=np.int8)\n",
    "m2"
   ]
  },
  {
   "cell_type": "code",
   "execution_count": 16,
   "metadata": {},
   "outputs": [
    {
     "data": {
      "text/plain": [
       "array([[2, 0, 0, 0, 0],\n",
       "       [3, 2, 0, 0, 0],\n",
       "       [0, 3, 2, 0, 0],\n",
       "       [0, 0, 3, 2, 0],\n",
       "       [0, 0, 0, 3, 2]], dtype=int8)"
      ]
     },
     "execution_count": 16,
     "metadata": {},
     "output_type": "execute_result"
    }
   ],
   "source": [
    "dab = m1+m1+(3*m2)\n",
    "dab"
   ]
  },
  {
   "cell_type": "markdown",
   "metadata": {},
   "source": [
    "## Q5. 랜덤 실수 행렬 uniform"
   ]
  },
  {
   "cell_type": "code",
   "execution_count": 17,
   "metadata": {},
   "outputs": [],
   "source": [
    "# 5. 0에서 10까지 랜덤 실수값으로 이루어진 ..근데 유니폼을 쓰는게 답인가...?\n",
    "np.random.seed(seed=2021)\n",
    "a = np.random.uniform(0,10,30).reshape(5,6).round(4)\n"
   ]
  },
  {
   "cell_type": "code",
   "execution_count": 18,
   "metadata": {},
   "outputs": [
    {
     "data": {
      "text/plain": [
       "array([1.7899, 3.7116, 0.8663, 2.0185, 0.9689, 0.5857])"
      ]
     },
     "execution_count": 18,
     "metadata": {},
     "output_type": "execute_result"
    }
   ],
   "source": [
    "# 전체의 최대값\n",
    "a.max()\n",
    "# 각행의 합\n",
    "np.sum(a, axis=1)\n",
    "# 각 행의 최대 값\n",
    "np.max(a, axis=1)  #다른 버전  a.max(axis=1)\n",
    "# 각 열의 평균\n",
    "np.mean(a, axis=0)\n",
    "# 각 열의 최솟값\n",
    "np.min(a, axis=0)\n"
   ]
  },
  {
   "cell_type": "markdown",
   "metadata": {},
   "source": [
    "## Q6. sorting"
   ]
  },
  {
   "cell_type": "code",
   "execution_count": 19,
   "metadata": {},
   "outputs": [
    {
     "data": {
      "text/plain": [
       "array([[  1,   2,   3,   4],\n",
       "       [ 46,  99, 100,  71],\n",
       "       [ 81,  59,  90, 100]])"
      ]
     },
     "execution_count": 19,
     "metadata": {},
     "output_type": "execute_result"
    }
   ],
   "source": [
    "score = np.array([\n",
    "    [1,2,3,4],\n",
    "    [46,99,100,71],\n",
    "    [81,59,90,100]    \n",
    "])\n",
    "score"
   ]
  },
  {
   "cell_type": "code",
   "execution_count": 20,
   "metadata": {},
   "outputs": [
    {
     "data": {
      "text/plain": [
       "array([100,  99,  71,  46])"
      ]
     },
     "execution_count": 20,
     "metadata": {},
     "output_type": "execute_result"
    }
   ],
   "source": [
    "# 영어성적으로 정렬. 통상적으로는 내림차순 정렬일것. \n",
    "np.sort(score[1])[::-1]"
   ]
  },
  {
   "cell_type": "code",
   "execution_count": 21,
   "metadata": {},
   "outputs": [
    {
     "data": {
      "text/plain": [
       "array([2, 1, 3, 0], dtype=int64)"
      ]
     },
     "execution_count": 21,
     "metadata": {},
     "output_type": "execute_result"
    }
   ],
   "source": [
    "# 영어성적 내림차순의 index값\n",
    "indices = np.argsort(score[1])[::-1]\n",
    "indices"
   ]
  },
  {
   "cell_type": "code",
   "execution_count": 22,
   "metadata": {},
   "outputs": [
    {
     "data": {
      "text/plain": [
       "array([[  3,   2,   4,   1],\n",
       "       [100,  99,  71,  46],\n",
       "       [ 90,  59, 100,  81]])"
      ]
     },
     "execution_count": 22,
     "metadata": {},
     "output_type": "execute_result"
    }
   ],
   "source": [
    "# 모든 행을 영어성적 내림차순 기준으로 정렬\n",
    "score[:, indices]"
   ]
  },
  {
   "cell_type": "code",
   "execution_count": 23,
   "metadata": {},
   "outputs": [
    {
     "data": {
      "text/plain": [
       "array([[  3,   2,   4,   1],\n",
       "       [100,  99,  71,  46],\n",
       "       [ 90,  59, 100,  81]])"
      ]
     },
     "execution_count": 23,
     "metadata": {},
     "output_type": "execute_result"
    }
   ],
   "source": [
    "# 한 줄로 표현 # score[1]이 영어성적 로우\n",
    "score[:, np.argsort(score[1])[::-1]]"
   ]
  },
  {
   "cell_type": "markdown",
   "metadata": {},
   "source": [
    "## Q7. 주사위 100번"
   ]
  },
  {
   "cell_type": "code",
   "execution_count": 24,
   "metadata": {},
   "outputs": [
    {
     "data": {
      "text/plain": [
       "array([5, 6, 2, 1, 6, 5, 4, 6, 6, 6, 1, 5, 2, 6, 2, 2, 5, 6, 3, 3, 1, 4,\n",
       "       2, 1, 3, 4, 5, 6, 1, 6, 2, 3, 6, 2, 6, 2, 3, 3, 5, 6, 3, 4, 2, 3,\n",
       "       3, 1, 3, 5, 6, 4, 4, 2, 2, 2, 3, 6, 4, 4, 5, 4, 2, 5, 2, 2, 5, 4,\n",
       "       6, 4, 4, 4, 3, 2, 4, 3, 6, 3, 3, 1, 5, 4, 2, 4, 2, 5, 3, 4, 2, 3,\n",
       "       6, 3, 6, 3, 4, 5, 6, 2, 2, 6, 1, 6])"
      ]
     },
     "execution_count": 24,
     "metadata": {},
     "output_type": "execute_result"
    }
   ],
   "source": [
    "# 7.1  주사위를 100던 전지는 가상실험.  ?\n",
    "np.random.seed(2021)\n",
    "# dice = np.random.binomial(1,7.100)\n",
    "dice = np.random.randint(1,7,100)\n",
    "dice"
   ]
  },
  {
   "cell_type": "code",
   "execution_count": 25,
   "metadata": {},
   "outputs": [
    {
     "data": {
      "text/plain": [
       "3.7"
      ]
     },
     "execution_count": 25,
     "metadata": {},
     "output_type": "execute_result"
    }
   ],
   "source": [
    "np.mean(dice)"
   ]
  },
  {
   "cell_type": "code",
   "execution_count": 26,
   "metadata": {},
   "outputs": [
    {
     "data": {
      "text/plain": [
       "(array([1, 2, 3, 4, 5, 6]), array([ 8, 21, 19, 18, 13, 21], dtype=int64))"
      ]
     },
     "execution_count": 26,
     "metadata": {},
     "output_type": "execute_result"
    }
   ],
   "source": [
    "np.unique(dice, return_counts=True)"
   ]
  },
  {
   "cell_type": "code",
   "execution_count": 27,
   "metadata": {},
   "outputs": [
    {
     "data": {
      "text/plain": [
       "tuple"
      ]
     },
     "execution_count": 27,
     "metadata": {},
     "output_type": "execute_result"
    }
   ],
   "source": [
    "# 튜플 언패킹 타입 확인용\n",
    "type(np.unique(dice, return_counts=True))\n",
    "\n",
    "# () 튜플타입의 자료를 아래셀의 첫줄처럼 언패킹해서 쓰는 것이 가능함. \n",
    "# type(unique, counts)???  튜플 언패킹 타입 확인하는 방법은???"
   ]
  },
  {
   "cell_type": "code",
   "execution_count": 28,
   "metadata": {},
   "outputs": [
    {
     "data": {
      "text/plain": [
       "{1: 8, 2: 21, 3: 19, 4: 18, 5: 13, 6: 21}"
      ]
     },
     "execution_count": 28,
     "metadata": {},
     "output_type": "execute_result"
    }
   ],
   "source": [
    "unique, counts = np.unique(dice, return_counts=True)\n",
    "dict(zip(unique, counts))"
   ]
  },
  {
   "cell_type": "code",
   "execution_count": 29,
   "metadata": {},
   "outputs": [
    {
     "data": {
      "text/plain": [
       "1     8\n",
       "2    21\n",
       "3    19\n",
       "4    18\n",
       "5    13\n",
       "6    21\n",
       "dtype: int64"
      ]
     },
     "execution_count": 29,
     "metadata": {},
     "output_type": "execute_result"
    }
   ],
   "source": [
    "import pandas as pd\n",
    "s = pd.Series(counts, index=unique)\n",
    "s"
   ]
  },
  {
   "cell_type": "markdown",
   "metadata": {},
   "source": [
    "#### Q7 type2  6바이6 36으로도 제시해보기"
   ]
  },
  {
   "cell_type": "code",
   "execution_count": 30,
   "metadata": {},
   "outputs": [
    {
     "data": {
      "text/plain": [
       "3.7777777777777777"
      ]
     },
     "execution_count": 30,
     "metadata": {},
     "output_type": "execute_result"
    }
   ],
   "source": [
    "np.random.seed(2021)\n",
    "dice = np.random.randint(1,7,36)\n",
    "np.mean(dice)\n",
    "# 보자마자, 랜덤시드라서 값이 큰 의미가 없다는 것을 알았다.\n",
    "# 원래 1이나올 확률과 2, 3, 4, ,5, 6 이각각 나올 확률 등을 알아보고자 했는데. \n",
    "# 랜덤값이라 의미없어. "
   ]
  },
  {
   "cell_type": "markdown",
   "metadata": {},
   "source": [
    "## Q8. 정규분포"
   ]
  },
  {
   "cell_type": "code",
   "execution_count": 31,
   "metadata": {},
   "outputs": [
    {
     "data": {
      "text/plain": [
       "array([  79.21244851, -185.78245596, -197.34812894,    0.51221452,\n",
       "        161.90288933,   70.71843469,  258.9043921 ,  127.66717632,\n",
       "       -142.00818247, -180.13384822,   75.72279605,  -61.77697342,\n",
       "        -63.74781338,  -75.02755898,  131.07878694,   64.96526788,\n",
       "        147.36359443, -191.19297147,   78.67667093, -131.71455398,\n",
       "       -211.5988457 ,  -19.84625058,  -38.39659531,    7.8282756 ,\n",
       "        -28.99995125,   69.05056918,  -54.30006902,  -98.33216913,\n",
       "        -10.34863448,   60.80479187,   96.81796441, -140.6564373 ,\n",
       "        -46.05780242,   94.97217922,   -9.73721106, -145.3753771 ,\n",
       "         84.11052974,  -99.7719838 ,   15.48366507,  -66.45584119,\n",
       "         49.02578138, -100.42170245,  126.56049002,  118.40383789,\n",
       "       -237.27946268,   70.41781199,   98.19220531, -176.78041092,\n",
       "       -161.58024188,  -50.65048914,   41.99430974,  132.82802683,\n",
       "          6.17803493,  158.16880395,   27.37285679,  -42.87902836,\n",
       "        -94.13975772,  250.91333509,  -62.5246668 , -172.52855929,\n",
       "        -43.27501632,  -28.92927938,  135.66738273,   77.40272051,\n",
       "        206.39903298,  -18.33432634,   70.41104865,  110.87022342,\n",
       "       -142.48483307,  131.06069261,  -97.77939836,  -46.01955086,\n",
       "       -126.77414227, -111.57025854,  -93.29012071,   63.92682499,\n",
       "         42.57646741,   45.63195388,  155.1576758 ,  -32.68326156,\n",
       "         65.25628646,  -85.441051  ,   40.10945393,  -94.87330643,\n",
       "        -16.160952  , -136.95017668,   -6.57422066,  173.53605805,\n",
       "        -46.20489423,  -26.35448189,  177.43221346,  -97.70068718,\n",
       "        201.78436915,    8.61133945,  -67.66966299,   28.19924379,\n",
       "         16.71929825,   40.16696721,   13.84778688,  -36.16418998,\n",
       "        169.4768633 ,  -28.09087247,  -87.06605084,   64.30055685,\n",
       "        -63.68492058,   42.86823501,  -70.65430223,  -28.67332039,\n",
       "         -7.17627065,  -63.29303369,  203.61377369,  -73.33912926,\n",
       "          0.86106254,   72.21454861,  231.76604998,  -36.36291293,\n",
       "        -33.72657714,  109.44243231,  167.52652738,   43.82971358,\n",
       "        107.67926065,  -49.8459804 ,  -33.83496239,   23.62829071,\n",
       "        157.62401924,  -30.09146594,   21.20062962,   21.23077476,\n",
       "        -97.54310312,  149.26351952,   51.11087715,  -52.16321896,\n",
       "       -117.80858461,  -24.97202773,  123.90842808,  -46.61688154,\n",
       "        239.70148906,   26.95777595,   -6.38442912,    5.2620122 ,\n",
       "        117.17141436,   73.12263991,    7.09748621,  -30.71726875,\n",
       "        -97.13835507,   10.5972976 , -192.10495586,   87.91015826,\n",
       "        -99.4186829 ,  168.1909319 ,  245.61754746,  168.53515144,\n",
       "       -195.38968194,  108.18236398,   -6.84030756,   28.28342737,\n",
       "       -129.41427533, -112.85046423,   26.80009279,   30.01605662,\n",
       "        -35.08118344,  -39.23236773,   81.90549396,  116.61449112,\n",
       "        -19.54790058,  176.26552185, -140.05152947, -276.9999993 ,\n",
       "         16.25749007,  -64.4426391 ,  -48.08929238,   58.99948134,\n",
       "        -10.77115937,  109.46362025,  -35.06663197,   -2.84643323,\n",
       "        -39.60784011,   77.26331148,  203.1916452 ,   24.66694645,\n",
       "        -29.83387466,   19.85874499,  -34.73049859,  -34.84627925,\n",
       "        -35.63408569,  -62.22443576,   20.59471052, -118.9293364 ,\n",
       "       -101.17591701, -142.95030347, -110.24802841,   50.8955122 ,\n",
       "         42.69615817,  -27.5188319 ,  -34.58689289, -172.2453077 ,\n",
       "        205.49488047,  -73.74496152,  -54.99512937,   70.04488958,\n",
       "          5.26188661,  136.3587992 ,   10.42764881,  -91.06205657,\n",
       "          2.30428845,  204.32039945,   73.14384406,  132.76069615,\n",
       "         -5.75513963,  159.84656208,  -47.25389589,  -23.06588836,\n",
       "        202.62975152,   84.64549589, -107.59906489,  -22.00565558,\n",
       "         -5.06147806,   79.77415807, -113.97478343,  -11.58140077,\n",
       "       -211.11711217,  -71.73101823,  154.83242392,  -20.68888198,\n",
       "        -98.76209676,  210.71979811,   87.82419356,  -17.6118874 ,\n",
       "         63.25090571,  133.21098298, -168.67360771,  -46.99019283,\n",
       "        -60.25511137,  259.17572315,   30.57813147,   33.2899447 ,\n",
       "        -51.98713531,  123.52302874,  115.7114873 ,  -12.26867129,\n",
       "        -41.15909034,  -54.30413739,  161.69371241,  -31.7343293 ,\n",
       "       -132.82863689,  112.77236697,  109.70163514,   19.24827146,\n",
       "        -95.07242455,  201.10608367])"
      ]
     },
     "execution_count": 31,
     "metadata": {},
     "output_type": "execute_result"
    }
   ],
   "source": [
    "# 8.1 가격 10000원 주식. 일간 수익률  # 틀린버전.\n",
    "\n",
    "stock = np.random.randn(250)\n",
    "100*stock"
   ]
  },
  {
   "cell_type": "code",
   "execution_count": 32,
   "metadata": {},
   "outputs": [
    {
     "data": {
      "text/plain": [
       "array([ 0.01488609,  0.00676011, -0.00418451, -0.00806521,  0.00555876])"
      ]
     },
     "execution_count": 32,
     "metadata": {},
     "output_type": "execute_result"
    }
   ],
   "source": [
    "# 쌤과 함께 # 5개만 먼저 테스트 # 0.01은 어디서 오지? 기대값이 0퍼인데..ㅇ\n",
    "\n",
    "np.random.seed(2021)\n",
    "rate = np.random.randn(5) * 0.01\n",
    "rate"
   ]
  },
  {
   "cell_type": "code",
   "execution_count": 33,
   "metadata": {},
   "outputs": [
    {
     "name": "stdout",
     "output_type": "stream",
     "text": [
      "10149 10218 10175 10093 10149 "
     ]
    }
   ],
   "source": [
    "price = 10000\n",
    "for i in range(5):\n",
    "    price += price * rate[i]    # price = price * (1 + rate[i])\n",
    "    price = np.round(price)     # 국내주식 소숫점 없으니 반올림\n",
    "    print(int(price), end=' ')"
   ]
  },
  {
   "cell_type": "code",
   "execution_count": 34,
   "metadata": {},
   "outputs": [
    {
     "data": {
      "text/plain": [
       "[10000, 10149, 10218, 10175, 10093, 10149, 10077, 10191, 10257, 10268]"
      ]
     },
     "execution_count": 34,
     "metadata": {},
     "output_type": "execute_result"
    }
   ],
   "source": [
    "# 250개로 확장 \n",
    "np.random.seed(2021)\n",
    "rate = np.random.randn(250) * 0.01\n",
    "\n",
    "price = 10000\n",
    "price_list= [10000]                         # 초기값 없이 10000부터 더해져도 무관\n",
    "for i in range(250):\n",
    "    price = price_list[i] * ( 1 + rate[i])     # price = price * \n",
    "    price = np.round(price)                 # 국내주식 소숫점 없으니 반올림\n",
    "    price_list.append(int(price))\n",
    "\n",
    "price_list[:10]"
   ]
  },
  {
   "cell_type": "code",
   "execution_count": 35,
   "metadata": {},
   "outputs": [
    {
     "data": {
      "text/plain": [
       "array([10000, 10149, 10218, 10175, 10093, 10149, 10077, 10191, 10257,\n",
       "       10268])"
      ]
     },
     "execution_count": 35,
     "metadata": {},
     "output_type": "execute_result"
    }
   ],
   "source": [
    "# empty # C 방식의 , 리스트에 어펜드 사용하기 전 방식연습\n",
    "np.random.seed(2021)\n",
    "rate = np.random.randn(250) * 0.01\n",
    "\n",
    "price_array = np.empty(251, int)          # C 방식의 공간창출\n",
    "price_array[0] = 10000                      \n",
    "for i in range(250):\n",
    "    price = price_array[i] * ( 1 + rate[i])  # price = price * \n",
    "    price = np.round(price)                 # 국내주식 소숫점 없으니 반올림\n",
    "    price_array[i+1] = int(price)\n",
    "\n",
    "price_array[:10]"
   ]
  }
 ],
 "metadata": {
  "interpreter": {
   "hash": "b3ba2566441a7c06988d0923437866b63cedc61552a5af99d1f4fb67d367b25f"
  },
  "kernelspec": {
   "display_name": "Python 3.8.8 64-bit ('base': conda)",
   "language": "python",
   "name": "python3"
  },
  "language_info": {
   "codemirror_mode": {
    "name": "ipython",
    "version": 3
   },
   "file_extension": ".py",
   "mimetype": "text/x-python",
   "name": "python",
   "nbconvert_exporter": "python",
   "pygments_lexer": "ipython3",
   "version": "3.8.8"
  },
  "orig_nbformat": 4
 },
 "nbformat": 4,
 "nbformat_minor": 2
}
