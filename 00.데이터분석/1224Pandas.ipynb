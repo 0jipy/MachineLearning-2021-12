{
 "cells": [
  {
   "cell_type": "markdown",
   "metadata": {},
   "source": [
    "과제. Pandas 연습문제 풀이 "
   ]
  },
  {
   "cell_type": "markdown",
   "metadata": {},
   "source": [
    "마지막 참고사항. \n",
    "붗꽃 데이터는 분류모델로 자주 쓰여. setosa, versicolor, virginica 3개종을 잘 예측할 수록 분류모델 성능 업.\n",
    "이상치 제거는 분류모델의 성능을 향상시키기 위해 하는 것이기에 . \n",
    "종별로 이상치를 제거하여. discibe()를 답으로 보여주기엔 어색하다. \n",
    "종을 구분하지 않고. iris 데이터프레임에서 직접 이상치를 제거하고, (4개의 컬럼이 될것) 통계요약을 보여줘야 분류모델의 성능을 향상시키는데 \n",
    "쓸모가 있을것이다.  "
   ]
  },
  {
   "cell_type": "markdown",
   "metadata": {},
   "source": [
    "1. 아이리스 데이터 \n",
    "     -  a. 종별로 기초통계량 구하기 descirbe()"
   ]
  },
  {
   "cell_type": "code",
   "execution_count": 128,
   "metadata": {},
   "outputs": [],
   "source": [
    "import numpy as np\n",
    "import pandas as pd\n",
    "import seaborn as sns\n",
    "import warnings\n",
    "warnings.filterwarnings(action='ignore')"
   ]
  },
  {
   "cell_type": "code",
   "execution_count": 129,
   "metadata": {},
   "outputs": [
    {
     "data": {
      "text/plain": [
       "array(['setosa', 'versicolor', 'virginica'], dtype=object)"
      ]
     },
     "execution_count": 129,
     "metadata": {},
     "output_type": "execute_result"
    }
   ],
   "source": [
    "#iris 데려오려고 씨본 임포트\n",
    "# 사이킷런의 iris.keys() 로 나오는 데이터와는 차이가 있다. 애초에 사이킷런의 데이터셋은 df가 아니기도 하고.\n",
    "iris = sns.load_dataset('iris')\n",
    "# iris.head(3)\n",
    "iris.species.unique()\n",
    "# iris.target\n",
    "# iris.keys()"
   ]
  },
  {
   "cell_type": "markdown",
   "metadata": {},
   "source": [
    "* class_setosa"
   ]
  },
  {
   "cell_type": "code",
   "execution_count": 130,
   "metadata": {},
   "outputs": [
    {
     "data": {
      "text/html": [
       "<style  type=\"text/css\" >\n",
       "</style><table id=\"T_1d8ae_\" ><caption>class : SETOSA</caption><thead>    <tr>        <th class=\"blank level0\" ></th>        <th class=\"col_heading level0 col0\" >sepal_length</th>        <th class=\"col_heading level0 col1\" >sepal_width</th>        <th class=\"col_heading level0 col2\" >petal_length</th>        <th class=\"col_heading level0 col3\" >petal_width</th>    </tr></thead><tbody>\n",
       "                <tr>\n",
       "                        <th id=\"T_1d8ae_level0_row0\" class=\"row_heading level0 row0\" >count</th>\n",
       "                        <td id=\"T_1d8ae_row0_col0\" class=\"data row0 col0\" >50.000000</td>\n",
       "                        <td id=\"T_1d8ae_row0_col1\" class=\"data row0 col1\" >50.000000</td>\n",
       "                        <td id=\"T_1d8ae_row0_col2\" class=\"data row0 col2\" >50.000000</td>\n",
       "                        <td id=\"T_1d8ae_row0_col3\" class=\"data row0 col3\" >50.000000</td>\n",
       "            </tr>\n",
       "            <tr>\n",
       "                        <th id=\"T_1d8ae_level0_row1\" class=\"row_heading level0 row1\" >mean</th>\n",
       "                        <td id=\"T_1d8ae_row1_col0\" class=\"data row1 col0\" >5.006000</td>\n",
       "                        <td id=\"T_1d8ae_row1_col1\" class=\"data row1 col1\" >3.428000</td>\n",
       "                        <td id=\"T_1d8ae_row1_col2\" class=\"data row1 col2\" >1.462000</td>\n",
       "                        <td id=\"T_1d8ae_row1_col3\" class=\"data row1 col3\" >0.246000</td>\n",
       "            </tr>\n",
       "            <tr>\n",
       "                        <th id=\"T_1d8ae_level0_row2\" class=\"row_heading level0 row2\" >std</th>\n",
       "                        <td id=\"T_1d8ae_row2_col0\" class=\"data row2 col0\" >0.352490</td>\n",
       "                        <td id=\"T_1d8ae_row2_col1\" class=\"data row2 col1\" >0.379064</td>\n",
       "                        <td id=\"T_1d8ae_row2_col2\" class=\"data row2 col2\" >0.173664</td>\n",
       "                        <td id=\"T_1d8ae_row2_col3\" class=\"data row2 col3\" >0.105386</td>\n",
       "            </tr>\n",
       "            <tr>\n",
       "                        <th id=\"T_1d8ae_level0_row3\" class=\"row_heading level0 row3\" >min</th>\n",
       "                        <td id=\"T_1d8ae_row3_col0\" class=\"data row3 col0\" >4.300000</td>\n",
       "                        <td id=\"T_1d8ae_row3_col1\" class=\"data row3 col1\" >2.300000</td>\n",
       "                        <td id=\"T_1d8ae_row3_col2\" class=\"data row3 col2\" >1.000000</td>\n",
       "                        <td id=\"T_1d8ae_row3_col3\" class=\"data row3 col3\" >0.100000</td>\n",
       "            </tr>\n",
       "            <tr>\n",
       "                        <th id=\"T_1d8ae_level0_row4\" class=\"row_heading level0 row4\" >25%</th>\n",
       "                        <td id=\"T_1d8ae_row4_col0\" class=\"data row4 col0\" >4.800000</td>\n",
       "                        <td id=\"T_1d8ae_row4_col1\" class=\"data row4 col1\" >3.200000</td>\n",
       "                        <td id=\"T_1d8ae_row4_col2\" class=\"data row4 col2\" >1.400000</td>\n",
       "                        <td id=\"T_1d8ae_row4_col3\" class=\"data row4 col3\" >0.200000</td>\n",
       "            </tr>\n",
       "            <tr>\n",
       "                        <th id=\"T_1d8ae_level0_row5\" class=\"row_heading level0 row5\" >50%</th>\n",
       "                        <td id=\"T_1d8ae_row5_col0\" class=\"data row5 col0\" >5.000000</td>\n",
       "                        <td id=\"T_1d8ae_row5_col1\" class=\"data row5 col1\" >3.400000</td>\n",
       "                        <td id=\"T_1d8ae_row5_col2\" class=\"data row5 col2\" >1.500000</td>\n",
       "                        <td id=\"T_1d8ae_row5_col3\" class=\"data row5 col3\" >0.200000</td>\n",
       "            </tr>\n",
       "            <tr>\n",
       "                        <th id=\"T_1d8ae_level0_row6\" class=\"row_heading level0 row6\" >75%</th>\n",
       "                        <td id=\"T_1d8ae_row6_col0\" class=\"data row6 col0\" >5.200000</td>\n",
       "                        <td id=\"T_1d8ae_row6_col1\" class=\"data row6 col1\" >3.675000</td>\n",
       "                        <td id=\"T_1d8ae_row6_col2\" class=\"data row6 col2\" >1.575000</td>\n",
       "                        <td id=\"T_1d8ae_row6_col3\" class=\"data row6 col3\" >0.300000</td>\n",
       "            </tr>\n",
       "            <tr>\n",
       "                        <th id=\"T_1d8ae_level0_row7\" class=\"row_heading level0 row7\" >max</th>\n",
       "                        <td id=\"T_1d8ae_row7_col0\" class=\"data row7 col0\" >5.800000</td>\n",
       "                        <td id=\"T_1d8ae_row7_col1\" class=\"data row7 col1\" >4.400000</td>\n",
       "                        <td id=\"T_1d8ae_row7_col2\" class=\"data row7 col2\" >1.900000</td>\n",
       "                        <td id=\"T_1d8ae_row7_col3\" class=\"data row7 col3\" >0.600000</td>\n",
       "            </tr>\n",
       "    </tbody></table>"
      ],
      "text/plain": [
       "<pandas.io.formats.style.Styler at 0x1aa00a8f2e0>"
      ]
     },
     "execution_count": 130,
     "metadata": {},
     "output_type": "execute_result"
    }
   ],
   "source": [
    "# a 종별로 기초통계량 구하기  # 'setosa', 'versicolor', 'virginica'\n",
    "# iris.describe()\n",
    "# iris[iris.species == 'setosa']\n",
    "\n",
    "class_setosa = iris[iris.species == 'setosa'].describe()       # class = setosa\n",
    "class_setosa.style.set_caption('class : SETOSA')"
   ]
  },
  {
   "cell_type": "markdown",
   "metadata": {},
   "source": [
    "* class_versicolor"
   ]
  },
  {
   "cell_type": "code",
   "execution_count": 131,
   "metadata": {},
   "outputs": [
    {
     "data": {
      "text/html": [
       "<style  type=\"text/css\" >\n",
       "</style><table id=\"T_88d0d_\" ><caption>class : VERSICOLOR</caption><thead>    <tr>        <th class=\"blank level0\" ></th>        <th class=\"col_heading level0 col0\" >sepal_length</th>        <th class=\"col_heading level0 col1\" >sepal_width</th>        <th class=\"col_heading level0 col2\" >petal_length</th>        <th class=\"col_heading level0 col3\" >petal_width</th>    </tr></thead><tbody>\n",
       "                <tr>\n",
       "                        <th id=\"T_88d0d_level0_row0\" class=\"row_heading level0 row0\" >count</th>\n",
       "                        <td id=\"T_88d0d_row0_col0\" class=\"data row0 col0\" >50.000000</td>\n",
       "                        <td id=\"T_88d0d_row0_col1\" class=\"data row0 col1\" >50.000000</td>\n",
       "                        <td id=\"T_88d0d_row0_col2\" class=\"data row0 col2\" >50.000000</td>\n",
       "                        <td id=\"T_88d0d_row0_col3\" class=\"data row0 col3\" >50.000000</td>\n",
       "            </tr>\n",
       "            <tr>\n",
       "                        <th id=\"T_88d0d_level0_row1\" class=\"row_heading level0 row1\" >mean</th>\n",
       "                        <td id=\"T_88d0d_row1_col0\" class=\"data row1 col0\" >5.936000</td>\n",
       "                        <td id=\"T_88d0d_row1_col1\" class=\"data row1 col1\" >2.770000</td>\n",
       "                        <td id=\"T_88d0d_row1_col2\" class=\"data row1 col2\" >4.260000</td>\n",
       "                        <td id=\"T_88d0d_row1_col3\" class=\"data row1 col3\" >1.326000</td>\n",
       "            </tr>\n",
       "            <tr>\n",
       "                        <th id=\"T_88d0d_level0_row2\" class=\"row_heading level0 row2\" >std</th>\n",
       "                        <td id=\"T_88d0d_row2_col0\" class=\"data row2 col0\" >0.516171</td>\n",
       "                        <td id=\"T_88d0d_row2_col1\" class=\"data row2 col1\" >0.313798</td>\n",
       "                        <td id=\"T_88d0d_row2_col2\" class=\"data row2 col2\" >0.469911</td>\n",
       "                        <td id=\"T_88d0d_row2_col3\" class=\"data row2 col3\" >0.197753</td>\n",
       "            </tr>\n",
       "            <tr>\n",
       "                        <th id=\"T_88d0d_level0_row3\" class=\"row_heading level0 row3\" >min</th>\n",
       "                        <td id=\"T_88d0d_row3_col0\" class=\"data row3 col0\" >4.900000</td>\n",
       "                        <td id=\"T_88d0d_row3_col1\" class=\"data row3 col1\" >2.000000</td>\n",
       "                        <td id=\"T_88d0d_row3_col2\" class=\"data row3 col2\" >3.000000</td>\n",
       "                        <td id=\"T_88d0d_row3_col3\" class=\"data row3 col3\" >1.000000</td>\n",
       "            </tr>\n",
       "            <tr>\n",
       "                        <th id=\"T_88d0d_level0_row4\" class=\"row_heading level0 row4\" >25%</th>\n",
       "                        <td id=\"T_88d0d_row4_col0\" class=\"data row4 col0\" >5.600000</td>\n",
       "                        <td id=\"T_88d0d_row4_col1\" class=\"data row4 col1\" >2.525000</td>\n",
       "                        <td id=\"T_88d0d_row4_col2\" class=\"data row4 col2\" >4.000000</td>\n",
       "                        <td id=\"T_88d0d_row4_col3\" class=\"data row4 col3\" >1.200000</td>\n",
       "            </tr>\n",
       "            <tr>\n",
       "                        <th id=\"T_88d0d_level0_row5\" class=\"row_heading level0 row5\" >50%</th>\n",
       "                        <td id=\"T_88d0d_row5_col0\" class=\"data row5 col0\" >5.900000</td>\n",
       "                        <td id=\"T_88d0d_row5_col1\" class=\"data row5 col1\" >2.800000</td>\n",
       "                        <td id=\"T_88d0d_row5_col2\" class=\"data row5 col2\" >4.350000</td>\n",
       "                        <td id=\"T_88d0d_row5_col3\" class=\"data row5 col3\" >1.300000</td>\n",
       "            </tr>\n",
       "            <tr>\n",
       "                        <th id=\"T_88d0d_level0_row6\" class=\"row_heading level0 row6\" >75%</th>\n",
       "                        <td id=\"T_88d0d_row6_col0\" class=\"data row6 col0\" >6.300000</td>\n",
       "                        <td id=\"T_88d0d_row6_col1\" class=\"data row6 col1\" >3.000000</td>\n",
       "                        <td id=\"T_88d0d_row6_col2\" class=\"data row6 col2\" >4.600000</td>\n",
       "                        <td id=\"T_88d0d_row6_col3\" class=\"data row6 col3\" >1.500000</td>\n",
       "            </tr>\n",
       "            <tr>\n",
       "                        <th id=\"T_88d0d_level0_row7\" class=\"row_heading level0 row7\" >max</th>\n",
       "                        <td id=\"T_88d0d_row7_col0\" class=\"data row7 col0\" >7.000000</td>\n",
       "                        <td id=\"T_88d0d_row7_col1\" class=\"data row7 col1\" >3.400000</td>\n",
       "                        <td id=\"T_88d0d_row7_col2\" class=\"data row7 col2\" >5.100000</td>\n",
       "                        <td id=\"T_88d0d_row7_col3\" class=\"data row7 col3\" >1.800000</td>\n",
       "            </tr>\n",
       "    </tbody></table>"
      ],
      "text/plain": [
       "<pandas.io.formats.style.Styler at 0x1aa00a1b790>"
      ]
     },
     "execution_count": 131,
     "metadata": {},
     "output_type": "execute_result"
    }
   ],
   "source": [
    "class_versicolor = iris[iris.species == 'versicolor'].describe()  \n",
    "class_versicolor.style.set_caption('class : VERSICOLOR')"
   ]
  },
  {
   "cell_type": "markdown",
   "metadata": {},
   "source": [
    "* class_virginica"
   ]
  },
  {
   "cell_type": "code",
   "execution_count": 132,
   "metadata": {},
   "outputs": [
    {
     "data": {
      "text/html": [
       "<style  type=\"text/css\" >\n",
       "</style><table id=\"T_b5d92_\" ><caption>class : VIRGINICA</caption><thead>    <tr>        <th class=\"blank level0\" ></th>        <th class=\"col_heading level0 col0\" >sepal_length</th>        <th class=\"col_heading level0 col1\" >sepal_width</th>        <th class=\"col_heading level0 col2\" >petal_length</th>        <th class=\"col_heading level0 col3\" >petal_width</th>    </tr></thead><tbody>\n",
       "                <tr>\n",
       "                        <th id=\"T_b5d92_level0_row0\" class=\"row_heading level0 row0\" >count</th>\n",
       "                        <td id=\"T_b5d92_row0_col0\" class=\"data row0 col0\" >50.000000</td>\n",
       "                        <td id=\"T_b5d92_row0_col1\" class=\"data row0 col1\" >50.000000</td>\n",
       "                        <td id=\"T_b5d92_row0_col2\" class=\"data row0 col2\" >50.000000</td>\n",
       "                        <td id=\"T_b5d92_row0_col3\" class=\"data row0 col3\" >50.000000</td>\n",
       "            </tr>\n",
       "            <tr>\n",
       "                        <th id=\"T_b5d92_level0_row1\" class=\"row_heading level0 row1\" >mean</th>\n",
       "                        <td id=\"T_b5d92_row1_col0\" class=\"data row1 col0\" >6.588000</td>\n",
       "                        <td id=\"T_b5d92_row1_col1\" class=\"data row1 col1\" >2.974000</td>\n",
       "                        <td id=\"T_b5d92_row1_col2\" class=\"data row1 col2\" >5.552000</td>\n",
       "                        <td id=\"T_b5d92_row1_col3\" class=\"data row1 col3\" >2.026000</td>\n",
       "            </tr>\n",
       "            <tr>\n",
       "                        <th id=\"T_b5d92_level0_row2\" class=\"row_heading level0 row2\" >std</th>\n",
       "                        <td id=\"T_b5d92_row2_col0\" class=\"data row2 col0\" >0.635880</td>\n",
       "                        <td id=\"T_b5d92_row2_col1\" class=\"data row2 col1\" >0.322497</td>\n",
       "                        <td id=\"T_b5d92_row2_col2\" class=\"data row2 col2\" >0.551895</td>\n",
       "                        <td id=\"T_b5d92_row2_col3\" class=\"data row2 col3\" >0.274650</td>\n",
       "            </tr>\n",
       "            <tr>\n",
       "                        <th id=\"T_b5d92_level0_row3\" class=\"row_heading level0 row3\" >min</th>\n",
       "                        <td id=\"T_b5d92_row3_col0\" class=\"data row3 col0\" >4.900000</td>\n",
       "                        <td id=\"T_b5d92_row3_col1\" class=\"data row3 col1\" >2.200000</td>\n",
       "                        <td id=\"T_b5d92_row3_col2\" class=\"data row3 col2\" >4.500000</td>\n",
       "                        <td id=\"T_b5d92_row3_col3\" class=\"data row3 col3\" >1.400000</td>\n",
       "            </tr>\n",
       "            <tr>\n",
       "                        <th id=\"T_b5d92_level0_row4\" class=\"row_heading level0 row4\" >25%</th>\n",
       "                        <td id=\"T_b5d92_row4_col0\" class=\"data row4 col0\" >6.225000</td>\n",
       "                        <td id=\"T_b5d92_row4_col1\" class=\"data row4 col1\" >2.800000</td>\n",
       "                        <td id=\"T_b5d92_row4_col2\" class=\"data row4 col2\" >5.100000</td>\n",
       "                        <td id=\"T_b5d92_row4_col3\" class=\"data row4 col3\" >1.800000</td>\n",
       "            </tr>\n",
       "            <tr>\n",
       "                        <th id=\"T_b5d92_level0_row5\" class=\"row_heading level0 row5\" >50%</th>\n",
       "                        <td id=\"T_b5d92_row5_col0\" class=\"data row5 col0\" >6.500000</td>\n",
       "                        <td id=\"T_b5d92_row5_col1\" class=\"data row5 col1\" >3.000000</td>\n",
       "                        <td id=\"T_b5d92_row5_col2\" class=\"data row5 col2\" >5.550000</td>\n",
       "                        <td id=\"T_b5d92_row5_col3\" class=\"data row5 col3\" >2.000000</td>\n",
       "            </tr>\n",
       "            <tr>\n",
       "                        <th id=\"T_b5d92_level0_row6\" class=\"row_heading level0 row6\" >75%</th>\n",
       "                        <td id=\"T_b5d92_row6_col0\" class=\"data row6 col0\" >6.900000</td>\n",
       "                        <td id=\"T_b5d92_row6_col1\" class=\"data row6 col1\" >3.175000</td>\n",
       "                        <td id=\"T_b5d92_row6_col2\" class=\"data row6 col2\" >5.875000</td>\n",
       "                        <td id=\"T_b5d92_row6_col3\" class=\"data row6 col3\" >2.300000</td>\n",
       "            </tr>\n",
       "            <tr>\n",
       "                        <th id=\"T_b5d92_level0_row7\" class=\"row_heading level0 row7\" >max</th>\n",
       "                        <td id=\"T_b5d92_row7_col0\" class=\"data row7 col0\" >7.900000</td>\n",
       "                        <td id=\"T_b5d92_row7_col1\" class=\"data row7 col1\" >3.800000</td>\n",
       "                        <td id=\"T_b5d92_row7_col2\" class=\"data row7 col2\" >6.900000</td>\n",
       "                        <td id=\"T_b5d92_row7_col3\" class=\"data row7 col3\" >2.500000</td>\n",
       "            </tr>\n",
       "    </tbody></table>"
      ],
      "text/plain": [
       "<pandas.io.formats.style.Styler at 0x1aa00e40490>"
      ]
     },
     "execution_count": 132,
     "metadata": {},
     "output_type": "execute_result"
    }
   ],
   "source": [
    "class_virginica = iris[iris.species == 'virginica'].describe()  \n",
    "class_virginica.style.set_caption('class : VIRGINICA')"
   ]
  },
  {
   "cell_type": "markdown",
   "metadata": {},
   "source": [
    "b. 3분위수(Q3)와 1분위수(Q1)의 차이보다 1.5배가 크거나 작은 데이터는 이상치이다.\n",
    "즉,\n",
    "Q1 - 1.5 * (Q3 - Q1) 보다 작은 데이터\n",
    "Q3 + 1.5 * (Q3 - Q1) 보다 큰 데이터\n",
    "이 이상치를 제거하고 위의 4가지 항목에 대해서 평균, 표준편차를 구하시오."
   ]
  },
  {
   "cell_type": "code",
   "execution_count": 7,
   "metadata": {},
   "outputs": [],
   "source": [
    "# 이상치와 박스플롯에 대해 이해하고 있다면, (사분위수, 혹은 IQR)\n",
    "# 곧바로 코드작성해서 문제없으나, 일단 이상치가 있는지 없는지 라도 확인해 보고자 한다. \n",
    "# 그림에서 o 로 표시된 데이터가, 최대값 or 최솟값을 벗어난 outlier이다. 처리방법 고민하자."
   ]
  },
  {
   "cell_type": "code",
   "execution_count": 133,
   "metadata": {},
   "outputs": [
    {
     "data": {
      "image/png": "[encoded data removed]",
      "text/plain": [
       "<Figure size 432x432 with 1 Axes>"
      ]
     },
     "metadata": {
      "needs_background": "light"
     },
     "output_type": "display_data"
    }
   ],
   "source": [
    "import matplotlib.pyplot as plt \n",
    "\n",
    "setosa = iris[iris.species == 'setosa'].iloc[:, : -1]\n",
    "plt.figure(figsize=(6,6))\n",
    "plt.boxplot(setosa, labels=class_setosa.columns)   # x축에 class_setosa 컬럼이름 표기하고자.\n",
    "plt.show()\n",
    "\n",
    "# setosa 각 컬럼의 이상치는 0, 2, 3, 2 개로 예상이 된다."
   ]
  },
  {
   "cell_type": "markdown",
   "metadata": {},
   "source": [
    "### 참고사항 길어서 맠다운. 숨겨둠"
   ]
  },
  {
   "cell_type": "code",
   "execution_count": 115,
   "metadata": {},
   "outputs": [],
   "source": [
    "# 참고 \n",
    "# DataFrame.describe(percentiles=None,\n",
    "#                    include=None,\n",
    "#                    exclude=None,\n",
    "#                    datetime_is_numeric=False)"
   ]
  },
  {
   "cell_type": "code",
   "execution_count": 109,
   "metadata": {},
   "outputs": [
    {
     "name": "stdout",
     "output_type": "stream",
     "text": [
      "4.8 5.2 0.40000000000000036 <class 'numpy.dtype'>\n"
     ]
    }
   ],
   "source": [
    "Q1 = np.percentile(setosa.sepal_length, 25)  # 1/4 분위수 1시그마라고 표현하려함. (맞는 표현 아니야.) 일사분위수 가 낳나?\n",
    "Q3 = np.percentile(setosa.sepal_length, 75)  # 3/4 분위수\n",
    "iqr = Q3 - Q1\n",
    "print(Q1, Q3, iqr, np.dtype)\n",
    "# 반복문 사용 고려해 인덱스로 outlier 확인 할수 있는 함수 정의해보기"
   ]
  },
  {
   "cell_type": "code",
   "execution_count": 89,
   "metadata": {},
   "outputs": [],
   "source": [
    "# setasa sepla_legth에서 이상치 제거 : 기대하는 결과는 제거된 값이 없을것.\n",
    "# class_setosa.sepal_length =\n",
    "\n",
    "# setosa.sepal_length[setosa.sepal_length <= Q1-1.5*iqr ]  최소값 이하의 이상치 \n",
    "# setosa.sepal_length[setosa.sepal_length >= Q3+1.5*iqr ]  최대값 이상의 이상치  \n",
    "# setosa.iloc[:,:1][(setosa.iloc[:,:1] > Q1-1.5*iqr) & (setosa.iloc[:,:1] < Q3+1.5*iqr)] \n",
    "\n",
    "# setosa.sepal_length =    #추후에는 sepal_length말고 행 인덱스 번호로 슬라이싱 할것임.\n",
    "\n",
    "\n",
    "# 대강의 확인작업 끝. df단위로는 안될것 같으니. 종별로 피처별로 분할한 시리즈를 순회할 수 있도록 함수화. 프로그램화"
   ]
  },
  {
   "cell_type": "code",
   "execution_count": null,
   "metadata": {},
   "outputs": [],
   "source": [
    "# setosa.sepal_length = setosa[setosa.iloc[:,:1] <3]\n",
    "# setosa.sepal_length\n",
    "# setosa\n",
    "\n",
    "# setosa.iloc[:,:1][~((setosa.iloc[:,:1] > 2) & (setosa.iloc[:,:1] < 5)) ]\n",
    "# setosa.iloc[:,:1][(setosa.iloc[:,:1] > Q1-1.5*iqr) & (setosa.iloc[:,:1] < Q3+1.5*iqr)]  # 세팔랭스 이상치 없음."
   ]
  },
  {
   "cell_type": "code",
   "execution_count": 113,
   "metadata": {},
   "outputs": [
    {
     "data": {
      "text/plain": [
       "Series([], Name: petal_width, dtype: float64)"
      ]
     },
     "execution_count": 113,
     "metadata": {},
     "output_type": "execute_result"
    }
   ],
   "source": [
    "# setosa.iloc[:,0][(setosa.iloc[:,0] > Q1-1.5*iqr) & (setosa.iloc[:,0] < Q3+1.5*iqr)]  # 세팔랭스 이상치 없음.\n",
    "# setosa.iloc[:,1][(setosa.iloc[:,1] > Q1-1.5*iqr) & (setosa.iloc[:,1] < Q3+1.5*iqr)]  # 세팔위드스 이상치 2개 기대\n",
    "# setosa.iloc[:,2][(setosa.iloc[:,2] > Q1-1.5*iqr) & (setosa.iloc[:,2] < Q3+1.5*iqr)]    # 페탈 랭스 3개 기대\n",
    "# setosa.iloc[:,3][(setosa.iloc[:,3] > Q1-1.5*iqr) & (setosa.iloc[:,3] < Q3+1.5*iqr)]   #페탈 위드스 2개 기대"
   ]
  },
  {
   "cell_type": "code",
   "execution_count": 104,
   "metadata": {},
   "outputs": [
    {
     "name": "stdout",
     "output_type": "stream",
     "text": [
      "3.2 3.6750000000000003 0.4750000000000001 <class 'numpy.dtype'>\n"
     ]
    }
   ],
   "source": [
    "# Q11 = np.percentile(setosa.sepal_width, 25)  # 1/4 분위수 1시그마라고 표현하려함. (맞는 표현 아니야.) 일사분위수 가 낳나?\n",
    "# Q33 = np.percentile(setosa.sepal_width, 75)  # 3/4 분위수\n",
    "# iqr = Q33 - Q11\n",
    "# print(Q11, Q33, iqr, np.dtype)"
   ]
  },
  {
   "cell_type": "markdown",
   "metadata": {},
   "source": [
    "### setosa.sepal_width 시리즈부터 이상치 제거 \n",
    "\n",
    "sepal_length 는 이상치 없을것으로 보여서  테스트 위해 2번째 sepal_width 컬럼부터 \n",
    "\n",
    "cf. 각 컬럼의 이상치를 제거했을때 , 컬럼별 50개인 데이터의 수가 각각 달라질 것이기에 .discribe()를 사용못할것으로 예상.\n",
    "에러없이 돌아간다고 하더라고, 0값, 혹은 nan,null등의 값 때문에 평균 및 표준편차 계산 틀어질 것으로 기대.\n",
    "그러므로 이상치 시리즈만 만들어두고 평균과 표준편차 구할 것."
   ]
  },
  {
   "cell_type": "code",
   "execution_count": 135,
   "metadata": {},
   "outputs": [
    {
     "data": {
      "text/html": [
       "<div>\n",
       "<style scoped>\n",
       "    .dataframe tbody tr th:only-of-type {\n",
       "        vertical-align: middle;\n",
       "    }\n",
       "\n",
       "    .dataframe tbody tr th {\n",
       "        vertical-align: top;\n",
       "    }\n",
       "\n",
       "    .dataframe thead th {\n",
       "        text-align: right;\n",
       "    }\n",
       "</style>\n",
       "<table border=\"1\" class=\"dataframe\">\n",
       "  <thead>\n",
       "    <tr style=\"text-align: right;\">\n",
       "      <th></th>\n",
       "      <th>sepal_length</th>\n",
       "      <th>sepal_width</th>\n",
       "      <th>petal_length</th>\n",
       "      <th>petal_width</th>\n",
       "    </tr>\n",
       "  </thead>\n",
       "  <tbody>\n",
       "    <tr>\n",
       "      <th>count</th>\n",
       "      <td>50.00000</td>\n",
       "      <td>50.000000</td>\n",
       "      <td>50.000000</td>\n",
       "      <td>50.000000</td>\n",
       "    </tr>\n",
       "    <tr>\n",
       "      <th>mean</th>\n",
       "      <td>5.00600</td>\n",
       "      <td>3.428000</td>\n",
       "      <td>1.462000</td>\n",
       "      <td>0.246000</td>\n",
       "    </tr>\n",
       "    <tr>\n",
       "      <th>std</th>\n",
       "      <td>0.35249</td>\n",
       "      <td>0.379064</td>\n",
       "      <td>0.173664</td>\n",
       "      <td>0.105386</td>\n",
       "    </tr>\n",
       "    <tr>\n",
       "      <th>min</th>\n",
       "      <td>4.30000</td>\n",
       "      <td>2.300000</td>\n",
       "      <td>1.000000</td>\n",
       "      <td>0.100000</td>\n",
       "    </tr>\n",
       "    <tr>\n",
       "      <th>25%</th>\n",
       "      <td>4.80000</td>\n",
       "      <td>3.200000</td>\n",
       "      <td>1.400000</td>\n",
       "      <td>0.200000</td>\n",
       "    </tr>\n",
       "    <tr>\n",
       "      <th>50%</th>\n",
       "      <td>5.00000</td>\n",
       "      <td>3.400000</td>\n",
       "      <td>1.500000</td>\n",
       "      <td>0.200000</td>\n",
       "    </tr>\n",
       "    <tr>\n",
       "      <th>75%</th>\n",
       "      <td>5.20000</td>\n",
       "      <td>3.675000</td>\n",
       "      <td>1.575000</td>\n",
       "      <td>0.300000</td>\n",
       "    </tr>\n",
       "    <tr>\n",
       "      <th>max</th>\n",
       "      <td>5.80000</td>\n",
       "      <td>4.400000</td>\n",
       "      <td>1.900000</td>\n",
       "      <td>0.600000</td>\n",
       "    </tr>\n",
       "  </tbody>\n",
       "</table>\n",
       "</div>"
      ],
      "text/plain": [
       "       sepal_length  sepal_width  petal_length  petal_width\n",
       "count      50.00000    50.000000     50.000000    50.000000\n",
       "mean        5.00600     3.428000      1.462000     0.246000\n",
       "std         0.35249     0.379064      0.173664     0.105386\n",
       "min         4.30000     2.300000      1.000000     0.100000\n",
       "25%         4.80000     3.200000      1.400000     0.200000\n",
       "50%         5.00000     3.400000      1.500000     0.200000\n",
       "75%         5.20000     3.675000      1.575000     0.300000\n",
       "max         5.80000     4.400000      1.900000     0.600000"
      ]
     },
     "execution_count": 135,
     "metadata": {},
     "output_type": "execute_result"
    }
   ],
   "source": [
    "# setosa.head(3)\n",
    "class_setosa    # 4분위수 서치 위해서 class_setosa 의 25%, 75% 값 이용할것. "
   ]
  },
  {
   "cell_type": "code",
   "execution_count": 140,
   "metadata": {},
   "outputs": [
    {
     "name": "stdout",
     "output_type": "stream",
     "text": [
      "3.2 3.6750000000000003 0.4750000000000001\n"
     ]
    }
   ],
   "source": [
    "# setosa.sepal_width\n",
    "Q1 = class_setosa.iloc[4,1]   # 1/4 분위수  값은 25%값으로 3.2\n",
    "Q3 = class_setosa.iloc[6,1]   # 3/4 분위수  값은 75%값으로 3.675\n",
    "iqr = Q3 - Q1\n",
    "\n",
    "print(Q1,Q3,iqr)"
   ]
  },
  {
   "cell_type": "code",
   "execution_count": null,
   "metadata": {},
   "outputs": [],
   "source": [
    "# 이상치 확인 및 제거\n",
    "# setosa.sepal_width[setosa.sepal_width < Q1 - 1.5*iqr] #최솟값 벗어난 이상치 #1개확인\n",
    "# setosa.sepal_width[setosa.sepal_width > Q3 + 1.5*iqr] #최댓값 벗어난 이상치 #1개확인\n",
    "\n",
    "setosa.sepal_width[(setosa.sepal_width >= Q1 - 1.5*iqr) & (setosa.sepal_width <= Q3 + 1.5*iqr)]\n",
    "# 위는 이상치 제거된 세팔윗스 시리즈. >=, <= 등 부등호 달라진 것 확인, 48개 데이터 기대함."
   ]
  },
  {
   "cell_type": "code",
   "execution_count": 172,
   "metadata": {},
   "outputs": [
    {
     "data": {
      "text/plain": [
       "mean      3.431250\n",
       "std       0.320343\n",
       "count    48.000000\n",
       "Name: sepal_width, dtype: float64"
      ]
     },
     "execution_count": 172,
     "metadata": {},
     "output_type": "execute_result"
    }
   ],
   "source": [
    "setosa.sepal_width[(setosa.sepal_width >= Q1 - 1.5*iqr) & (setosa.sepal_width <= Q3 + 1.5*iqr)].agg(['mean','std','count'])"
   ]
  },
  {
   "cell_type": "markdown",
   "metadata": {},
   "source": [
    "sepal_width 컬럼 이상치2개 제거후(NaN값 채우기) mean, std 확인. 근데 이게 되네???"
   ]
  },
  {
   "cell_type": "code",
   "execution_count": 175,
   "metadata": {},
   "outputs": [
    {
     "data": {
      "text/plain": [
       "array([3.5, 3. , 3.2, 3.1, 3.6, 3.9, 3.4, 3.4, 2.9, 3.1, 3.7, 3.4, 3. ,\n",
       "       3. , 4. , nan, 3.9, 3.5, 3.8, 3.8, 3.4, 3.7, 3.6, 3.3, 3.4, 3. ,\n",
       "       3.4, 3.5, 3.4, 3.2, 3.1, 3.4, 4.1, 4.2, 3.1, 3.2, 3.5, 3.6, 3. ,\n",
       "       3.4, 3.5, nan, 3.2, 3.5, 3.8, 3. , 3.8, 3.2, 3.7, 3.3])"
      ]
     },
     "execution_count": 175,
     "metadata": {},
     "output_type": "execute_result"
    }
   ],
   "source": [
    "setosa.sepal_width.values[setosa.sepal_width < Q1 - 1.5*iqr] = np.NaN\n",
    "setosa.sepal_width.values[setosa.sepal_width > Q3 + 1.5*iqr] = np.NaN\n",
    "setosa.sepal_width.values\n"
   ]
  },
  {
   "cell_type": "code",
   "execution_count": 179,
   "metadata": {},
   "outputs": [
    {
     "data": {
      "text/plain": [
       "mean      3.431250\n",
       "std       0.320343\n",
       "count    48.000000\n",
       "Name: sepal_width, dtype: float64"
      ]
     },
     "execution_count": 179,
     "metadata": {},
     "output_type": "execute_result"
    }
   ],
   "source": [
    "setosa.sepal_width.agg(['mean','std','count'])"
   ]
  },
  {
   "cell_type": "code",
   "execution_count": 181,
   "metadata": {},
   "outputs": [
    {
     "data": {
      "text/html": [
       "<div>\n",
       "<style scoped>\n",
       "    .dataframe tbody tr th:only-of-type {\n",
       "        vertical-align: middle;\n",
       "    }\n",
       "\n",
       "    .dataframe tbody tr th {\n",
       "        vertical-align: top;\n",
       "    }\n",
       "\n",
       "    .dataframe thead th {\n",
       "        text-align: right;\n",
       "    }\n",
       "</style>\n",
       "<table border=\"1\" class=\"dataframe\">\n",
       "  <thead>\n",
       "    <tr style=\"text-align: right;\">\n",
       "      <th></th>\n",
       "      <th>sepal_width</th>\n",
       "    </tr>\n",
       "  </thead>\n",
       "  <tbody>\n",
       "    <tr>\n",
       "      <th>mean</th>\n",
       "      <td>3.431250</td>\n",
       "    </tr>\n",
       "    <tr>\n",
       "      <th>std</th>\n",
       "      <td>0.320343</td>\n",
       "    </tr>\n",
       "    <tr>\n",
       "      <th>count</th>\n",
       "      <td>48.000000</td>\n",
       "    </tr>\n",
       "  </tbody>\n",
       "</table>\n",
       "</div>"
      ],
      "text/plain": [
       "       sepal_width\n",
       "mean      3.431250\n",
       "std       0.320343\n",
       "count    48.000000"
      ]
     },
     "execution_count": 181,
     "metadata": {},
     "output_type": "execute_result"
    }
   ],
   "source": [
    "small_vic = pd.DataFrame(setosa.sepal_width.agg(['mean','std','count']))\n",
    "small_vic"
   ]
  },
  {
   "cell_type": "markdown",
   "metadata": {},
   "source": [
    "함수화 def"
   ]
  },
  {
   "cell_type": "code",
   "execution_count": 194,
   "metadata": {},
   "outputs": [],
   "source": [
    "# 아웃라이어를 제거하는 함수. 교재 274p참고 파머완\n",
    "def get_newstats(x):\n",
    "    # column = setosa.col\n",
    "    # setosa.col = col\n",
    "    Q1 = np.percentile(x, 25)\n",
    "\n",
    "\n",
    "    Q1 = np.percentile(x, 25)\n",
    "    Q3 = np.percentile(x, 75)\n",
    "    iqr = Q3 - Q1\n",
    "    # 이상치 nan처리\n",
    "    x.values[x < Q1 - 1.5*iqr] = np.NaN\n",
    "    x.values[x > Q3 + 1.5*iqr] = np.NaN\n",
    "    #일단 agg 시리즈 반환버전\n",
    "    \n",
    "    return x.agg(['mean','std','count'])\n",
    "\n",
    "# f'나의 이름은 {name}입니다. 나이는 {age}입니다.'\n",
    "# '나의 이름은 홍길동입니다. 나이는 30입니다.'\n",
    "\n",
    "    "
   ]
  },
  {
   "cell_type": "markdown",
   "metadata": {},
   "source": []
  },
  {
   "cell_type": "code",
   "execution_count": 195,
   "metadata": {},
   "outputs": [
    {
     "data": {
      "text/plain": [
       "mean      1.460870\n",
       "std       0.129062\n",
       "count    46.000000\n",
       "Name: petal_length, dtype: float64"
      ]
     },
     "execution_count": 195,
     "metadata": {},
     "output_type": "execute_result"
    }
   ],
   "source": [
    "get_newstats(setosa.petal_length)"
   ]
  },
  {
   "cell_type": "code",
   "execution_count": 193,
   "metadata": {},
   "outputs": [
    {
     "data": {
      "text/plain": [
       "0     1.4\n",
       "1     1.4\n",
       "2     1.3\n",
       "3     1.5\n",
       "4     1.4\n",
       "5     1.7\n",
       "6     1.4\n",
       "7     1.5\n",
       "8     1.4\n",
       "9     1.5\n",
       "10    1.5\n",
       "11    1.6\n",
       "12    1.4\n",
       "13    NaN\n",
       "14    1.2\n",
       "15    1.5\n",
       "16    1.3\n",
       "17    1.4\n",
       "18    1.7\n",
       "19    1.5\n",
       "20    1.7\n",
       "21    1.5\n",
       "22    NaN\n",
       "23    1.7\n",
       "24    NaN\n",
       "25    1.6\n",
       "26    1.6\n",
       "27    1.5\n",
       "28    1.4\n",
       "29    1.6\n",
       "30    1.6\n",
       "31    1.5\n",
       "32    1.5\n",
       "33    1.4\n",
       "34    1.5\n",
       "35    1.2\n",
       "36    1.3\n",
       "37    1.4\n",
       "38    1.3\n",
       "39    1.5\n",
       "40    1.3\n",
       "41    1.3\n",
       "42    1.3\n",
       "43    1.6\n",
       "44    NaN\n",
       "45    1.4\n",
       "46    1.6\n",
       "47    1.4\n",
       "48    1.5\n",
       "49    1.4\n",
       "Name: petal_length, dtype: float64"
      ]
     },
     "execution_count": 193,
     "metadata": {},
     "output_type": "execute_result"
    }
   ],
   "source": [
    "setosa.petal_length"
   ]
  },
  {
   "cell_type": "code",
   "execution_count": null,
   "metadata": {},
   "outputs": [],
   "source": [
    "# 아웃라이어를 제거하는 함수. 교재 274p참고 파머완\n",
    "def get_newstats():\n",
    "    # column = setosa.col\n",
    "    # setosa.col = col\n",
    "    Q1 = np.percentile(df.컬럼, 25)\n",
    "\n",
    "\n",
    "    Q1 = np.percentile(setosa.col, 25)\n",
    "    Q3 = np.percentile(setosa.col, 75)\n",
    "    iqr = Q3 - Q1\n",
    "    # 이상치 nan처리\n",
    "    setosa.col.values[setosa.col < Q1 - 1.5*iqr] = np.NaN\n",
    "    setosa.col.values[setosa.col > Q3 + 1.5*iqr] = np.NaN\n",
    "    #일단 agg 시리즈 반환버전\n",
    "    \n",
    "    setosa.col.agg(['mean','std','count'])\n",
    "\n",
    "# f'나의 이름은 {name}입니다. 나이는 {age}입니다.'\n",
    "# '나의 이름은 홍길동입니다. 나이는 30입니다.'\n"
   ]
  },
  {
   "cell_type": "code",
   "execution_count": 188,
   "metadata": {},
   "outputs": [
    {
     "ename": "NameError",
     "evalue": "name 'petal_length' is not defined",
     "output_type": "error",
     "traceback": [
      "\u001b[1;31m---------------------------------------------------------------------------\u001b[0m",
      "\u001b[1;31mNameError\u001b[0m                                 Traceback (most recent call last)",
      "\u001b[1;32m<ipython-input-188-c680e86bc1cb>\u001b[0m in \u001b[0;36m<module>\u001b[1;34m\u001b[0m\n\u001b[1;32m----> 1\u001b[1;33m \u001b[0mget_newstats\u001b[0m\u001b[1;33m(\u001b[0m\u001b[0mpetal_length\u001b[0m\u001b[1;33m)\u001b[0m\u001b[1;33m\u001b[0m\u001b[1;33m\u001b[0m\u001b[0m\n\u001b[0m",
      "\u001b[1;31mNameError\u001b[0m: name 'petal_length' is not defined"
     ]
    }
   ],
   "source": [
    "get_newstats(petal_length)"
   ]
  },
  {
   "cell_type": "code",
   "execution_count": null,
   "metadata": {},
   "outputs": [],
   "source": [
    "def is_perfect_number(num):\n",
    "    sum_of_divisor = 0\n",
    "    for i in range(1, num):\n",
    "        if num % i == 0:\n",
    "            sum_of_divisor += i\n",
    "    return num == sum_of_divisor"
   ]
  },
  {
   "cell_type": "code",
   "execution_count": null,
   "metadata": {},
   "outputs": [],
   "source": []
  },
  {
   "cell_type": "code",
   "execution_count": null,
   "metadata": {},
   "outputs": [],
   "source": []
  },
  {
   "cell_type": "code",
   "execution_count": null,
   "metadata": {},
   "outputs": [],
   "source": []
  },
  {
   "cell_type": "code",
   "execution_count": 28,
   "metadata": {},
   "outputs": [
    {
     "data": {
      "image/png": "[encoded data removed]",
      "text/plain": [
       "<Figure size 432x432 with 1 Axes>"
      ]
     },
     "metadata": {
      "needs_background": "light"
     },
     "output_type": "display_data"
    }
   ],
   "source": [
    "versicolor = iris[iris.species == 'versicolor'].iloc[:, : -1]\n",
    "plt.figure(figsize=(6,6))\n",
    "plt.boxplot(versicolor, labels=class_versicolor.columns)\n",
    "plt.show()\n",
    "\n",
    "# 꼿잎 길이에 이상치 1개 "
   ]
  },
  {
   "cell_type": "code",
   "execution_count": 29,
   "metadata": {},
   "outputs": [
    {
     "data": {
      "image/png": "[encoded data removed]",
      "text/plain": [
       "<Figure size 432x432 with 1 Axes>"
      ]
     },
     "metadata": {
      "needs_background": "light"
     },
     "output_type": "display_data"
    }
   ],
   "source": [
    "import matplotlib.pyplot as plt \n",
    "virginica = iris[iris.species == 'virginica'].iloc[:, : -1]\n",
    "plt.figure(figsize=(6,6))\n",
    "plt.boxplot(virginica, labels=class_virginica.columns)\n",
    "plt.show()"
   ]
  },
  {
   "cell_type": "code",
   "execution_count": 70,
   "metadata": {},
   "outputs": [
    {
     "data": {
      "text/plain": [
       "sepal_length    50\n",
       "sepal_width     50\n",
       "petal_length    50\n",
       "petal_width     50\n",
       "dtype: int64"
      ]
     },
     "execution_count": 70,
     "metadata": {},
     "output_type": "execute_result"
    }
   ],
   "source": [
    "virginica = iris[iris.species == 'virginica'].iloc[:, : -1]\n",
    "virginica.count()"
   ]
  },
  {
   "cell_type": "code",
   "execution_count": null,
   "metadata": {},
   "outputs": [],
   "source": []
  },
  {
   "cell_type": "code",
   "execution_count": null,
   "metadata": {},
   "outputs": [],
   "source": []
  },
  {
   "cell_type": "code",
   "execution_count": null,
   "metadata": {},
   "outputs": [],
   "source": []
  },
  {
   "cell_type": "code",
   "execution_count": null,
   "metadata": {},
   "outputs": [],
   "source": []
  },
  {
   "cell_type": "code",
   "execution_count": null,
   "metadata": {},
   "outputs": [],
   "source": []
  },
  {
   "cell_type": "code",
   "execution_count": null,
   "metadata": {},
   "outputs": [],
   "source": [
    "def get_newstats(s)"
   ]
  }
 ],
 "metadata": {
  "interpreter": {
   "hash": "b3ba2566441a7c06988d0923437866b63cedc61552a5af99d1f4fb67d367b25f"
  },
  "kernelspec": {
   "display_name": "Python 3.8.8 64-bit ('base': conda)",
   "language": "python",
   "name": "python3"
  },
  "language_info": {
   "codemirror_mode": {
    "name": "ipython",
    "version": 3
   },
   "file_extension": ".py",
   "mimetype": "text/x-python",
   "name": "python",
   "nbconvert_exporter": "python",
   "pygments_lexer": "ipython3",
   "version": "3.8.8"
  },
  "orig_nbformat": 4
 },
 "nbformat": 4,
 "nbformat_minor": 2
}
