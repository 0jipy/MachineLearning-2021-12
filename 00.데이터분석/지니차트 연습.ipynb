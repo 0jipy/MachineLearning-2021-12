{
 "cells": [
  {
   "cell_type": "code",
   "execution_count": 1,
   "metadata": {},
   "outputs": [],
   "source": [
    "# 지니차트 200 크롤링 데이터 가져오기"
   ]
  },
  {
   "cell_type": "code",
   "execution_count": null,
   "metadata": {},
   "outputs": [],
   "source": [
    "# 사이트 크롤링 막아놔\n",
    "\n",
    "유저 어전트 이용 헤더 설정. 나는 브라우징을 해서 데이터를 수집중\n",
    "\n"
   ]
  },
  {
   "cell_type": "code",
   "execution_count": null,
   "metadata": {},
   "outputs": [],
   "source": [
    "리스폰스 리퀘스트"
   ]
  },
  {
   "cell_type": "code",
   "execution_count": 2,
   "metadata": {},
   "outputs": [
    {
     "ename": "NameError",
     "evalue": "name '셀렉트원' is not defined",
     "output_type": "error",
     "traceback": [
      "\u001b[1;31m---------------------------------------------------------------------------\u001b[0m",
      "\u001b[1;31mNameError\u001b[0m                                 Traceback (most recent call last)",
      "\u001b[1;32m<ipython-input-2-e0b16da737af>\u001b[0m in \u001b[0;36m<module>\u001b[1;34m\u001b[0m\n\u001b[1;32m----> 1\u001b[1;33m \u001b[0m셀렉트원\u001b[0m\u001b[1;33m\u001b[0m\u001b[1;33m\u001b[0m\u001b[0m\n\u001b[0m\u001b[0;32m      2\u001b[0m \u001b[1;31m#body-content\u001b[0m\u001b[1;33m\u001b[0m\u001b[1;33m\u001b[0m\u001b[1;33m\u001b[0m\u001b[0m\n",
      "\u001b[1;31mNameError\u001b[0m: name '셀렉트원' is not defined"
     ]
    }
   ],
   "source": [
    "셀렉트원\n",
    "#body-content\n"
   ]
  },
  {
   "cell_type": "code",
   "execution_count": 3,
   "metadata": {},
   "outputs": [
    {
     "ename": "SyntaxError",
     "evalue": "invalid syntax (<ipython-input-3-e20877a868c9>, line 3)",
     "output_type": "error",
     "traceback": [
      "\u001b[1;36m  File \u001b[1;32m\"<ipython-input-3-e20877a868c9>\"\u001b[1;36m, line \u001b[1;32m3\u001b[0m\n\u001b[1;33m    1. 빈리스트, 랭크리스트, 타이틀, 아티슽, 앨범  각각 ~~s list\u001b[0m\n\u001b[1;37m       ^\u001b[0m\n\u001b[1;31mSyntaxError\u001b[0m\u001b[1;31m:\u001b[0m invalid syntax\n"
     ]
    }
   ],
   "source": [
    "# 4. 반복문을 통해 데이터 프레임 만들기\n",
    "\n",
    "1. 빈리스트, 랭크리스트, 타이틀, 아티슽, 앨범  각각 ~~s list  \n",
    "\n",
    "for tr in trs:\n",
    "\n",
    "\n",
    "\n",
    "\n",
    "    자료처리 및 어펜드 , 위는 .get_text().strip() 등 사용"
   ]
  },
  {
   "cell_type": "code",
   "execution_count": null,
   "metadata": {},
   "outputs": [],
   "source": [
    "# 데이터 프렝ㅁ 만들기 \n",
    "걍 2차원으로 만들고 때려 넣어\n",
    "\n",
    "줄 단위로 가져오고 줄 단위로 리스트로 어펜드\n",
    "\n",
    "리스트 안에 리스트가 들어가 . "
   ]
  },
  {
   "cell_type": "code",
   "execution_count": 4,
   "metadata": {},
   "outputs": [
    {
     "ename": "SyntaxError",
     "evalue": "invalid syntax (<ipython-input-4-92a827fe2f52>, line 2)",
     "output_type": "error",
     "traceback": [
      "\u001b[1;36m  File \u001b[1;32m\"<ipython-input-4-92a827fe2f52>\"\u001b[1;36m, line \u001b[1;32m2\u001b[0m\n\u001b[1;33m    똑같이 만들수 있어\u001b[0m\n\u001b[1;37m        ^\u001b[0m\n\u001b[1;31mSyntaxError\u001b[0m\u001b[1;31m:\u001b[0m invalid syntax\n"
     ]
    }
   ],
   "source": [
    "# 3. 딕셔너리의 리스트로 만들어. 제이슨으로 나오는 걸로 보이는데. 딕 타입으로 나오면 컬럼명 지정 없이 \n",
    "똑같이 만들수 있어\n",
    "\n",
    "\n",
    "\n",
    "데이터 프레임을 배우면, 크롤링을 배웠을때 약 3가지 정도의 방법\n",
    "\n",
    "1. 각각의 반복문 및 어펜드는 귀찮아 공리스트 방법\n",
    "2. 두번째 방법도 편한데 . 리스트안에 리스트면 2D 데이터 프레임 가능\n",
    "3. 딕셔너리 타입으로 만들면,,,(아무래도 제이슨 맞나 [ {키:밸류}]) 딱봐도 제이슨 맞는데) 연구할것"
   ]
  },
  {
   "cell_type": "code",
   "execution_count": null,
   "metadata": {},
   "outputs": [],
   "source": [
    "선생님이 좋아하는 타입의 데이터 프레임 만들기 \n",
    "\n",
    "도로명 주소 이야기  위도, 경도 정보 \n",
    "\n",
    "place 도로명 주소  : 행안부 도로명주소 api 이요 얻기\n",
    "위도 경도 정보는 카카오 rest api 이용하면 얻을 수 있어.   \n",
    "폴리움 실습처럼 위경도 자료가 [위도, 경도] 로 나올 수 있는데. 그럴때 2번 개별 단위로 리스트 뽑기 가 좋을 수 있어. \n",
    "\n",
    "df.to_csv이용 ('지니차트_Top200(211223).csv', index=False)\n"
   ]
  },
  {
   "cell_type": "code",
   "execution_count": null,
   "metadata": {},
   "outputs": [],
   "source": [
    "항상 CRUD알고 있어야 해"
   ]
  }
 ],
 "metadata": {
  "interpreter": {
   "hash": "b3ba2566441a7c06988d0923437866b63cedc61552a5af99d1f4fb67d367b25f"
  },
  "kernelspec": {
   "display_name": "Python 3.8.8 64-bit ('base': conda)",
   "language": "python",
   "name": "python3"
  },
  "language_info": {
   "codemirror_mode": {
    "name": "ipython",
    "version": 3
   },
   "file_extension": ".py",
   "mimetype": "text/x-python",
   "name": "python",
   "nbconvert_exporter": "python",
   "pygments_lexer": "ipython3",
   "version": "3.8.8"
  },
  "orig_nbformat": 4
 },
 "nbformat": 4,
 "nbformat_minor": 2
}
