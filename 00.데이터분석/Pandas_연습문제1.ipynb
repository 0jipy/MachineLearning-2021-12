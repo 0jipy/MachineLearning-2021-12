{
 "cells": [
  {
   "cell_type": "markdown",
   "metadata": {},
   "source": [
    "과제. Pandas 연습문제 풀이 "
   ]
  },
  {
   "cell_type": "markdown",
   "metadata": {},
   "source": [
    "마지막 참고사항. \n",
    "붗꽃 데이터는 분류모델로 자주 쓰여. setosa, versicolor, virginica 3개종을 잘 예측할 수록 분류모델 성능 업.\n",
    "이상치 제거는 분류모델의 성능을 향상시키기 위해 하는 것이기에 . \n",
    "종별로 이상치를 제거하여. discibe()를 답으로 보여주기엔 어색하다. \n",
    "종을 구분하지 않고. iris 데이터프레임에서 직접 이상치를 제거하고, (4개의 컬럼이 될것) 통계요약을 보여줘야 분류모델의 성능을 향상시키는데 \n",
    "쓸모가 있을것이다.  "
   ]
  },
  {
   "cell_type": "code",
   "execution_count": 1,
   "metadata": {},
   "outputs": [],
   "source": [
    "import numpy as np\n",
    "import pandas as pd\n",
    "import seaborn as sns\n",
    "import warnings\n",
    "warnings.filterwarnings(action='ignore')"
   ]
  },
  {
   "cell_type": "markdown",
   "metadata": {},
   "source": [
    "# 1. 아이리스 데이터 \n",
    "     - a. 종별로 기초통계량 구하기 descirbe()\n",
    "     - b. outlier 제거하고 통계량 구하기"
   ]
  },
  {
   "cell_type": "code",
   "execution_count": 2,
   "metadata": {},
   "outputs": [
    {
     "data": {
      "text/plain": [
       "array(['setosa', 'versicolor', 'virginica'], dtype=object)"
      ]
     },
     "execution_count": 2,
     "metadata": {},
     "output_type": "execute_result"
    }
   ],
   "source": [
    "#iris 데려오려고 씨본 임포트\n",
    "# 사이킷런의 iris.keys() 로 나오는 데이터와는 차이가 있다. 애초에 사이킷런의 데이터셋은 df가 아니기도 하고.\n",
    "iris = sns.load_dataset('iris')\n",
    "# iris.head(3)\n",
    "iris.species.unique()\n",
    "# iris.target\n",
    "# iris.keys()"
   ]
  },
  {
   "cell_type": "markdown",
   "metadata": {},
   "source": [
    "* class_setosa"
   ]
  },
  {
   "cell_type": "code",
   "execution_count": 3,
   "metadata": {},
   "outputs": [
    {
     "data": {
      "text/html": [
       "<style  type=\"text/css\" >\n",
       "</style><table id=\"T_af160_\" ><caption>class : SETOSA</caption><thead>    <tr>        <th class=\"blank level0\" ></th>        <th class=\"col_heading level0 col0\" >sepal_length</th>        <th class=\"col_heading level0 col1\" >sepal_width</th>        <th class=\"col_heading level0 col2\" >petal_length</th>        <th class=\"col_heading level0 col3\" >petal_width</th>    </tr></thead><tbody>\n",
       "                <tr>\n",
       "                        <th id=\"T_af160_level0_row0\" class=\"row_heading level0 row0\" >count</th>\n",
       "                        <td id=\"T_af160_row0_col0\" class=\"data row0 col0\" >50.000000</td>\n",
       "                        <td id=\"T_af160_row0_col1\" class=\"data row0 col1\" >50.000000</td>\n",
       "                        <td id=\"T_af160_row0_col2\" class=\"data row0 col2\" >50.000000</td>\n",
       "                        <td id=\"T_af160_row0_col3\" class=\"data row0 col3\" >50.000000</td>\n",
       "            </tr>\n",
       "            <tr>\n",
       "                        <th id=\"T_af160_level0_row1\" class=\"row_heading level0 row1\" >mean</th>\n",
       "                        <td id=\"T_af160_row1_col0\" class=\"data row1 col0\" >5.006000</td>\n",
       "                        <td id=\"T_af160_row1_col1\" class=\"data row1 col1\" >3.428000</td>\n",
       "                        <td id=\"T_af160_row1_col2\" class=\"data row1 col2\" >1.462000</td>\n",
       "                        <td id=\"T_af160_row1_col3\" class=\"data row1 col3\" >0.246000</td>\n",
       "            </tr>\n",
       "            <tr>\n",
       "                        <th id=\"T_af160_level0_row2\" class=\"row_heading level0 row2\" >std</th>\n",
       "                        <td id=\"T_af160_row2_col0\" class=\"data row2 col0\" >0.352490</td>\n",
       "                        <td id=\"T_af160_row2_col1\" class=\"data row2 col1\" >0.379064</td>\n",
       "                        <td id=\"T_af160_row2_col2\" class=\"data row2 col2\" >0.173664</td>\n",
       "                        <td id=\"T_af160_row2_col3\" class=\"data row2 col3\" >0.105386</td>\n",
       "            </tr>\n",
       "            <tr>\n",
       "                        <th id=\"T_af160_level0_row3\" class=\"row_heading level0 row3\" >min</th>\n",
       "                        <td id=\"T_af160_row3_col0\" class=\"data row3 col0\" >4.300000</td>\n",
       "                        <td id=\"T_af160_row3_col1\" class=\"data row3 col1\" >2.300000</td>\n",
       "                        <td id=\"T_af160_row3_col2\" class=\"data row3 col2\" >1.000000</td>\n",
       "                        <td id=\"T_af160_row3_col3\" class=\"data row3 col3\" >0.100000</td>\n",
       "            </tr>\n",
       "            <tr>\n",
       "                        <th id=\"T_af160_level0_row4\" class=\"row_heading level0 row4\" >25%</th>\n",
       "                        <td id=\"T_af160_row4_col0\" class=\"data row4 col0\" >4.800000</td>\n",
       "                        <td id=\"T_af160_row4_col1\" class=\"data row4 col1\" >3.200000</td>\n",
       "                        <td id=\"T_af160_row4_col2\" class=\"data row4 col2\" >1.400000</td>\n",
       "                        <td id=\"T_af160_row4_col3\" class=\"data row4 col3\" >0.200000</td>\n",
       "            </tr>\n",
       "            <tr>\n",
       "                        <th id=\"T_af160_level0_row5\" class=\"row_heading level0 row5\" >50%</th>\n",
       "                        <td id=\"T_af160_row5_col0\" class=\"data row5 col0\" >5.000000</td>\n",
       "                        <td id=\"T_af160_row5_col1\" class=\"data row5 col1\" >3.400000</td>\n",
       "                        <td id=\"T_af160_row5_col2\" class=\"data row5 col2\" >1.500000</td>\n",
       "                        <td id=\"T_af160_row5_col3\" class=\"data row5 col3\" >0.200000</td>\n",
       "            </tr>\n",
       "            <tr>\n",
       "                        <th id=\"T_af160_level0_row6\" class=\"row_heading level0 row6\" >75%</th>\n",
       "                        <td id=\"T_af160_row6_col0\" class=\"data row6 col0\" >5.200000</td>\n",
       "                        <td id=\"T_af160_row6_col1\" class=\"data row6 col1\" >3.675000</td>\n",
       "                        <td id=\"T_af160_row6_col2\" class=\"data row6 col2\" >1.575000</td>\n",
       "                        <td id=\"T_af160_row6_col3\" class=\"data row6 col3\" >0.300000</td>\n",
       "            </tr>\n",
       "            <tr>\n",
       "                        <th id=\"T_af160_level0_row7\" class=\"row_heading level0 row7\" >max</th>\n",
       "                        <td id=\"T_af160_row7_col0\" class=\"data row7 col0\" >5.800000</td>\n",
       "                        <td id=\"T_af160_row7_col1\" class=\"data row7 col1\" >4.400000</td>\n",
       "                        <td id=\"T_af160_row7_col2\" class=\"data row7 col2\" >1.900000</td>\n",
       "                        <td id=\"T_af160_row7_col3\" class=\"data row7 col3\" >0.600000</td>\n",
       "            </tr>\n",
       "    </tbody></table>"
      ],
      "text/plain": [
       "<pandas.io.formats.style.Styler at 0x191a404daf0>"
      ]
     },
     "execution_count": 3,
     "metadata": {},
     "output_type": "execute_result"
    }
   ],
   "source": [
    "# a 종별로 기초통계량 구하기  # 'setosa', 'versicolor', 'virginica'\n",
    "# iris.describe()\n",
    "# iris[iris.species == 'setosa']\n",
    "\n",
    "class_setosa = iris[iris.species == 'setosa'].describe()       # class = setosa\n",
    "class_setosa.style.set_caption('class : SETOSA')"
   ]
  },
  {
   "cell_type": "markdown",
   "metadata": {},
   "source": [
    "* class_versicolor"
   ]
  },
  {
   "cell_type": "code",
   "execution_count": null,
   "metadata": {},
   "outputs": [],
   "source": [
    "class_versicolor = iris[iris.species == 'versicolor'].describe()  \n",
    "class_versicolor.style.set_caption('class : VERSICOLOR')"
   ]
  },
  {
   "cell_type": "markdown",
   "metadata": {},
   "source": [
    "* class_virginica"
   ]
  },
  {
   "cell_type": "code",
   "execution_count": null,
   "metadata": {},
   "outputs": [],
   "source": [
    "class_virginica = iris[iris.species == 'virginica'].describe()  \n",
    "class_virginica.style.set_caption('class : VIRGINICA')"
   ]
  },
  {
   "cell_type": "markdown",
   "metadata": {},
   "source": [
    "     - b. 3분위수(Q3)와 1분위수(Q1)의 차이보다 1.5배가 크거나 작은 데이터는 이상치이다. \n",
    "     \n",
    "     즉, Q1 - 1.5 * (Q3 - Q1) 보다 작은 데이터 , Q3 + 1.5 * (Q3 - Q1) 보다 큰 데이터\n",
    "\n",
    "     이 이상치를 제거하고 위의 4가지 항목에 대해서 평균, 표준편차를 구하시오.\n",
    "\n",
    "\n",
    "    sol ) 최종적으로는 이상치 NaN 처리를 이용해서 문제를 해결할것.\n",
    "    cf. \n",
    "    # 이상치 nan처리 예시 (x는 setosa.sepal_length , setosa.sepal_width, setosa.petal_length, setosa.petal_width 등)\n",
    "        x.values[x < Q1 - 1.5*iqr] = np.NaN\n",
    "        x.values[x > Q3 + 1.5*iqr] = np.NaN"
   ]
  },
  {
   "cell_type": "code",
   "execution_count": 6,
   "metadata": {},
   "outputs": [],
   "source": [
    "# 이상치와 박스플롯에 대해 이해하고 있다면, (사분위수, 혹은 IQR)\n",
    "# 곧바로 코드작성해서 문제없으나, 일단 이상치가 있는지 없는지 라도 확인해 보고자 한다. \n",
    "# 그림에서 o 로 표시된 데이터가, 최대값 or 최솟값을 벗어난 outlier이다. 처리방법 고민하자."
   ]
  },
  {
   "cell_type": "code",
   "execution_count": 7,
   "metadata": {},
   "outputs": [
    {
     "data": {
      "image/png": "[encoded data removed]",
      "text/plain": [
       "<Figure size 432x432 with 1 Axes>"
      ]
     },
     "metadata": {
      "needs_background": "light"
     },
     "output_type": "display_data"
    }
   ],
   "source": [
    "import matplotlib.pyplot as plt \n",
    "\n",
    "setosa = iris[iris.species == 'setosa'].iloc[:, : -1]\n",
    "plt.figure(figsize=(6,6))\n",
    "plt.boxplot(setosa, labels=class_setosa.columns)   # x축에 class_setosa 컬럼이름 표기하고자.\n",
    "plt.show()\n",
    "\n",
    "# setosa 각 컬럼의 이상치는 0, 2, 3, 2 개로 예상이 된다."
   ]
  },
  {
   "cell_type": "markdown",
   "metadata": {},
   "source": [
    "setosa.sepal_width 시리즈부터 이상치 제거 \n",
    "\n",
    "sepal_length 는 이상치 없을것으로 보여서  테스트 위해 2번째 sepal_width 컬럼부터 \n",
    "\n",
    "cf. 각 컬럼의 이상치를 제거했을때 , 컬럼별 50개인 데이터의 수가 각각 달라질 것이기에 .discribe()를 사용못할것으로 예상.\n",
    "에러없이 돌아간다고 하더라고, 0값, 혹은 nan,null등의 값 때문에 평균 및 표준편차 계산 틀어질 것으로 기대.\n",
    "그러므로 이상치 제거한 시리즈만 만들어두고 평균과 표준편차 구할 것.\n",
    "\n",
    "결과는. NaN 값 때문에 요약통계량에 에러가 날것으로 생각됐는데, 알아서 제외하고 계산이 된다고 한다."
   ]
  },
  {
   "cell_type": "code",
   "execution_count": 135,
   "metadata": {},
   "outputs": [
    {
     "data": {
      "text/html": [
       "<div>\n",
       "<style scoped>\n",
       "    .dataframe tbody tr th:only-of-type {\n",
       "        vertical-align: middle;\n",
       "    }\n",
       "\n",
       "    .dataframe tbody tr th {\n",
       "        vertical-align: top;\n",
       "    }\n",
       "\n",
       "    .dataframe thead th {\n",
       "        text-align: right;\n",
       "    }\n",
       "</style>\n",
       "<table border=\"1\" class=\"dataframe\">\n",
       "  <thead>\n",
       "    <tr style=\"text-align: right;\">\n",
       "      <th></th>\n",
       "      <th>sepal_length</th>\n",
       "      <th>sepal_width</th>\n",
       "      <th>petal_length</th>\n",
       "      <th>petal_width</th>\n",
       "    </tr>\n",
       "  </thead>\n",
       "  <tbody>\n",
       "    <tr>\n",
       "      <th>count</th>\n",
       "      <td>50.00000</td>\n",
       "      <td>50.000000</td>\n",
       "      <td>50.000000</td>\n",
       "      <td>50.000000</td>\n",
       "    </tr>\n",
       "    <tr>\n",
       "      <th>mean</th>\n",
       "      <td>5.00600</td>\n",
       "      <td>3.428000</td>\n",
       "      <td>1.462000</td>\n",
       "      <td>0.246000</td>\n",
       "    </tr>\n",
       "    <tr>\n",
       "      <th>std</th>\n",
       "      <td>0.35249</td>\n",
       "      <td>0.379064</td>\n",
       "      <td>0.173664</td>\n",
       "      <td>0.105386</td>\n",
       "    </tr>\n",
       "    <tr>\n",
       "      <th>min</th>\n",
       "      <td>4.30000</td>\n",
       "      <td>2.300000</td>\n",
       "      <td>1.000000</td>\n",
       "      <td>0.100000</td>\n",
       "    </tr>\n",
       "    <tr>\n",
       "      <th>25%</th>\n",
       "      <td>4.80000</td>\n",
       "      <td>3.200000</td>\n",
       "      <td>1.400000</td>\n",
       "      <td>0.200000</td>\n",
       "    </tr>\n",
       "    <tr>\n",
       "      <th>50%</th>\n",
       "      <td>5.00000</td>\n",
       "      <td>3.400000</td>\n",
       "      <td>1.500000</td>\n",
       "      <td>0.200000</td>\n",
       "    </tr>\n",
       "    <tr>\n",
       "      <th>75%</th>\n",
       "      <td>5.20000</td>\n",
       "      <td>3.675000</td>\n",
       "      <td>1.575000</td>\n",
       "      <td>0.300000</td>\n",
       "    </tr>\n",
       "    <tr>\n",
       "      <th>max</th>\n",
       "      <td>5.80000</td>\n",
       "      <td>4.400000</td>\n",
       "      <td>1.900000</td>\n",
       "      <td>0.600000</td>\n",
       "    </tr>\n",
       "  </tbody>\n",
       "</table>\n",
       "</div>"
      ],
      "text/plain": [
       "       sepal_length  sepal_width  petal_length  petal_width\n",
       "count      50.00000    50.000000     50.000000    50.000000\n",
       "mean        5.00600     3.428000      1.462000     0.246000\n",
       "std         0.35249     0.379064      0.173664     0.105386\n",
       "min         4.30000     2.300000      1.000000     0.100000\n",
       "25%         4.80000     3.200000      1.400000     0.200000\n",
       "50%         5.00000     3.400000      1.500000     0.200000\n",
       "75%         5.20000     3.675000      1.575000     0.300000\n",
       "max         5.80000     4.400000      1.900000     0.600000"
      ]
     },
     "execution_count": 135,
     "metadata": {},
     "output_type": "execute_result"
    }
   ],
   "source": [
    "# setosa.head(3)\n",
    "class_setosa    # 4분위수 서치 위해서 class_setosa 의 25%, 75% 값 이용할것. "
   ]
  },
  {
   "cell_type": "code",
   "execution_count": 109,
   "metadata": {},
   "outputs": [
    {
     "name": "stdout",
     "output_type": "stream",
     "text": [
      "4.8 5.2 0.40000000000000036 <class 'numpy.dtype'>\n"
     ]
    }
   ],
   "source": [
    "# 사분위수. np.percentile 이용\n",
    "Q1 = np.percentile(setosa.sepal_length, 25)  # 1/4 분위수 1시그마라고 표현하려함. (맞는 표현 아니야.) 일사분위수 가 낳나?\n",
    "Q3 = np.percentile(setosa.sepal_length, 75)  # 3/4 분위수\n",
    "iqr = Q3 - Q1\n",
    "print(Q1, Q3, iqr, np.dtype)\n",
    "# 반복문 사용 고려해 인덱스로 outlier 확인 할수 있는 함수 정의해보기"
   ]
  },
  {
   "cell_type": "code",
   "execution_count": 9,
   "metadata": {},
   "outputs": [
    {
     "name": "stdout",
     "output_type": "stream",
     "text": [
      "3.2 3.6750000000000003 0.4750000000000001\n"
     ]
    }
   ],
   "source": [
    "# 사분위수 setosa.sepal_width 의 인덱스 이용.\n",
    "Q1 = class_setosa.iloc[4,1]   # 1/4 분위수  값은 25%값으로 3.2\n",
    "Q3 = class_setosa.iloc[6,1]   # 3/4 분위수  값은 75%값으로 3.675\n",
    "iqr = Q3 - Q1\n",
    "\n",
    "print(Q1,Q3,iqr)"
   ]
  },
  {
   "cell_type": "code",
   "execution_count": null,
   "metadata": {},
   "outputs": [],
   "source": [
    "# 이상치 확인 및 제거\n",
    "# setosa.sepal_width[setosa.sepal_width < Q1 - 1.5*iqr] #최솟값 벗어난 이상치 #1개확인\n",
    "# setosa.sepal_width[setosa.sepal_width > Q3 + 1.5*iqr] #최댓값 벗어난 이상치 #1개확인\n",
    "\n",
    "setosa.sepal_width[(setosa.sepal_width >= Q1 - 1.5*iqr) & (setosa.sepal_width <= Q3 + 1.5*iqr)]\n",
    "# 위는 이상치 제거된 세팔윗스 시리즈. >=, <= 등 부등호 달라진 것 확인, 48개 데이터 기대함."
   ]
  },
  {
   "cell_type": "code",
   "execution_count": 12,
   "metadata": {},
   "outputs": [
    {
     "data": {
      "text/plain": [
       "pandas.core.series.Series"
      ]
     },
     "execution_count": 12,
     "metadata": {},
     "output_type": "execute_result"
    }
   ],
   "source": [
    "# 이상치 제거 후 시리즈 반환 및 agg 이용. mean. std, count 구함\n",
    "# 반환된 값은 pandas.core.series.Series 형태. 즉 시리즈.\n",
    "type(setosa.sepal_width[(setosa.sepal_width >= Q1 - 1.5*iqr) & (setosa.sepal_width <= Q3 + 1.5*iqr)].agg(['mean','std','count']))"
   ]
  },
  {
   "cell_type": "code",
   "execution_count": 13,
   "metadata": {},
   "outputs": [
    {
     "data": {
      "text/plain": [
       "mean      3.431250\n",
       "std       0.320343\n",
       "count    48.000000\n",
       "Name: sepal_width, dtype: float64"
      ]
     },
     "execution_count": 13,
     "metadata": {},
     "output_type": "execute_result"
    }
   ],
   "source": [
    "setosa.sepal_width[(setosa.sepal_width >= Q1 - 1.5*iqr) & (setosa.sepal_width <= Q3 + 1.5*iqr)].agg(['mean','std','count'])"
   ]
  },
  {
   "cell_type": "markdown",
   "metadata": {},
   "source": [
    "이상치 제거하는 버전 2 \n",
    "\n",
    "sepal_width 컬럼 이상치2개 제거후(NaN값 채우기) mean, std 확인. 근데 이게 되네???"
   ]
  },
  {
   "cell_type": "code",
   "execution_count": 14,
   "metadata": {},
   "outputs": [
    {
     "data": {
      "text/plain": [
       "array([3.5, 3. , 3.2, 3.1, 3.6, 3.9, 3.4, 3.4, 2.9, 3.1, 3.7, 3.4, 3. ,\n",
       "       3. , 4. , nan, 3.9, 3.5, 3.8, 3.8, 3.4, 3.7, 3.6, 3.3, 3.4, 3. ,\n",
       "       3.4, 3.5, 3.4, 3.2, 3.1, 3.4, 4.1, 4.2, 3.1, 3.2, 3.5, 3.6, 3. ,\n",
       "       3.4, 3.5, nan, 3.2, 3.5, 3.8, 3. , 3.8, 3.2, 3.7, 3.3])"
      ]
     },
     "execution_count": 14,
     "metadata": {},
     "output_type": "execute_result"
    }
   ],
   "source": [
    "setosa.sepal_width.values[setosa.sepal_width < Q1 - 1.5*iqr] = np.NaN\n",
    "setosa.sepal_width.values[setosa.sepal_width > Q3 + 1.5*iqr] = np.NaN\n",
    "setosa.sepal_width.values"
   ]
  },
  {
   "cell_type": "code",
   "execution_count": 15,
   "metadata": {},
   "outputs": [
    {
     "data": {
      "text/plain": [
       "mean      3.431250\n",
       "std       0.320343\n",
       "count    48.000000\n",
       "Name: sepal_width, dtype: float64"
      ]
     },
     "execution_count": 15,
     "metadata": {},
     "output_type": "execute_result"
    }
   ],
   "source": [
    "setosa.sepal_width.agg(['mean','std','count'])"
   ]
  },
  {
   "cell_type": "code",
   "execution_count": 16,
   "metadata": {},
   "outputs": [
    {
     "data": {
      "text/html": [
       "<div>\n",
       "<style scoped>\n",
       "    .dataframe tbody tr th:only-of-type {\n",
       "        vertical-align: middle;\n",
       "    }\n",
       "\n",
       "    .dataframe tbody tr th {\n",
       "        vertical-align: top;\n",
       "    }\n",
       "\n",
       "    .dataframe thead th {\n",
       "        text-align: right;\n",
       "    }\n",
       "</style>\n",
       "<table border=\"1\" class=\"dataframe\">\n",
       "  <thead>\n",
       "    <tr style=\"text-align: right;\">\n",
       "      <th></th>\n",
       "      <th>sepal_width</th>\n",
       "    </tr>\n",
       "  </thead>\n",
       "  <tbody>\n",
       "    <tr>\n",
       "      <th>mean</th>\n",
       "      <td>3.431250</td>\n",
       "    </tr>\n",
       "    <tr>\n",
       "      <th>std</th>\n",
       "      <td>0.320343</td>\n",
       "    </tr>\n",
       "    <tr>\n",
       "      <th>count</th>\n",
       "      <td>48.000000</td>\n",
       "    </tr>\n",
       "  </tbody>\n",
       "</table>\n",
       "</div>"
      ],
      "text/plain": [
       "       sepal_width\n",
       "mean      3.431250\n",
       "std       0.320343\n",
       "count    48.000000"
      ]
     },
     "execution_count": 16,
     "metadata": {},
     "output_type": "execute_result"
    }
   ],
   "source": [
    "small_vic = pd.DataFrame(setosa.sepal_width.agg(['mean','std','count']))\n",
    "small_vic"
   ]
  },
  {
   "cell_type": "markdown",
   "metadata": {},
   "source": [
    "함수화 def"
   ]
  },
  {
   "cell_type": "code",
   "execution_count": 19,
   "metadata": {},
   "outputs": [],
   "source": [
    "# 아웃라이어를 제거하는 함수. 교재 274p참고 파머완\n",
    "def get_newstats(x):\n",
    "    Q1 = np.percentile(x, 25)\n",
    "    Q3 = np.percentile(x, 75)\n",
    "    iqr = Q3 - Q1\n",
    "    # 이상치 nan처리\n",
    "    x.values[x < Q1 - 1.5*iqr] = np.NaN\n",
    "    x.values[x > Q3 + 1.5*iqr] = np.NaN\n",
    "    #일단 agg 시리즈 반환버전\n",
    "    \n",
    "    return x.agg(['mean','std','count'])\n",
    "    "
   ]
  },
  {
   "cell_type": "code",
   "execution_count": 21,
   "metadata": {},
   "outputs": [
    {
     "data": {
      "text/plain": [
       "mean      5.00600\n",
       "std       0.35249\n",
       "count    50.00000\n",
       "Name: sepal_length, dtype: float64"
      ]
     },
     "execution_count": 21,
     "metadata": {},
     "output_type": "execute_result"
    }
   ],
   "source": [
    "# setosa.sepal_length\n",
    "get_newstats(setosa.sepal_length)"
   ]
  },
  {
   "cell_type": "code",
   "execution_count": 22,
   "metadata": {},
   "outputs": [
    {
     "data": {
      "text/plain": [
       "mean      3.431250\n",
       "std       0.320343\n",
       "count    48.000000\n",
       "Name: sepal_width, dtype: float64"
      ]
     },
     "execution_count": 22,
     "metadata": {},
     "output_type": "execute_result"
    }
   ],
   "source": [
    "# setosa.sepal_width\n",
    "get_newstats(setosa.sepal_width)"
   ]
  },
  {
   "cell_type": "code",
   "execution_count": 23,
   "metadata": {},
   "outputs": [
    {
     "data": {
      "text/plain": [
       "mean      1.460870\n",
       "std       0.129062\n",
       "count    46.000000\n",
       "Name: petal_length, dtype: float64"
      ]
     },
     "execution_count": 23,
     "metadata": {},
     "output_type": "execute_result"
    }
   ],
   "source": [
    "# setosa.petal_length\n",
    "get_newstats(setosa.petal_length)"
   ]
  },
  {
   "cell_type": "code",
   "execution_count": 25,
   "metadata": {},
   "outputs": [
    {
     "data": {
      "text/plain": [
       "mean      0.233333\n",
       "std       0.085883\n",
       "count    48.000000\n",
       "Name: petal_width, dtype: float64"
      ]
     },
     "execution_count": 25,
     "metadata": {},
     "output_type": "execute_result"
    }
   ],
   "source": [
    "# setosa.petal_width\n",
    "get_newstats(setosa.petal_width)"
   ]
  },
  {
   "cell_type": "markdown",
   "metadata": {},
   "source": [
    "이상치 처리된. result 데이터프레임만들고, 요약통계 discribe()  후 . 원본요약통계치와 변화 있는지 비교"
   ]
  },
  {
   "cell_type": "code",
   "execution_count": 44,
   "metadata": {},
   "outputs": [
    {
     "data": {
      "text/html": [
       "<div>\n",
       "<style scoped>\n",
       "    .dataframe tbody tr th:only-of-type {\n",
       "        vertical-align: middle;\n",
       "    }\n",
       "\n",
       "    .dataframe tbody tr th {\n",
       "        vertical-align: top;\n",
       "    }\n",
       "\n",
       "    .dataframe thead th {\n",
       "        text-align: right;\n",
       "    }\n",
       "</style>\n",
       "<table border=\"1\" class=\"dataframe\">\n",
       "  <thead>\n",
       "    <tr style=\"text-align: right;\">\n",
       "      <th></th>\n",
       "      <th>sepal_length</th>\n",
       "      <th>sepal_width</th>\n",
       "      <th>petal_length</th>\n",
       "      <th>petal_width</th>\n",
       "    </tr>\n",
       "  </thead>\n",
       "  <tbody>\n",
       "    <tr>\n",
       "      <th>0</th>\n",
       "      <td>5.1</td>\n",
       "      <td>3.5</td>\n",
       "      <td>1.4</td>\n",
       "      <td>0.2</td>\n",
       "    </tr>\n",
       "    <tr>\n",
       "      <th>1</th>\n",
       "      <td>4.9</td>\n",
       "      <td>3.0</td>\n",
       "      <td>1.4</td>\n",
       "      <td>0.2</td>\n",
       "    </tr>\n",
       "    <tr>\n",
       "      <th>2</th>\n",
       "      <td>4.7</td>\n",
       "      <td>3.2</td>\n",
       "      <td>1.3</td>\n",
       "      <td>0.2</td>\n",
       "    </tr>\n",
       "    <tr>\n",
       "      <th>3</th>\n",
       "      <td>4.6</td>\n",
       "      <td>3.1</td>\n",
       "      <td>1.5</td>\n",
       "      <td>0.2</td>\n",
       "    </tr>\n",
       "    <tr>\n",
       "      <th>4</th>\n",
       "      <td>5.0</td>\n",
       "      <td>3.6</td>\n",
       "      <td>1.4</td>\n",
       "      <td>0.2</td>\n",
       "    </tr>\n",
       "  </tbody>\n",
       "</table>\n",
       "</div>"
      ],
      "text/plain": [
       "   sepal_length  sepal_width  petal_length  petal_width\n",
       "0           5.1          3.5           1.4          0.2\n",
       "1           4.9          3.0           1.4          0.2\n",
       "2           4.7          3.2           1.3          0.2\n",
       "3           4.6          3.1           1.5          0.2\n",
       "4           5.0          3.6           1.4          0.2"
      ]
     },
     "execution_count": 44,
     "metadata": {},
     "output_type": "execute_result"
    }
   ],
   "source": [
    "result = pd.DataFrame({ \n",
    "            'sepal_length': setosa.sepal_length, \n",
    "            'sepal_width' : setosa.sepal_width,\n",
    "            'petal_length': setosa.petal_length, \n",
    "            'petal_width' : setosa.petal_width,            \n",
    "            })\n",
    "result.head()\n"
   ]
  },
  {
   "cell_type": "code",
   "execution_count": 46,
   "metadata": {},
   "outputs": [
    {
     "data": {
      "text/html": [
       "<div>\n",
       "<style scoped>\n",
       "    .dataframe tbody tr th:only-of-type {\n",
       "        vertical-align: middle;\n",
       "    }\n",
       "\n",
       "    .dataframe tbody tr th {\n",
       "        vertical-align: top;\n",
       "    }\n",
       "\n",
       "    .dataframe thead th {\n",
       "        text-align: right;\n",
       "    }\n",
       "</style>\n",
       "<table border=\"1\" class=\"dataframe\">\n",
       "  <thead>\n",
       "    <tr style=\"text-align: right;\">\n",
       "      <th></th>\n",
       "      <th>sepal_length</th>\n",
       "      <th>sepal_width</th>\n",
       "      <th>petal_length</th>\n",
       "      <th>petal_width</th>\n",
       "    </tr>\n",
       "  </thead>\n",
       "  <tbody>\n",
       "    <tr>\n",
       "      <th>count</th>\n",
       "      <td>50.00000</td>\n",
       "      <td>48.000000</td>\n",
       "      <td>46.000000</td>\n",
       "      <td>48.000000</td>\n",
       "    </tr>\n",
       "    <tr>\n",
       "      <th>mean</th>\n",
       "      <td>5.00600</td>\n",
       "      <td>3.431250</td>\n",
       "      <td>1.460870</td>\n",
       "      <td>0.233333</td>\n",
       "    </tr>\n",
       "    <tr>\n",
       "      <th>std</th>\n",
       "      <td>0.35249</td>\n",
       "      <td>0.320343</td>\n",
       "      <td>0.129062</td>\n",
       "      <td>0.085883</td>\n",
       "    </tr>\n",
       "    <tr>\n",
       "      <th>min</th>\n",
       "      <td>4.30000</td>\n",
       "      <td>2.900000</td>\n",
       "      <td>1.200000</td>\n",
       "      <td>0.100000</td>\n",
       "    </tr>\n",
       "    <tr>\n",
       "      <th>25%</th>\n",
       "      <td>4.80000</td>\n",
       "      <td>3.200000</td>\n",
       "      <td>1.400000</td>\n",
       "      <td>0.200000</td>\n",
       "    </tr>\n",
       "    <tr>\n",
       "      <th>50%</th>\n",
       "      <td>5.00000</td>\n",
       "      <td>3.400000</td>\n",
       "      <td>1.500000</td>\n",
       "      <td>0.200000</td>\n",
       "    </tr>\n",
       "    <tr>\n",
       "      <th>75%</th>\n",
       "      <td>5.20000</td>\n",
       "      <td>3.625000</td>\n",
       "      <td>1.500000</td>\n",
       "      <td>0.300000</td>\n",
       "    </tr>\n",
       "    <tr>\n",
       "      <th>max</th>\n",
       "      <td>5.80000</td>\n",
       "      <td>4.200000</td>\n",
       "      <td>1.700000</td>\n",
       "      <td>0.400000</td>\n",
       "    </tr>\n",
       "  </tbody>\n",
       "</table>\n",
       "</div>"
      ],
      "text/plain": [
       "       sepal_length  sepal_width  petal_length  petal_width\n",
       "count      50.00000    48.000000     46.000000    48.000000\n",
       "mean        5.00600     3.431250      1.460870     0.233333\n",
       "std         0.35249     0.320343      0.129062     0.085883\n",
       "min         4.30000     2.900000      1.200000     0.100000\n",
       "25%         4.80000     3.200000      1.400000     0.200000\n",
       "50%         5.00000     3.400000      1.500000     0.200000\n",
       "75%         5.20000     3.625000      1.500000     0.300000\n",
       "max         5.80000     4.200000      1.700000     0.400000"
      ]
     },
     "execution_count": 46,
     "metadata": {},
     "output_type": "execute_result"
    }
   ],
   "source": [
    "result.describe()\n",
    "# 일단 값의 개수 차이가 있으니 당연히 차이가 있을것으로 기대되는데."
   ]
  },
  {
   "cell_type": "code",
   "execution_count": 48,
   "metadata": {},
   "outputs": [
    {
     "data": {
      "text/html": [
       "<div>\n",
       "<style scoped>\n",
       "    .dataframe tbody tr th:only-of-type {\n",
       "        vertical-align: middle;\n",
       "    }\n",
       "\n",
       "    .dataframe tbody tr th {\n",
       "        vertical-align: top;\n",
       "    }\n",
       "\n",
       "    .dataframe thead th {\n",
       "        text-align: right;\n",
       "    }\n",
       "</style>\n",
       "<table border=\"1\" class=\"dataframe\">\n",
       "  <thead>\n",
       "    <tr style=\"text-align: right;\">\n",
       "      <th></th>\n",
       "      <th>sepal_length</th>\n",
       "      <th>sepal_width</th>\n",
       "      <th>petal_length</th>\n",
       "      <th>petal_width</th>\n",
       "    </tr>\n",
       "  </thead>\n",
       "  <tbody>\n",
       "    <tr>\n",
       "      <th>count</th>\n",
       "      <td>50.00000</td>\n",
       "      <td>50.000000</td>\n",
       "      <td>50.000000</td>\n",
       "      <td>50.000000</td>\n",
       "    </tr>\n",
       "    <tr>\n",
       "      <th>mean</th>\n",
       "      <td>5.00600</td>\n",
       "      <td>3.428000</td>\n",
       "      <td>1.462000</td>\n",
       "      <td>0.246000</td>\n",
       "    </tr>\n",
       "    <tr>\n",
       "      <th>std</th>\n",
       "      <td>0.35249</td>\n",
       "      <td>0.379064</td>\n",
       "      <td>0.173664</td>\n",
       "      <td>0.105386</td>\n",
       "    </tr>\n",
       "    <tr>\n",
       "      <th>min</th>\n",
       "      <td>4.30000</td>\n",
       "      <td>2.300000</td>\n",
       "      <td>1.000000</td>\n",
       "      <td>0.100000</td>\n",
       "    </tr>\n",
       "    <tr>\n",
       "      <th>25%</th>\n",
       "      <td>4.80000</td>\n",
       "      <td>3.200000</td>\n",
       "      <td>1.400000</td>\n",
       "      <td>0.200000</td>\n",
       "    </tr>\n",
       "    <tr>\n",
       "      <th>50%</th>\n",
       "      <td>5.00000</td>\n",
       "      <td>3.400000</td>\n",
       "      <td>1.500000</td>\n",
       "      <td>0.200000</td>\n",
       "    </tr>\n",
       "    <tr>\n",
       "      <th>75%</th>\n",
       "      <td>5.20000</td>\n",
       "      <td>3.675000</td>\n",
       "      <td>1.575000</td>\n",
       "      <td>0.300000</td>\n",
       "    </tr>\n",
       "    <tr>\n",
       "      <th>max</th>\n",
       "      <td>5.80000</td>\n",
       "      <td>4.400000</td>\n",
       "      <td>1.900000</td>\n",
       "      <td>0.600000</td>\n",
       "    </tr>\n",
       "  </tbody>\n",
       "</table>\n",
       "</div>"
      ],
      "text/plain": [
       "       sepal_length  sepal_width  petal_length  petal_width\n",
       "count      50.00000    50.000000     50.000000    50.000000\n",
       "mean        5.00600     3.428000      1.462000     0.246000\n",
       "std         0.35249     0.379064      0.173664     0.105386\n",
       "min         4.30000     2.300000      1.000000     0.100000\n",
       "25%         4.80000     3.200000      1.400000     0.200000\n",
       "50%         5.00000     3.400000      1.500000     0.200000\n",
       "75%         5.20000     3.675000      1.575000     0.300000\n",
       "max         5.80000     4.400000      1.900000     0.600000"
      ]
     },
     "execution_count": 48,
     "metadata": {},
     "output_type": "execute_result"
    }
   ],
   "source": [
    "class_setosa"
   ]
  },
  {
   "cell_type": "markdown",
   "metadata": {},
   "source": [
    "이상치 처리된. 2, 3, 4 컬럼 요약통계량의 변화 확인 할 수 있다. "
   ]
  },
  {
   "cell_type": "code",
   "execution_count": null,
   "metadata": {},
   "outputs": [],
   "source": []
  },
  {
   "cell_type": "markdown",
   "metadata": {},
   "source": [
    "cf. versicolor , virginica 종도 마찬가지 방법으로 구할 수 있다.\n",
    "\n",
    "이상치 제거 함수까지는 만들었음에도. 3개의 종 (각 종마다 4개의 컬럼) 을 모두 처리하는 프로그램은 어떻게 구상해야 하는지 ..\n",
    "숙제."
   ]
  },
  {
   "cell_type": "code",
   "execution_count": 28,
   "metadata": {},
   "outputs": [
    {
     "data": {
      "image/png": "[encoded data removed]",
      "text/plain": [
       "<Figure size 432x432 with 1 Axes>"
      ]
     },
     "metadata": {
      "needs_background": "light"
     },
     "output_type": "display_data"
    }
   ],
   "source": [
    "versicolor = iris[iris.species == 'versicolor'].iloc[:, : -1]\n",
    "plt.figure(figsize=(6,6))\n",
    "plt.boxplot(versicolor, labels=class_versicolor.columns)\n",
    "plt.show()\n",
    "\n",
    "# 꼿잎 길이에 이상치 1개 "
   ]
  },
  {
   "cell_type": "code",
   "execution_count": 29,
   "metadata": {},
   "outputs": [
    {
     "data": {
      "image/png": "[encoded data removed]",
      "text/plain": [
       "<Figure size 432x432 with 1 Axes>"
      ]
     },
     "metadata": {
      "needs_background": "light"
     },
     "output_type": "display_data"
    }
   ],
   "source": [
    "virginica = iris[iris.species == 'virginica'].iloc[:, : -1]\n",
    "plt.figure(figsize=(6,6))\n",
    "plt.boxplot(virginica, labels=class_virginica.columns)\n",
    "plt.show()\n",
    "# 컬럼1에 1개, 컬럼2에 2개"
   ]
  }
 ],
 "metadata": {
  "interpreter": {
   "hash": "b3ba2566441a7c06988d0923437866b63cedc61552a5af99d1f4fb67d367b25f"
  },
  "kernelspec": {
   "display_name": "Python 3.8.8 64-bit ('base': conda)",
   "language": "python",
   "name": "python3"
  },
  "language_info": {
   "codemirror_mode": {
    "name": "ipython",
    "version": 3
   },
   "file_extension": ".py",
   "mimetype": "text/x-python",
   "name": "python",
   "nbconvert_exporter": "python",
   "pygments_lexer": "ipython3",
   "version": "3.8.8"
  },
  "orig_nbformat": 4
 },
 "nbformat": 4,
 "nbformat_minor": 2
}
