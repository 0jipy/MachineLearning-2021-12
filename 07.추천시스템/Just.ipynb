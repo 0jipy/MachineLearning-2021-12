{
 "cells": [
  {
   "cell_type": "code",
   "execution_count": 33,
   "metadata": {},
   "outputs": [],
   "source": [
    "from bs4 import BeautifulSoup\n",
    "import requests\n",
    "import pandas as pd\n",
    "\n",
    "# import selenium\n",
    "from selenium import webdriver\n",
    "import csv"
   ]
  },
  {
   "cell_type": "markdown",
   "metadata": {},
   "source": [
    "    ## 뷰티풀 숩으로는 어떻게 접근해도. 초기 Html이 로딩됐을때의 데이터만 가져올수 있다. \n",
    "    # 내 크롬화면구성에서는 약 40개 데이터. 영환씨것도 마찬가지인가?\n",
    "    # 셀레늄으로 개발고려"
   ]
  },
  {
   "cell_type": "code",
   "execution_count": 26,
   "metadata": {},
   "outputs": [],
   "source": [
    "JUSTWATCH_URL =\"https://www.justwatch.com/kr/%EB%8F%99%EC%98%81%EC%83%81%EC%84%9C%EB%B9%84%EC%8A%A4/watcha?content_type=movie\"\n",
    "# 왓챠 영화 전체데이터 5715개 영상."
   ]
  },
  {
   "cell_type": "code",
   "execution_count": 27,
   "metadata": {},
   "outputs": [
    {
     "data": {
      "text/plain": [
       "<Response [200]>"
      ]
     },
     "execution_count": 27,
     "metadata": {},
     "output_type": "execute_result"
    }
   ],
   "source": [
    "response = requests.get(JUSTWATCH_URL)\n",
    "response"
   ]
  },
  {
   "cell_type": "code",
   "execution_count": 28,
   "metadata": {},
   "outputs": [],
   "source": [
    "dom = BeautifulSoup(response.content, 'html.parser')"
   ]
  },
  {
   "cell_type": "code",
   "execution_count": 29,
   "metadata": {},
   "outputs": [
    {
     "data": {
      "text/plain": [
       "<img alt=\"반지의 제왕: 반지 원정대\" class=\"picture-comp__img\" data-v-6c068c3e=\"\" loading=\"eager\" src=\"https://images.justwatch.com/poster/113609577/s592/banjiyi-jewang-banji-weonjeongdae.{format}\"/>"
      ]
     },
     "execution_count": 29,
     "metadata": {},
     "output_type": "execute_result"
    }
   ],
   "source": [
    "# dom.select(\"#base > div.title-list.title-list--CLS-block > div > div:nth-child(2) > div:nth-child(1) > div > div:nth-child(1) > a > div > picture > img\")\n",
    "dom.select_one(\"#base > div.title-list.title-list--CLS-block > div > div:nth-child(2) > div:nth-child(1) > div > div:nth-child(1) > a > div > picture >img[alt]\")"
   ]
  },
  {
   "cell_type": "code",
   "execution_count": 30,
   "metadata": {},
   "outputs": [
    {
     "data": {
      "text/plain": [
       "[<img alt=\"JustWatch\" src=\"appassets/img/logo/JustWatch-logo-large.png\"/>,\n",
       " <img alt=\"Netflix\" class=\"\" data-v-09bd084e=\"\" src=\"https://www.justwatch.com/images/icon/207360008/s100\" title=\"Netflix\"/>,\n",
       " <img alt=\"Amazon Prime Video\" class=\"\" data-v-09bd084e=\"\" src=\"https://www.justwatch.com/images/icon/52449861/s100\" title=\"Amazon Prime Video\"/>,\n",
       " <img alt=\"Disney Plus\" class=\"\" data-v-09bd084e=\"\" src=\"https://www.justwatch.com/images/icon/147638351/s100\" title=\"Disney Plus\"/>,\n",
       " <img alt=\"wavve\" class=\"\" data-v-09bd084e=\"\" src=\"https://www.justwatch.com/images/icon/155655742/s100\" title=\"wavve\"/>,\n",
       " <img alt=\"Watcha\" class=\"\" data-v-09bd084e=\"\" src=\"https://www.justwatch.com/images/icon/2538290/s100\" title=\"Watcha\"/>,\n",
       " <img alt=\"Apple TV Plus\" class=\"\" data-v-09bd084e=\"\" src=\"https://www.justwatch.com/images/icon/152862153/s100\" title=\"Apple TV Plus\"/>,\n",
       " <img alt=\"Naver Store\" class=\"\" data-v-09bd084e=\"\" src=\"https://www.justwatch.com/images/icon/2538289/s100\" title=\"Naver Store\"/>,\n",
       " <img alt=\"Google Play Movies\" class=\"lazyload\" data-sizes=\"auto\" data-src=\"https://images.justwatch.com/icon/169478387/s100\" data-v-09bd084e=\"\" src=\"data:image/gif;base64,R0lGODlhAQABAAAAACH5BAEKAAEALAAAAAABAAEAAAICTAEAOw==\" title=\"Google Play Movies\"/>,\n",
       " <img alt=\"Mubi\" class=\"lazyload\" data-sizes=\"auto\" data-src=\"https://images.justwatch.com/icon/164970114/s100\" data-v-09bd084e=\"\" src=\"data:image/gif;base64,R0lGODlhAQABAAAAACH5BAEKAAEALAAAAAABAAEAAAICTAEAOw==\" title=\"Mubi\"/>,\n",
       " <img alt=\"GuideDoc\" class=\"lazyload\" data-sizes=\"auto\" data-src=\"https://images.justwatch.com/icon/2625277/s100\" data-v-09bd084e=\"\" src=\"data:image/gif;base64,R0lGODlhAQABAAAAACH5BAEKAAEALAAAAAABAAEAAAICTAEAOw==\" title=\"GuideDoc\"/>,\n",
       " <img alt=\"Daum\" class=\"lazyload\" data-sizes=\"auto\" data-src=\"https://images.justwatch.com/icon/2655283/s100\" data-v-09bd084e=\"\" src=\"data:image/gif;base64,R0lGODlhAQABAAAAACH5BAEKAAEALAAAAAABAAEAAAICTAEAOw==\" title=\"Daum\"/>,\n",
       " <img alt=\"Megabox\" class=\"lazyload\" data-sizes=\"auto\" data-src=\"https://images.justwatch.com/icon/2539917/s100\" data-v-09bd084e=\"\" src=\"data:image/gif;base64,R0lGODlhAQABAAAAACH5BAEKAAEALAAAAAABAAEAAAICTAEAOw==\" title=\"Megabox\"/>,\n",
       " <img alt=\"Crunchyroll\" class=\"lazyload\" data-sizes=\"auto\" data-src=\"https://images.justwatch.com/icon/127445869/s100\" data-v-09bd084e=\"\" src=\"data:image/gif;base64,R0lGODlhAQABAAAAACH5BAEKAAEALAAAAAABAAEAAAICTAEAOw==\" title=\"Crunchyroll\"/>,\n",
       " <img alt=\"Curiosity Stream\" class=\"lazyload\" data-sizes=\"auto\" data-src=\"https://images.justwatch.com/icon/48600036/s100\" data-v-09bd084e=\"\" src=\"data:image/gif;base64,R0lGODlhAQABAAAAACH5BAEKAAEALAAAAAABAAEAAAICTAEAOw==\" title=\"Curiosity Stream\"/>,\n",
       " <img alt=\"Spamflix\" class=\"lazyload\" data-sizes=\"auto\" data-src=\"https://images.justwatch.com/icon/240831409/s100\" data-v-09bd084e=\"\" src=\"data:image/gif;base64,R0lGODlhAQABAAAAACH5BAEKAAEALAAAAAABAAEAAAICTAEAOw==\" title=\"Spamflix\"/>,\n",
       " <img alt=\"DOCSVILLE\" class=\"lazyload\" data-sizes=\"auto\" data-src=\"https://images.justwatch.com/icon/208148387/s100\" data-v-09bd084e=\"\" src=\"data:image/gif;base64,R0lGODlhAQABAAAAACH5BAEKAAEALAAAAAABAAEAAAICTAEAOw==\" title=\"DOCSVILLE\"/>,\n",
       " <img alt=\"Plex\" class=\"lazyload\" data-sizes=\"auto\" data-src=\"https://images.justwatch.com/icon/243059301/s100\" data-v-09bd084e=\"\" src=\"data:image/gif;base64,R0lGODlhAQABAAAAACH5BAEKAAEALAAAAAABAAEAAAICTAEAOw==\" title=\"Plex\"/>,\n",
       " <img alt=\"WOW Presents Plus\" class=\"lazyload\" data-sizes=\"auto\" data-src=\"https://images.justwatch.com/icon/243229654/s100\" data-v-09bd084e=\"\" src=\"data:image/gif;base64,R0lGODlhAQABAAAAACH5BAEKAAEALAAAAAABAAEAAAICTAEAOw==\" title=\"WOW Presents Plus\"/>,\n",
       " <img alt=\"Magellan TV\" class=\"lazyload\" data-sizes=\"auto\" data-src=\"https://images.justwatch.com/icon/243233518/s100\" data-v-09bd084e=\"\" src=\"data:image/gif;base64,R0lGODlhAQABAAAAACH5BAEKAAEALAAAAAABAAEAAAICTAEAOw==\" title=\"Magellan TV\"/>,\n",
       " <img alt=\"BroadwayHD\" class=\"lazyload\" data-sizes=\"auto\" data-src=\"https://images.justwatch.com/icon/243239329/s100\" data-v-09bd084e=\"\" src=\"data:image/gif;base64,R0lGODlhAQABAAAAACH5BAEKAAEALAAAAAABAAEAAAICTAEAOw==\" title=\"BroadwayHD\"/>,\n",
       " <img alt=\"Filmzie\" class=\"lazyload\" data-sizes=\"auto\" data-src=\"https://images.justwatch.com/icon/243251295/s100\" data-v-09bd084e=\"\" src=\"data:image/gif;base64,R0lGODlhAQABAAAAACH5BAEKAAEALAAAAAABAAEAAAICTAEAOw==\" title=\"Filmzie\"/>,\n",
       " <img alt=\"Dekkoo\" class=\"lazyload\" data-sizes=\"auto\" data-src=\"https://images.justwatch.com/icon/202068207/s100\" data-v-09bd084e=\"\" src=\"data:image/gif;base64,R0lGODlhAQABAAAAACH5BAEKAAEALAAAAAABAAEAAAICTAEAOw==\" title=\"Dekkoo\"/>,\n",
       " <img alt=\"True Story\" class=\"lazyload\" data-sizes=\"auto\" data-src=\"https://images.justwatch.com/icon/244289819/s100\" data-v-09bd084e=\"\" src=\"data:image/gif;base64,R0lGODlhAQABAAAAACH5BAEKAAEALAAAAAABAAEAAAICTAEAOw==\" title=\"True Story\"/>,\n",
       " <img alt=\"DocAlliance Films\" class=\"lazyload\" data-sizes=\"auto\" data-src=\"https://images.justwatch.com/icon/244290074/s100\" data-v-09bd084e=\"\" src=\"data:image/gif;base64,R0lGODlhAQABAAAAACH5BAEKAAEALAAAAAABAAEAAAICTAEAOw==\" title=\"DocAlliance Films\"/>,\n",
       " <img alt=\"Hoichoi\" class=\"lazyload\" data-sizes=\"auto\" data-src=\"https://images.justwatch.com/icon/141253805/s100\" data-v-09bd084e=\"\" src=\"data:image/gif;base64,R0lGODlhAQABAAAAACH5BAEKAAEALAAAAAABAAEAAAICTAEAOw==\" title=\"Hoichoi\"/>,\n",
       " <img alt=\"Eventive\" class=\"lazyload\" data-sizes=\"auto\" data-src=\"https://images.justwatch.com/icon/258768419/s100\" data-v-09bd084e=\"\" src=\"data:image/gif;base64,R0lGODlhAQABAAAAACH5BAEKAAEALAAAAAABAAEAAAICTAEAOw==\" title=\"Eventive\"/>,\n",
       " <img alt=\"반지의 제왕: 반지 원정대\" class=\"picture-comp__img\" data-v-6c068c3e=\"\" loading=\"eager\" src=\"https://images.justwatch.com/poster/113609577/s592/banjiyi-jewang-banji-weonjeongdae.{format}\"/>,\n",
       " <img alt=\"그린 나이트\" class=\"picture-comp__img\" data-v-6c068c3e=\"\" loading=\"eager\" src=\"https://images.justwatch.com/poster/248826704/s592/geurin-naiteu.{format}\"/>,\n",
       " <img alt=\"미스 슬로운\" class=\"picture-comp__img\" data-v-6c068c3e=\"\" loading=\"eager\" src=\"https://images.justwatch.com/poster/8723487/s592/miseu-seulroun.{format}\"/>,\n",
       " <img alt=\"베놈\" class=\"picture-comp__img\" data-v-6c068c3e=\"\" loading=\"eager\" src=\"https://images.justwatch.com/poster/245637413/s592/benom.{format}\"/>,\n",
       " <img alt=\"세자매\" class=\"picture-comp__img lazyload\" data-sizes=\"auto\" data-src=\"https://images.justwatch.com/poster/241600375/s592/sejamae.{format}\" data-v-6c068c3e=\"\" loading=\"eager\" src=\"data:image/gif;base64,R0lGODlhAQABAAAAACH5BAEKAAEALAAAAAABAAEAAAICTAEAOw==\"/>,\n",
       " <img alt=\"매드 맥스: 분노의 도로\" class=\"picture-comp__img lazyload\" data-sizes=\"auto\" data-src=\"https://images.justwatch.com/poster/256613321/s592/maedeu-maegseu-bunnoyi-doro.{format}\" data-v-6c068c3e=\"\" loading=\"eager\" src=\"data:image/gif;base64,R0lGODlhAQABAAAAACH5BAEKAAEALAAAAAABAAEAAAICTAEAOw==\"/>,\n",
       " <img alt=\"미나리\" class=\"picture-comp__img lazyload\" data-sizes=\"auto\" data-src=\"https://images.justwatch.com/poster/245216587/s592/minari.{format}\" data-v-6c068c3e=\"\" loading=\"eager\" src=\"data:image/gif;base64,R0lGODlhAQABAAAAACH5BAEKAAEALAAAAAABAAEAAAICTAEAOw==\"/>,\n",
       " <img alt=\"위플래쉬\" class=\"picture-comp__img lazyload\" data-sizes=\"auto\" data-src=\"https://images.justwatch.com/poster/219653510/s592/whiplash.{format}\" data-v-6c068c3e=\"\" loading=\"eager\" src=\"data:image/gif;base64,R0lGODlhAQABAAAAACH5BAEKAAEALAAAAAABAAEAAAICTAEAOw==\"/>,\n",
       " <img alt=\"해리 포터와 마법사의 돌\" class=\"picture-comp__img lazyload\" data-sizes=\"auto\" data-src=\"https://images.justwatch.com/poster/251148303/s592/harry-potter-and-the-philosophers-stone.{format}\" data-v-6c068c3e=\"\" loading=\"eager\" src=\"data:image/gif;base64,R0lGODlhAQABAAAAACH5BAEKAAEALAAAAAABAAEAAAICTAEAOw==\"/>,\n",
       " <img alt=\"컨택트\" class=\"picture-comp__img lazyload\" data-sizes=\"auto\" data-src=\"https://images.justwatch.com/poster/130964237/s592/keontaegteu.{format}\" data-v-6c068c3e=\"\" loading=\"eager\" src=\"data:image/gif;base64,R0lGODlhAQABAAAAACH5BAEKAAEALAAAAAABAAEAAAICTAEAOw==\"/>,\n",
       " <img alt=\"타오르는 여인의 초상\" class=\"picture-comp__img lazyload\" data-sizes=\"auto\" data-src=\"https://images.justwatch.com/poster/162217728/s592/taoreuneun-yeoinyi-cosang.{format}\" data-v-6c068c3e=\"\" loading=\"eager\" src=\"data:image/gif;base64,R0lGODlhAQABAAAAACH5BAEKAAEALAAAAAABAAEAAAICTAEAOw==\"/>,\n",
       " <img alt=\"작은 아씨들\" class=\"picture-comp__img lazyload\" data-sizes=\"auto\" data-src=\"https://images.justwatch.com/poster/165122548/s592/jageun-assideul.{format}\" data-v-6c068c3e=\"\" loading=\"eager\" src=\"data:image/gif;base64,R0lGODlhAQABAAAAACH5BAEKAAEALAAAAAABAAEAAAICTAEAOw==\"/>,\n",
       " <img alt=\"시간 여행자의 아내\" class=\"picture-comp__img lazyload\" data-sizes=\"auto\" data-src=\"https://images.justwatch.com/poster/241812586/s592/the-time-travelers-wife.{format}\" data-v-6c068c3e=\"\" loading=\"eager\" src=\"data:image/gif;base64,R0lGODlhAQABAAAAACH5BAEKAAEALAAAAAABAAEAAAICTAEAOw==\"/>,\n",
       " <img alt=\"뷰티풀 보이\" class=\"picture-comp__img lazyload\" data-sizes=\"auto\" data-src=\"https://images.justwatch.com/poster/142895043/s592/byutipul-boi.{format}\" data-v-6c068c3e=\"\" loading=\"eager\" src=\"data:image/gif;base64,R0lGODlhAQABAAAAACH5BAEKAAEALAAAAAABAAEAAAICTAEAOw==\"/>,\n",
       " <img alt=\"나를 차버린 스파이\" class=\"picture-comp__img lazyload\" data-sizes=\"auto\" data-src=\"https://images.justwatch.com/poster/74578014/s592/nareul-cabeorin-seupai.{format}\" data-v-6c068c3e=\"\" loading=\"eager\" src=\"data:image/gif;base64,R0lGODlhAQABAAAAACH5BAEKAAEALAAAAAABAAEAAAICTAEAOw==\"/>,\n",
       " <img alt=\"러브레터\" class=\"picture-comp__img lazyload\" data-sizes=\"auto\" data-src=\"https://images.justwatch.com/poster/258284673/s592/reobeu-reteo.{format}\" data-v-6c068c3e=\"\" loading=\"eager\" src=\"data:image/gif;base64,R0lGODlhAQABAAAAACH5BAEKAAEALAAAAAABAAEAAAICTAEAOw==\"/>,\n",
       " <img alt=\"무간도\" class=\"picture-comp__img lazyload\" data-sizes=\"auto\" data-src=\"https://images.justwatch.com/poster/188746265/s592/infernal-affairs.{format}\" data-v-6c068c3e=\"\" loading=\"eager\" src=\"data:image/gif;base64,R0lGODlhAQABAAAAACH5BAEKAAEALAAAAAABAAEAAAICTAEAOw==\"/>,\n",
       " <img alt=\"라이더스 오브 저스티스\" class=\"picture-comp__img lazyload\" data-sizes=\"auto\" data-src=\"https://images.justwatch.com/poster/245235898/s592/raideoseu-obeu-jeoseutiseu.{format}\" data-v-6c068c3e=\"\" loading=\"eager\" src=\"data:image/gif;base64,R0lGODlhAQABAAAAACH5BAEKAAEALAAAAAABAAEAAAICTAEAOw==\"/>,\n",
       " <img alt=\"중경삼림\" class=\"picture-comp__img lazyload\" data-sizes=\"auto\" data-src=\"https://images.justwatch.com/poster/255482769/s592/junggyeongsamrim.{format}\" data-v-6c068c3e=\"\" loading=\"eager\" src=\"data:image/gif;base64,R0lGODlhAQABAAAAACH5BAEKAAEALAAAAAABAAEAAAICTAEAOw==\"/>,\n",
       " <img alt=\"탑 건\" class=\"picture-comp__img lazyload\" data-sizes=\"auto\" data-src=\"https://images.justwatch.com/poster/70251722/s592/top-gun.{format}\" data-v-6c068c3e=\"\" loading=\"eager\" src=\"data:image/gif;base64,R0lGODlhAQABAAAAACH5BAEKAAEALAAAAAABAAEAAAICTAEAOw==\"/>,\n",
       " <img alt=\"원더\" class=\"picture-comp__img lazyload\" data-sizes=\"auto\" data-src=\"https://images.justwatch.com/poster/241574817/s592/wonder.{format}\" data-v-6c068c3e=\"\" loading=\"eager\" src=\"data:image/gif;base64,R0lGODlhAQABAAAAACH5BAEKAAEALAAAAAABAAEAAAICTAEAOw==\"/>,\n",
       " <img alt=\"웨스트 사이드 스토리\" class=\"picture-comp__img lazyload\" data-sizes=\"auto\" data-src=\"https://images.justwatch.com/poster/176950039/s592/weseuteu-saideu-seutori.{format}\" data-v-6c068c3e=\"\" loading=\"eager\" src=\"data:image/gif;base64,R0lGODlhAQABAAAAACH5BAEKAAEALAAAAAABAAEAAAICTAEAOw==\"/>,\n",
       " <img alt=\"소년시절의 너\" class=\"picture-comp__img lazyload\" data-sizes=\"auto\" data-src=\"https://images.justwatch.com/poster/243980096/s592/sonyeonsijeolyi-neo.{format}\" data-v-6c068c3e=\"\" loading=\"eager\" src=\"data:image/gif;base64,R0lGODlhAQABAAAAACH5BAEKAAEALAAAAAABAAEAAAICTAEAOw==\"/>,\n",
       " <img alt=\"해적: 바다로 간 산적\" class=\"picture-comp__img lazyload\" data-sizes=\"auto\" data-src=\"https://images.justwatch.com/poster/178476628/s592/the-pirates.{format}\" data-v-6c068c3e=\"\" loading=\"eager\" src=\"data:image/gif;base64,R0lGODlhAQABAAAAACH5BAEKAAEALAAAAAABAAEAAAICTAEAOw==\"/>,\n",
       " <img alt=\"스포트라이트\" class=\"picture-comp__img lazyload\" data-sizes=\"auto\" data-src=\"https://images.justwatch.com/poster/185615505/s592/spotlight.{format}\" data-v-6c068c3e=\"\" loading=\"eager\" src=\"data:image/gif;base64,R0lGODlhAQABAAAAACH5BAEKAAEALAAAAAABAAEAAAICTAEAOw==\"/>,\n",
       " <img alt=\"비포 선라이즈\" class=\"picture-comp__img lazyload\" data-sizes=\"auto\" data-src=\"https://images.justwatch.com/poster/17354983/s592/before-sunrise.{format}\" data-v-6c068c3e=\"\" loading=\"eager\" src=\"data:image/gif;base64,R0lGODlhAQABAAAAACH5BAEKAAEALAAAAAABAAEAAAICTAEAOw==\"/>,\n",
       " <img alt=\"귀멸의 칼날 극장판 무한열차편\" class=\"picture-comp__img lazyload\" data-sizes=\"auto\" data-src=\"https://images.justwatch.com/poster/249944832/s592/geugjangpan-gwimyeolyi-kalnal-muhanyeolca-pyeon.{format}\" data-v-6c068c3e=\"\" loading=\"eager\" src=\"data:image/gif;base64,R0lGODlhAQABAAAAACH5BAEKAAEALAAAAAABAAEAAAICTAEAOw==\"/>,\n",
       " <img alt=\"더 울프 오브 월 스트리트\" class=\"picture-comp__img lazyload\" data-sizes=\"auto\" data-src=\"https://images.justwatch.com/poster/176233898/s592/the-wolf-of-wall-street.{format}\" data-v-6c068c3e=\"\" loading=\"eager\" src=\"data:image/gif;base64,R0lGODlhAQABAAAAACH5BAEKAAEALAAAAAABAAEAAAICTAEAOw==\"/>,\n",
       " <img alt=\"아네트\" class=\"picture-comp__img lazyload\" data-sizes=\"auto\" data-src=\"https://images.justwatch.com/poster/253886680/s592/annette.{format}\" data-v-6c068c3e=\"\" loading=\"eager\" src=\"data:image/gif;base64,R0lGODlhAQABAAAAACH5BAEKAAEALAAAAAABAAEAAAICTAEAOw==\"/>,\n",
       " <img alt=\"소셜 네트워크\" class=\"picture-comp__img lazyload\" data-sizes=\"auto\" data-src=\"https://images.justwatch.com/poster/8717495/s592/sosyeol-neteuweokeu.{format}\" data-v-6c068c3e=\"\" loading=\"eager\" src=\"data:image/gif;base64,R0lGODlhAQABAAAAACH5BAEKAAEALAAAAAABAAEAAAICTAEAOw==\"/>,\n",
       " <img alt=\"쥬라기 월드\" class=\"picture-comp__img lazyload\" data-sizes=\"auto\" data-src=\"https://images.justwatch.com/poster/183493422/s592/jyuragi-weoldeu.{format}\" data-v-6c068c3e=\"\" loading=\"eager\" src=\"data:image/gif;base64,R0lGODlhAQABAAAAACH5BAEKAAEALAAAAAABAAEAAAICTAEAOw==\"/>,\n",
       " <img alt=\"시네마 천국\" class=\"picture-comp__img lazyload\" data-sizes=\"auto\" data-src=\"https://images.justwatch.com/poster/238433542/s592/sinema-ceongug.{format}\" data-v-6c068c3e=\"\" loading=\"eager\" src=\"data:image/gif;base64,R0lGODlhAQABAAAAACH5BAEKAAEALAAAAAABAAEAAAICTAEAOw==\"/>,\n",
       " <img alt=\"미 비포 유\" class=\"picture-comp__img lazyload\" data-sizes=\"auto\" data-src=\"https://images.justwatch.com/poster/184781359/s592/mi-bipo-yu.{format}\" data-v-6c068c3e=\"\" loading=\"eager\" src=\"data:image/gif;base64,R0lGODlhAQABAAAAACH5BAEKAAEALAAAAAABAAEAAAICTAEAOw==\"/>,\n",
       " <img alt=\"해피 아워\" class=\"picture-comp__img lazyload\" data-sizes=\"auto\" data-src=\"https://images.justwatch.com/poster/256639091/s592/haepi-aweo.{format}\" data-v-6c068c3e=\"\" loading=\"eager\" src=\"data:image/gif;base64,R0lGODlhAQABAAAAACH5BAEKAAEALAAAAAABAAEAAAICTAEAOw==\"/>,\n",
       " <img alt=\"나이브스 아웃\" class=\"picture-comp__img lazyload\" data-sizes=\"auto\" data-src=\"https://images.justwatch.com/poster/154554061/s592/naibeuseu-aus.{format}\" data-v-6c068c3e=\"\" loading=\"eager\" src=\"data:image/gif;base64,R0lGODlhAQABAAAAACH5BAEKAAEALAAAAAABAAEAAAICTAEAOw==\"/>,\n",
       " <img alt=\"클라우즈 오브 실스마리아\" class=\"picture-comp__img lazyload\" data-sizes=\"auto\" data-src=\"https://images.justwatch.com/poster/8646097/s592/clouds-of-sils-maria.{format}\" data-v-6c068c3e=\"\" loading=\"eager\" src=\"data:image/gif;base64,R0lGODlhAQABAAAAACH5BAEKAAEALAAAAAABAAEAAAICTAEAOw==\"/>,\n",
       " <img alt=\"매트릭스\" class=\"picture-comp__img lazyload\" data-sizes=\"auto\" data-src=\"https://images.justwatch.com/poster/8668147/s592/the-matrix.{format}\" data-v-6c068c3e=\"\" loading=\"eager\" src=\"data:image/gif;base64,R0lGODlhAQABAAAAACH5BAEKAAEALAAAAAABAAEAAAICTAEAOw==\"/>,\n",
       " <img alt=\"프레스티지\" class=\"picture-comp__img lazyload\" data-sizes=\"auto\" data-src=\"https://images.justwatch.com/poster/239557778/s592/the-prestige.{format}\" data-v-6c068c3e=\"\" loading=\"eager\" src=\"data:image/gif;base64,R0lGODlhAQABAAAAACH5BAEKAAEALAAAAAABAAEAAAICTAEAOw==\"/>,\n",
       " <img alt=\"허트 로커\" class=\"picture-comp__img lazyload\" data-sizes=\"auto\" data-src=\"https://images.justwatch.com/poster/244267301/s592/the-hurt-locker.{format}\" data-v-6c068c3e=\"\" loading=\"eager\" src=\"data:image/gif;base64,R0lGODlhAQABAAAAACH5BAEKAAEALAAAAAABAAEAAAICTAEAOw==\"/>,\n",
       " <img alt=\"Interstelar\" class=\"picture-comp__img lazyload\" data-sizes=\"auto\" data-src=\"https://images.justwatch.com/poster/224951289/s592/interstellar.{format}\" data-v-6c068c3e=\"\" loading=\"eager\" src=\"data:image/gif;base64,R0lGODlhAQABAAAAACH5BAEKAAEALAAAAAABAAEAAAICTAEAOw==\"/>]"
      ]
     },
     "execution_count": 30,
     "metadata": {},
     "output_type": "execute_result"
    }
   ],
   "source": [
    "dom.select(\"img[alt]\")"
   ]
  },
  {
   "cell_type": "code",
   "execution_count": null,
   "metadata": {},
   "outputs": [],
   "source": [
    "#base > div.title-list.title-list--CLS-block > div > div:nth-child(2) > div:nth-child(1) > div > div:nth-child(1) > a > div"
   ]
  },
  {
   "cell_type": "code",
   "execution_count": null,
   "metadata": {},
   "outputs": [],
   "source": [
    "#base > div.title-list.title-list--CLS-block > div > div:nth-child(2) > div:nth-child(1) > div > div:nth-child(1) > a > div > picture > img"
   ]
  },
  {
   "cell_type": "code",
   "execution_count": 10,
   "metadata": {},
   "outputs": [
    {
     "data": {
      "text/plain": [
       "'반지의 제왕: 반지 원정대'"
      ]
     },
     "execution_count": 10,
     "metadata": {},
     "output_type": "execute_result"
    }
   ],
   "source": [
    "dom.select(\"img\")[27]['alt']"
   ]
  },
  {
   "cell_type": "code",
   "execution_count": 12,
   "metadata": {},
   "outputs": [
    {
     "ename": "IndexError",
     "evalue": "list index out of range",
     "output_type": "error",
     "traceback": [
      "\u001b[1;31m---------------------------------------------------------------------------\u001b[0m",
      "\u001b[1;31mIndexError\u001b[0m                                Traceback (most recent call last)",
      "\u001b[1;32m<ipython-input-12-714136e5f8ca>\u001b[0m in \u001b[0;36m<module>\u001b[1;34m\u001b[0m\n\u001b[0;32m      1\u001b[0m \u001b[1;31m# 마지막으로 난오는 인터스텔라 뽑힐 때까지\u001b[0m\u001b[1;33m\u001b[0m\u001b[1;33m\u001b[0m\u001b[1;33m\u001b[0m\u001b[0m\n\u001b[1;32m----> 2\u001b[1;33m \u001b[0mdom\u001b[0m\u001b[1;33m.\u001b[0m\u001b[0mselect\u001b[0m\u001b[1;33m(\u001b[0m\u001b[1;34m\"img\"\u001b[0m\u001b[1;33m)\u001b[0m\u001b[1;33m[\u001b[0m\u001b[1;36m200\u001b[0m\u001b[1;33m]\u001b[0m\u001b[1;33m[\u001b[0m\u001b[1;34m'alt'\u001b[0m\u001b[1;33m]\u001b[0m\u001b[1;33m\u001b[0m\u001b[1;33m\u001b[0m\u001b[0m\n\u001b[0m",
      "\u001b[1;31mIndexError\u001b[0m: list index out of range"
     ]
    }
   ],
   "source": [
    "# 마지막으로 난오는 인터스텔라 뽑힐 때까지\n",
    "dom.select(\"img\")[200]['alt']"
   ]
  },
  {
   "cell_type": "code",
   "execution_count": 47,
   "metadata": {},
   "outputs": [
    {
     "data": {
      "text/plain": [
       "'프렌치 디스패치'"
      ]
     },
     "execution_count": 47,
     "metadata": {},
     "output_type": "execute_result"
    }
   ],
   "source": [
    "dom.select(\"img\")[28]['alt']"
   ]
  },
  {
   "cell_type": "code",
   "execution_count": 56,
   "metadata": {},
   "outputs": [
    {
     "data": {
      "text/plain": [
       "'폭포'"
      ]
     },
     "execution_count": 56,
     "metadata": {},
     "output_type": "execute_result"
    }
   ],
   "source": [
    "dom.select(\"img\")[66]['alt']"
   ]
  },
  {
   "cell_type": "code",
   "execution_count": 38,
   "metadata": {},
   "outputs": [],
   "source": [
    "from selenium import webdriver\n",
    "from selenium.webdriver.chrome.service import Service\n",
    "from webdriver_manager.chrome import ChromeDriverManager\n",
    "from selenium.webdriver.common.by import By"
   ]
  },
  {
   "cell_type": "code",
   "execution_count": 39,
   "metadata": {},
   "outputs": [],
   "source": [
    "def get_chrome_driver():\n",
    "    # 1. 크롬 옵션 세팅\n",
    "    chrome_options = webdriver.ChromeOptions()\n",
    "    \n",
    "    # 2. driver 생성하기\n",
    "    driver = webdriver.Chrome(\n",
    "        service=Service(ChromeDriverManager().install()), # 가장 많이 바뀐 부분\n",
    "        options=chrome_options\n",
    "    )\n",
    "    \n",
    "    return driver"
   ]
  },
  {
   "cell_type": "code",
   "execution_count": 40,
   "metadata": {},
   "outputs": [
    {
     "name": "stderr",
     "output_type": "stream",
     "text": [
      "\n",
      "\n",
      "====== WebDriver manager ======\n",
      "Current google-chrome version is 98.0.4758\n",
      "Get LATEST chromedriver version for 98.0.4758 google-chrome\n",
      "There is no [win32] chromedriver for browser  in cache\n",
      "Trying to download new driver from https://chromedriver.storage.googleapis.com/98.0.4758.102/chromedriver_win32.zip\n",
      "Driver has been saved in cache [C:\\Users\\jlune\\.wdm\\drivers\\chromedriver\\win32\\98.0.4758.102]\n"
     ]
    }
   ],
   "source": [
    "driver = get_chrome_driver()"
   ]
  },
  {
   "cell_type": "code",
   "execution_count": 41,
   "metadata": {},
   "outputs": [],
   "source": [
    "driver.get(\"https://www.justwatch.com/kr/%EB%8F%99%EC%98%81%EC%83%81%EC%84%9C%EB%B9%84%EC%8A%A4/wavve?content_type=movie\")"
   ]
  },
  {
   "cell_type": "code",
   "execution_count": 79,
   "metadata": {},
   "outputs": [
    {
     "data": {
      "text/plain": [
       "40"
      ]
     },
     "execution_count": 79,
     "metadata": {},
     "output_type": "execute_result"
    }
   ],
   "source": [
    "# xpath 로 접근\n",
    "# //*[@id=\"base\"]/div[3]/div/div[2]/div[1]/div/div[1]/a/div/picture/img\n",
    "#                                                  ^전체선택위에 요기 삭제 a태그 앞\n",
    "movies = driver.find_elements(\n",
    "    By.XPATH,\n",
    "    '//*[@id=\"base\"]/div[3]/div/div[2]/div[1]/div/div//a/div/picture/img')\n",
    "len(movies)"
   ]
  },
  {
   "cell_type": "code",
   "execution_count": 80,
   "metadata": {},
   "outputs": [
    {
     "data": {
      "text/plain": [
       "'프렌치 디스패치'"
      ]
     },
     "execution_count": 80,
     "metadata": {},
     "output_type": "execute_result"
    }
   ],
   "source": [
    "# 속성선택자 get_attribute 하나씩 뽑을 수 있다. 전체의 alt 속성 얻는법 연구해야.\n",
    "movies[0].get_attribute(\"alt\")"
   ]
  },
  {
   "cell_type": "code",
   "execution_count": 81,
   "metadata": {},
   "outputs": [
    {
     "data": {
      "text/plain": [
       "'씽2게더'"
      ]
     },
     "execution_count": 81,
     "metadata": {},
     "output_type": "execute_result"
    }
   ],
   "source": [
    "movies[1].get_attribute(\"alt\")"
   ]
  },
  {
   "cell_type": "code",
   "execution_count": 82,
   "metadata": {},
   "outputs": [
    {
     "data": {
      "text/plain": [
       "'세자매'"
      ]
     },
     "execution_count": 82,
     "metadata": {},
     "output_type": "execute_result"
    }
   ],
   "source": [
    "# 데이터 40개 밖에 없는상황 39번 인덱스가 마지막.\n",
    "movies[39].get_attribute(\"alt\")"
   ]
  },
  {
   "cell_type": "code",
   "execution_count": 56,
   "metadata": {},
   "outputs": [
    {
     "name": "stderr",
     "output_type": "stream",
     "text": [
      "<ipython-input-56-c22e1373db9e>:1: DeprecationWarning: find_element_by_* commands are deprecated. Please use find_element() instead\n",
      "  driver.find_element_by_xpath('//*[@id=\"base\"]/div[3]/div/div[2]/div[1]/div/div[1]/a/div/picture/img')\n"
     ]
    },
    {
     "data": {
      "text/plain": [
       "<selenium.webdriver.remote.webelement.WebElement (session=\"a617aff4fcc47820a6e1374a07557f62\", element=\"269ca21e-2fc1-4748-a807-df1634dfd988\")>"
      ]
     },
     "execution_count": 56,
     "metadata": {},
     "output_type": "execute_result"
    }
   ],
   "source": [
    "# 같은 뽑기방식. 코드만 좀 달라.\n",
    "driver.find_element_by_xpath('//*[@id=\"base\"]/div[3]/div/div[2]/div[1]/div/div[1]/a/div/picture/img')"
   ]
  },
  {
   "cell_type": "code",
   "execution_count": 83,
   "metadata": {},
   "outputs": [
    {
     "data": {
      "text/plain": [
       "360"
      ]
     },
     "execution_count": 83,
     "metadata": {},
     "output_type": "execute_result"
    }
   ],
   "source": [
    "# 데이터 로딩후 수집항목 늘어나는지 체크\n",
    "movies = driver.find_elements(\n",
    "    By.XPATH,\n",
    "    '//*[@id=\"base\"]/div[3]/div/div[2]/div[1]/div/div//a/div/picture/img')\n",
    "len(movies)\n",
    "# 잘늘어난다. 스크롤 끝까지 하면 데이터 다 얻을수 있겠어. "
   ]
  },
  {
   "cell_type": "code",
   "execution_count": 86,
   "metadata": {},
   "outputs": [
    {
     "data": {
      "text/plain": [
       "'갓 오브 이집트'"
      ]
     },
     "execution_count": 86,
     "metadata": {},
     "output_type": "execute_result"
    }
   ],
   "source": [
    "movies[359].get_attribute(\"alt\")"
   ]
  },
  {
   "cell_type": "code",
   "execution_count": 87,
   "metadata": {},
   "outputs": [
    {
     "data": {
      "text/plain": [
       "2000"
      ]
     },
     "execution_count": 87,
     "metadata": {},
     "output_type": "execute_result"
    }
   ],
   "source": [
    "# 마지막 템은 8비트 크리스마스\n",
    "movies = driver.find_elements(\n",
    "    By.XPATH,\n",
    "    '//*[@id=\"base\"]/div[3]/div/div[2]/div[1]/div/div//a/div/picture/img')\n",
    "len(movies)\n",
    "# 잘늘어난다. 스크롤 끝까지 하면 데이터 다 얻을수 있겠어."
   ]
  },
  {
   "cell_type": "code",
   "execution_count": 89,
   "metadata": {},
   "outputs": [
    {
     "data": {
      "text/plain": [
       "'8-비트 크리스마스'"
      ]
     },
     "execution_count": 89,
     "metadata": {},
     "output_type": "execute_result"
    }
   ],
   "source": [
    "movies[1999].get_attribute(\"alt\")"
   ]
  },
  {
   "cell_type": "code",
   "execution_count": null,
   "metadata": {},
   "outputs": [],
   "source": []
  }
 ],
 "metadata": {
  "interpreter": {
   "hash": "b3ba2566441a7c06988d0923437866b63cedc61552a5af99d1f4fb67d367b25f"
  },
  "kernelspec": {
   "display_name": "Python 3.8.8 ('base')",
   "language": "python",
   "name": "python3"
  },
  "language_info": {
   "codemirror_mode": {
    "name": "ipython",
    "version": 3
   },
   "file_extension": ".py",
   "mimetype": "text/x-python",
   "name": "python",
   "nbconvert_exporter": "python",
   "pygments_lexer": "ipython3",
   "version": "3.8.8"
  },
  "orig_nbformat": 4
 },
 "nbformat": 4,
 "nbformat_minor": 2
}
