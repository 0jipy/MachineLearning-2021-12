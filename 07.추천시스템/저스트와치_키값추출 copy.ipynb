{
 "cells": [
  {
   "cell_type": "markdown",
   "metadata": {},
   "source": [
    "#  저스트와치 키값 추출\n",
    "1. 웨이브 플랫폼의 영화 키값 추출\n"
   ]
  },
  {
   "cell_type": "markdown",
   "metadata": {},
   "source": [
    "READ ME\n",
    "    - URL 1~ 7 부터 각각입력하며 크롬창을 키고, 끄고 하기때문에 URL을 순회하는 반복문은 구성하지 않음.\n",
    "    - 메모리 문제인지 브라우저 이동으로 크롤링을 하면 sleep 1초 만에 로딩이 안되서. 화면 끝까지 스크롤 안내려가.\n",
    "    - 제 컴에서 안정적인 sleep time은 2초니까 . 크롤링할때 각자 사양에 맞춰서 참고하세요. 가능하면 1초로 빠르게 하길 권함.\n",
    "\n",
    "    - import 리스트는 뭐가 필요하고 안필요한지 정확히 몰라서. 일단 수정 안했어요.\n",
    "    - df 1 - df 7까지 수집후 합치는 형태라서 이것은 반복문 구성 필요.\n",
    "\n",
    "    - df1 ex 2000까지 영화.   data_list1 에 만들어두고.\n",
    "    - df2 ex 14-16년 까지 영화.  data_list2 에 만들어 두기만 하면. 추후에 판다스DF로 한번에 합칠 수 있어. \n",
    "    - 일단은 보여주고자 따로 구성함.. 코드 수정때 반복문 구성하게요."
   ]
  },
  {
   "cell_type": "code",
   "execution_count": 53,
   "metadata": {},
   "outputs": [],
   "source": [
    "from selenium import webdriver\n",
    "from selenium.webdriver.chrome.service import Service\n",
    "from webdriver_manager.chrome import ChromeDriverManager\n",
    "from selenium.webdriver.common.by import By\n",
    "from selenium.webdriver.support import expected_conditions as EC\n",
    "import time\n",
    "# from selenium.webdriver.common.keys import Keys\n"
   ]
  },
  {
   "cell_type": "code",
   "execution_count": 2,
   "metadata": {},
   "outputs": [],
   "source": [
    "def get_chrome_driver():\n",
    "    # 1. 크롬 옵션 세팅\n",
    "    chrome_options = webdriver.ChromeOptions()\n",
    "    \n",
    "    # 2. driver 생성하기\n",
    "    driver = webdriver.Chrome(\n",
    "        service=Service(ChromeDriverManager().install()), # 가장 많이 바뀐 부분\n",
    "        options=chrome_options\n",
    "    )\n",
    "    \n",
    "    return driver"
   ]
  },
  {
   "cell_type": "code",
   "execution_count": 30,
   "metadata": {},
   "outputs": [
    {
     "name": "stderr",
     "output_type": "stream",
     "text": [
      "\n",
      "\n",
      "====== WebDriver manager ======\n",
      "Current google-chrome version is 98.0.4758\n",
      "Get LATEST chromedriver version for 98.0.4758 google-chrome\n",
      "Driver [C:\\Users\\jlune\\.wdm\\drivers\\chromedriver\\win32\\98.0.4758.102\\chromedriver.exe] found in cache\n"
     ]
    }
   ],
   "source": [
    "driver = get_chrome_driver()"
   ]
  },
  {
   "cell_type": "code",
   "execution_count": 4,
   "metadata": {},
   "outputs": [],
   "source": [
    "# driver.quit()"
   ]
  },
  {
   "cell_type": "code",
   "execution_count": null,
   "metadata": {},
   "outputs": [],
   "source": [
    "url1 = \"https://www.justwatch.com/kr/%EB%8F%99%EC%98%81%EC%83%81%EC%84%9C%EB%B9%84%EC%8A%A4/wavve?content_type=movie&release_year_until=2003\"\n",
    "url2 = \"https://www.justwatch.com/kr/%EB%8F%99%EC%98%81%EC%83%81%EC%84%9C%EB%B9%84%EC%8A%A4/wavve?content_type=movie&release_year_from=2004&release_year_until=2011\"\n",
    "url3 = \"https://www.justwatch.com/kr/%EB%8F%99%EC%98%81%EC%83%81%EC%84%9C%EB%B9%84%EC%8A%A4/wavve?content_type=movie&release_year_from=2012&release_year_until=2014\"\n",
    "url4 = \"https://www.justwatch.com/kr/%EB%8F%99%EC%98%81%EC%83%81%EC%84%9C%EB%B9%84%EC%8A%A4/wavve?content_type=movie&release_year_from=2015&release_year_until=2016\"\n",
    "url5 = \"https://www.justwatch.com/kr/%EB%8F%99%EC%98%81%EC%83%81%EC%84%9C%EB%B9%84%EC%8A%A4/wavve?content_type=movie&release_year_from=2017&release_year_until=2018\"\n",
    "url6 = \"https://www.justwatch.com/kr/%EB%8F%99%EC%98%81%EC%83%81%EC%84%9C%EB%B9%84%EC%8A%A4/wavve?content_type=movie&release_year_from=2019&release_year_until=2020\"\n",
    "url7 = \"https://www.justwatch.com/kr/%EB%8F%99%EC%98%81%EC%83%81%EC%84%9C%EB%B9%84%EC%8A%A4/wavve?content_type=movie&release_year_from=2021&release_year_until=2022\""
   ]
  },
  {
   "cell_type": "code",
   "execution_count": 54,
   "metadata": {},
   "outputs": [],
   "source": [
    "driver.get(url1)"
   ]
  },
  {
   "cell_type": "code",
   "execution_count": 25,
   "metadata": {},
   "outputs": [],
   "source": [
    "SCROLL_PAUSE_SEC = 1\n",
    "\n",
    "# 스크롤 높이 가져옴\n",
    "last_height = driver.execute_script(\"return document.body.scrollHeight\")\n",
    "\n",
    "while True:\n",
    "    # 끝까지 스크롤 다운\n",
    "    driver.execute_script(\"window.scrollTo(0, document.body.scrollHeight);\")\n",
    "\n",
    "    # 1초 대기\n",
    "    time.sleep(SCROLL_PAUSE_SEC)\n",
    "\n",
    "    # 스크롤 다운 후 스크롤 높이 다시 가져옴\n",
    "    new_height = driver.execute_script(\"return document.body.scrollHeight\")\n",
    "    if new_height == last_height:\n",
    "        break\n",
    "    last_height = new_height"
   ]
  },
  {
   "cell_type": "code",
   "execution_count": 10,
   "metadata": {},
   "outputs": [
    {
     "data": {
      "text/plain": [
       "1957"
      ]
     },
     "execution_count": 10,
     "metadata": {},
     "output_type": "execute_result"
    }
   ],
   "source": [
    "# xpath 로 접근\n",
    "# //*[@id=\"base\"]/div[3]/div/div[2]/div[1]/div/div[1]/a/div/picture/img\n",
    "#                                                  ^전체선택위에 요기 삭제 a태그 앞\n",
    "movies = driver.find_elements(\n",
    "    By.XPATH,\n",
    "    '//*[@id=\"base\"]/div[3]/div/div[2]/div[1]/div/div/a')\n",
    "\n",
    "len(movies)\n",
    "# 위에는 key 값 뽑아오기 url+ key값"
   ]
  },
  {
   "cell_type": "code",
   "execution_count": 16,
   "metadata": {},
   "outputs": [],
   "source": [
    "import pandas as pd"
   ]
  },
  {
   "cell_type": "code",
   "execution_count": 17,
   "metadata": {},
   "outputs": [
    {
     "data": {
      "text/plain": [
       "1957"
      ]
     },
     "execution_count": 17,
     "metadata": {},
     "output_type": "execute_result"
    }
   ],
   "source": [
    "data_list1=[]\n",
    "\n",
    "for i in range(0,len(movies)):\n",
    "    name = movies[i].get_attribute(\"href\").split('/')[-1]\n",
    "    data_list1.append(name)\n",
    "len(data_list1)"
   ]
  },
  {
   "cell_type": "markdown",
   "metadata": {},
   "source": [
    "## URL2"
   ]
  },
  {
   "cell_type": "code",
   "execution_count": null,
   "metadata": {},
   "outputs": [],
   "source": [
    "driver.quit()"
   ]
  },
  {
   "cell_type": "code",
   "execution_count": null,
   "metadata": {},
   "outputs": [],
   "source": [
    "driver = get_chrome_driver()\n",
    "driver.maximize_window()\n",
    "driver.get(url2)"
   ]
  },
  {
   "cell_type": "code",
   "execution_count": 31,
   "metadata": {},
   "outputs": [],
   "source": [
    "SCROLL_PAUSE_SEC = 1\n",
    "\n",
    "# 스크롤 높이 가져옴\n",
    "last_height = driver.execute_script(\"return document.body.scrollHeight\")\n",
    "\n",
    "while True:\n",
    "    # 끝까지 스크롤 다운\n",
    "    driver.execute_script(\"window.scrollTo(0, document.body.scrollHeight);\")\n",
    "\n",
    "    # 1초 대기\n",
    "    time.sleep(SCROLL_PAUSE_SEC)\n",
    "\n",
    "    # 스크롤 다운 후 스크롤 높이 다시 가져옴\n",
    "    new_height = driver.execute_script(\"return document.body.scrollHeight\")\n",
    "    if new_height == last_height:\n",
    "        break\n",
    "    last_height = new_height\n",
    "    # 일단요기까지 "
   ]
  },
  {
   "cell_type": "code",
   "execution_count": 33,
   "metadata": {},
   "outputs": [
    {
     "data": {
      "text/plain": [
       "1858"
      ]
     },
     "execution_count": 33,
     "metadata": {},
     "output_type": "execute_result"
    }
   ],
   "source": [
    "movies = driver.find_elements(\n",
    "    By.XPATH,\n",
    "    '//*[@id=\"base\"]/div[3]/div/div[2]/div[1]/div/div/a')\n",
    "len(movies)"
   ]
  },
  {
   "cell_type": "code",
   "execution_count": 34,
   "metadata": {},
   "outputs": [
    {
     "data": {
      "text/plain": [
       "1858"
      ]
     },
     "execution_count": 34,
     "metadata": {},
     "output_type": "execute_result"
    }
   ],
   "source": [
    "data_list2=[]\n",
    "\n",
    "for i in range(0,len(movies)):\n",
    "    name = movies[i].get_attribute(\"href\").split('/')[-1]\n",
    "    data_list2.append(name)\n",
    "len(data_list2)"
   ]
  },
  {
   "cell_type": "code",
   "execution_count": 36,
   "metadata": {},
   "outputs": [
    {
     "data": {
      "text/html": [
       "<div>\n",
       "<style scoped>\n",
       "    .dataframe tbody tr th:only-of-type {\n",
       "        vertical-align: middle;\n",
       "    }\n",
       "\n",
       "    .dataframe tbody tr th {\n",
       "        vertical-align: top;\n",
       "    }\n",
       "\n",
       "    .dataframe thead th {\n",
       "        text-align: right;\n",
       "    }\n",
       "</style>\n",
       "<table border=\"1\" class=\"dataframe\">\n",
       "  <thead>\n",
       "    <tr style=\"text-align: right;\">\n",
       "      <th></th>\n",
       "      <th>url2</th>\n",
       "    </tr>\n",
       "  </thead>\n",
       "  <tbody>\n",
       "    <tr>\n",
       "      <th>0</th>\n",
       "      <td>the-time-travelers-wife</td>\n",
       "    </tr>\n",
       "    <tr>\n",
       "      <th>1</th>\n",
       "      <td>peuropojeu</td>\n",
       "    </tr>\n",
       "    <tr>\n",
       "      <th>2</th>\n",
       "      <td>the-prestige</td>\n",
       "    </tr>\n",
       "    <tr>\n",
       "      <th>3</th>\n",
       "      <td>the-debt</td>\n",
       "    </tr>\n",
       "    <tr>\n",
       "      <th>4</th>\n",
       "      <td>inception</td>\n",
       "    </tr>\n",
       "    <tr>\n",
       "      <th>...</th>\n",
       "      <td>...</td>\n",
       "    </tr>\n",
       "    <tr>\n",
       "      <th>1853</th>\n",
       "      <td>lady-daddy</td>\n",
       "    </tr>\n",
       "    <tr>\n",
       "      <th>1854</th>\n",
       "      <td>the-story-of-mr-sorry</td>\n",
       "    </tr>\n",
       "    <tr>\n",
       "      <th>1855</th>\n",
       "      <td>farmers-song</td>\n",
       "    </tr>\n",
       "    <tr>\n",
       "      <th>1856</th>\n",
       "      <td>little-gobie</td>\n",
       "    </tr>\n",
       "    <tr>\n",
       "      <th>1857</th>\n",
       "      <td>the-strength-of-water</td>\n",
       "    </tr>\n",
       "  </tbody>\n",
       "</table>\n",
       "<p>1858 rows × 1 columns</p>\n",
       "</div>"
      ],
      "text/plain": [
       "                         url2\n",
       "0     the-time-travelers-wife\n",
       "1                  peuropojeu\n",
       "2                the-prestige\n",
       "3                    the-debt\n",
       "4                   inception\n",
       "...                       ...\n",
       "1853               lady-daddy\n",
       "1854    the-story-of-mr-sorry\n",
       "1855             farmers-song\n",
       "1856             little-gobie\n",
       "1857    the-strength-of-water\n",
       "\n",
       "[1858 rows x 1 columns]"
      ]
     },
     "execution_count": 36,
     "metadata": {},
     "output_type": "execute_result"
    }
   ],
   "source": [
    "df2 = pd.DataFrame({\n",
    "    'url2':data_list2,\n",
    "})\n",
    "df2"
   ]
  },
  {
   "cell_type": "code",
   "execution_count": 18,
   "metadata": {},
   "outputs": [
    {
     "data": {
      "text/html": [
       "<div>\n",
       "<style scoped>\n",
       "    .dataframe tbody tr th:only-of-type {\n",
       "        vertical-align: middle;\n",
       "    }\n",
       "\n",
       "    .dataframe tbody tr th {\n",
       "        vertical-align: top;\n",
       "    }\n",
       "\n",
       "    .dataframe thead th {\n",
       "        text-align: right;\n",
       "    }\n",
       "</style>\n",
       "<table border=\"1\" class=\"dataframe\">\n",
       "  <thead>\n",
       "    <tr style=\"text-align: right;\">\n",
       "      <th></th>\n",
       "      <th>url1</th>\n",
       "    </tr>\n",
       "  </thead>\n",
       "  <tbody>\n",
       "    <tr>\n",
       "      <th>0</th>\n",
       "      <td>banjiyi-jewang-banji-weonjeongdae</td>\n",
       "    </tr>\n",
       "    <tr>\n",
       "      <th>1</th>\n",
       "      <td>namsaegdaemun</td>\n",
       "    </tr>\n",
       "    <tr>\n",
       "      <th>2</th>\n",
       "      <td>meolholraendeu-deuraibeu</td>\n",
       "    </tr>\n",
       "    <tr>\n",
       "      <th>3</th>\n",
       "      <td>harry-potter-and-the-philosophers-stone</td>\n",
       "    </tr>\n",
       "    <tr>\n",
       "      <th>4</th>\n",
       "      <td>peolpeu-pigsyeon</td>\n",
       "    </tr>\n",
       "    <tr>\n",
       "      <th>...</th>\n",
       "      <td>...</td>\n",
       "    </tr>\n",
       "    <tr>\n",
       "      <th>1952</th>\n",
       "      <td>pungudongro</td>\n",
       "    </tr>\n",
       "    <tr>\n",
       "      <th>1953</th>\n",
       "      <td>seongtankwaerag-meri-keuriseumaseu</td>\n",
       "    </tr>\n",
       "    <tr>\n",
       "      <th>1954</th>\n",
       "      <td>mad-minutes</td>\n",
       "    </tr>\n",
       "    <tr>\n",
       "      <th>1955</th>\n",
       "      <td>caempieon</td>\n",
       "    </tr>\n",
       "    <tr>\n",
       "      <th>1956</th>\n",
       "      <td>ugyeonarang</td>\n",
       "    </tr>\n",
       "  </tbody>\n",
       "</table>\n",
       "<p>1957 rows × 1 columns</p>\n",
       "</div>"
      ],
      "text/plain": [
       "                                         url1\n",
       "0           banjiyi-jewang-banji-weonjeongdae\n",
       "1                               namsaegdaemun\n",
       "2                    meolholraendeu-deuraibeu\n",
       "3     harry-potter-and-the-philosophers-stone\n",
       "4                            peolpeu-pigsyeon\n",
       "...                                       ...\n",
       "1952                              pungudongro\n",
       "1953       seongtankwaerag-meri-keuriseumaseu\n",
       "1954                              mad-minutes\n",
       "1955                                caempieon\n",
       "1956                              ugyeonarang\n",
       "\n",
       "[1957 rows x 1 columns]"
      ]
     },
     "execution_count": 18,
     "metadata": {},
     "output_type": "execute_result"
    }
   ],
   "source": [
    "df = pd.DataFrame({\n",
    "    'url1':data_list1\n",
    "})\n",
    "df"
   ]
  },
  {
   "cell_type": "code",
   "execution_count": 39,
   "metadata": {},
   "outputs": [],
   "source": [
    "driver = get_chrome_driver()\n",
    "driver.maximize_window()\n",
    "driver.get(url3)"
   ]
  },
  {
   "cell_type": "code",
   "execution_count": 40,
   "metadata": {},
   "outputs": [],
   "source": [
    "# URl3\n",
    "\n",
    "SCROLL_PAUSE_SEC = 1\n",
    "\n",
    "# 스크롤 높이 가져옴\n",
    "last_height = driver.execute_script(\"return document.body.scrollHeight\")\n",
    "\n",
    "while True:\n",
    "    # 끝까지 스크롤 다운\n",
    "    driver.execute_script(\"window.scrollTo(0, document.body.scrollHeight);\")\n",
    "\n",
    "    # 1초 대기\n",
    "    time.sleep(SCROLL_PAUSE_SEC)\n",
    "\n",
    "    # 스크롤 다운 후 스크롤 높이 다시 가져옴\n",
    "    new_height = driver.execute_script(\"return document.body.scrollHeight\")\n",
    "    if new_height == last_height:\n",
    "        break\n",
    "    last_height = new_height\n",
    "    # 일단요기까지 "
   ]
  },
  {
   "cell_type": "code",
   "execution_count": 41,
   "metadata": {},
   "outputs": [
    {
     "data": {
      "text/plain": [
       "1478"
      ]
     },
     "execution_count": 41,
     "metadata": {},
     "output_type": "execute_result"
    }
   ],
   "source": [
    "movies = driver.find_elements(\n",
    "    By.XPATH,\n",
    "    '//*[@id=\"base\"]/div[3]/div/div[2]/div[1]/div/div/a')\n",
    "len(movies)"
   ]
  },
  {
   "cell_type": "code",
   "execution_count": 43,
   "metadata": {},
   "outputs": [
    {
     "data": {
      "text/html": [
       "<div>\n",
       "<style scoped>\n",
       "    .dataframe tbody tr th:only-of-type {\n",
       "        vertical-align: middle;\n",
       "    }\n",
       "\n",
       "    .dataframe tbody tr th {\n",
       "        vertical-align: top;\n",
       "    }\n",
       "\n",
       "    .dataframe thead th {\n",
       "        text-align: right;\n",
       "    }\n",
       "</style>\n",
       "<table border=\"1\" class=\"dataframe\">\n",
       "  <thead>\n",
       "    <tr style=\"text-align: right;\">\n",
       "      <th></th>\n",
       "      <th>url3</th>\n",
       "    </tr>\n",
       "  </thead>\n",
       "  <tbody>\n",
       "    <tr>\n",
       "      <th>0</th>\n",
       "      <td>john-wick</td>\n",
       "    </tr>\n",
       "    <tr>\n",
       "      <th>1</th>\n",
       "      <td>the-grand-budapest-hotel</td>\n",
       "    </tr>\n",
       "    <tr>\n",
       "      <th>2</th>\n",
       "      <td>begin-again</td>\n",
       "    </tr>\n",
       "    <tr>\n",
       "      <th>3</th>\n",
       "      <td>the-dark-knight-rises</td>\n",
       "    </tr>\n",
       "    <tr>\n",
       "      <th>4</th>\n",
       "      <td>whiplash</td>\n",
       "    </tr>\n",
       "    <tr>\n",
       "      <th>...</th>\n",
       "      <td>...</td>\n",
       "    </tr>\n",
       "    <tr>\n",
       "      <th>1473</th>\n",
       "      <td>grape-candy</td>\n",
       "    </tr>\n",
       "    <tr>\n",
       "      <th>1474</th>\n",
       "      <td>my-pretend-girlfriend</td>\n",
       "    </tr>\n",
       "    <tr>\n",
       "      <th>1475</th>\n",
       "      <td>journal-de-france</td>\n",
       "    </tr>\n",
       "    <tr>\n",
       "      <th>1476</th>\n",
       "      <td>deo-paiteo-paineol-raundeu</td>\n",
       "    </tr>\n",
       "    <tr>\n",
       "      <th>1477</th>\n",
       "      <td>the-game-of-truth</td>\n",
       "    </tr>\n",
       "  </tbody>\n",
       "</table>\n",
       "<p>1478 rows × 1 columns</p>\n",
       "</div>"
      ],
      "text/plain": [
       "                            url3\n",
       "0                      john-wick\n",
       "1       the-grand-budapest-hotel\n",
       "2                    begin-again\n",
       "3          the-dark-knight-rises\n",
       "4                       whiplash\n",
       "...                          ...\n",
       "1473                 grape-candy\n",
       "1474       my-pretend-girlfriend\n",
       "1475           journal-de-france\n",
       "1476  deo-paiteo-paineol-raundeu\n",
       "1477           the-game-of-truth\n",
       "\n",
       "[1478 rows x 1 columns]"
      ]
     },
     "execution_count": 43,
     "metadata": {},
     "output_type": "execute_result"
    }
   ],
   "source": [
    "data_list3=[]\n",
    "\n",
    "for i in range(0,len(movies)):\n",
    "    name = movies[i].get_attribute(\"href\").split('/')[-1]\n",
    "    data_list3.append(name)\n",
    "\n",
    "df3 = pd.DataFrame({\n",
    "    'url3':data_list3\n",
    "})\n",
    "df3"
   ]
  },
  {
   "cell_type": "markdown",
   "metadata": {},
   "source": [
    "## URL4"
   ]
  },
  {
   "cell_type": "code",
   "execution_count": 104,
   "metadata": {},
   "outputs": [
    {
     "name": "stderr",
     "output_type": "stream",
     "text": [
      "\n",
      "\n",
      "====== WebDriver manager ======\n",
      "Current google-chrome version is 98.0.4758\n",
      "Get LATEST chromedriver version for 98.0.4758 google-chrome\n",
      "Driver [C:\\Users\\jlune\\.wdm\\drivers\\chromedriver\\win32\\98.0.4758.102\\chromedriver.exe] found in cache\n"
     ]
    }
   ],
   "source": [
    "driver = get_chrome_driver()\n",
    "driver.maximize_window()\n",
    "driver.get(url4)"
   ]
  },
  {
   "cell_type": "code",
   "execution_count": 56,
   "metadata": {},
   "outputs": [
    {
     "name": "stderr",
     "output_type": "stream",
     "text": [
      "<ipython-input-56-edfa68bfa020>:1: DeprecationWarning: find_element_by_* commands are deprecated. Please use find_element() instead\n",
      "  driver.find_element_by_tag_name('body').send_keys(Keys.PAGE_DOWN)\n"
     ]
    }
   ],
   "source": [
    "# driver.find_element_by_tag_name('body').send_keys(Keys.PAGE_DOWN)"
   ]
  },
  {
   "cell_type": "code",
   "execution_count": 57,
   "metadata": {},
   "outputs": [
    {
     "name": "stderr",
     "output_type": "stream",
     "text": [
      "<ipython-input-57-bc9bbe2fd8fb>:3: DeprecationWarning: find_element_by_* commands are deprecated. Please use find_element() instead\n",
      "  driver.find_element_by_tag_name('body').send_keys(Keys.PAGE_DOWN)\n"
     ]
    }
   ],
   "source": [
    "# SCROLL_PAUSE_SEC = 1\n",
    "# for c in range(0,5):\n",
    "#     driver.find_element_by_tag_name('body').send_keys(Keys.PAGE_DOWN)\n",
    "#     time.sleep(SCROLL_PAUSE_SEC)"
   ]
  },
  {
   "cell_type": "code",
   "execution_count": 105,
   "metadata": {},
   "outputs": [],
   "source": [
    "# URl4\n",
    "\n",
    "SCROLL_PAUSE_SEC = 1\n",
    "\n",
    "# 스크롤 높이 가져옴\n",
    "last_height = driver.execute_script(\"return document.body.scrollHeight\")\n",
    "\n",
    "while True:\n",
    "    # 끝까지 스크롤 다운\n",
    "    driver.execute_script(\"window.scrollTo(0, document.body.scrollHeight);\")\n",
    "\n",
    "    # 1초 대기\n",
    "    time.sleep(SCROLL_PAUSE_SEC)\n",
    "\n",
    "    # 스크롤 다운 후 스크롤 높이 다시 가져옴\n",
    "    new_height = driver.execute_script(\"return document.body.scrollHeight\")\n",
    "    if new_height == last_height:\n",
    "        time.sleep(5) # 로딩이 늦어져서. 목록의 끝이 아닌데. 스크롤 높이가 동일해지는 것 방지. 로딩시간 부여. 스크롤타임 안늘려도 되서 좋아.\n",
    "        break\n",
    "    last_height = new_height\n",
    "    # 일단요기까지 "
   ]
  },
  {
   "cell_type": "code",
   "execution_count": 106,
   "metadata": {},
   "outputs": [
    {
     "data": {
      "text/plain": [
       "1470"
      ]
     },
     "execution_count": 106,
     "metadata": {},
     "output_type": "execute_result"
    }
   ],
   "source": [
    "movies = driver.find_elements(\n",
    "    By.XPATH,\n",
    "    '//*[@id=\"base\"]/div[3]/div/div[2]/div[1]/div/div/a')\n",
    "len(movies)"
   ]
  },
  {
   "cell_type": "code",
   "execution_count": 107,
   "metadata": {},
   "outputs": [
    {
     "data": {
      "text/html": [
       "<div>\n",
       "<style scoped>\n",
       "    .dataframe tbody tr th:only-of-type {\n",
       "        vertical-align: middle;\n",
       "    }\n",
       "\n",
       "    .dataframe tbody tr th {\n",
       "        vertical-align: top;\n",
       "    }\n",
       "\n",
       "    .dataframe thead th {\n",
       "        text-align: right;\n",
       "    }\n",
       "</style>\n",
       "<table border=\"1\" class=\"dataframe\">\n",
       "  <thead>\n",
       "    <tr style=\"text-align: right;\">\n",
       "      <th></th>\n",
       "      <th>url4</th>\n",
       "    </tr>\n",
       "  </thead>\n",
       "  <tbody>\n",
       "    <tr>\n",
       "      <th>0</th>\n",
       "      <td>13sigan</td>\n",
       "    </tr>\n",
       "    <tr>\n",
       "      <th>1</th>\n",
       "      <td>miseu-seulroun</td>\n",
       "    </tr>\n",
       "    <tr>\n",
       "      <th>2</th>\n",
       "      <td>fantastic-beasts-and-where-to-find-them</td>\n",
       "    </tr>\n",
       "    <tr>\n",
       "      <th>3</th>\n",
       "      <td>maedeu-maegseu-bunnoyi-doro</td>\n",
       "    </tr>\n",
       "    <tr>\n",
       "      <th>4</th>\n",
       "      <td>keontaegteu</td>\n",
       "    </tr>\n",
       "    <tr>\n",
       "      <th>...</th>\n",
       "      <td>...</td>\n",
       "    </tr>\n",
       "    <tr>\n",
       "      <th>1465</th>\n",
       "      <td>the-boys-who-cried-wolf</td>\n",
       "    </tr>\n",
       "    <tr>\n",
       "      <th>1466</th>\n",
       "      <td>the-city-in-the-water</td>\n",
       "    </tr>\n",
       "    <tr>\n",
       "      <th>1467</th>\n",
       "      <td>geugjangpan-gamyeonraideo-deuraibeu-seopeuraij...</td>\n",
       "    </tr>\n",
       "    <tr>\n",
       "      <th>1468</th>\n",
       "      <td>saekeuripaiseu</td>\n",
       "    </tr>\n",
       "    <tr>\n",
       "      <th>1469</th>\n",
       "      <td>round-trip-heart</td>\n",
       "    </tr>\n",
       "  </tbody>\n",
       "</table>\n",
       "<p>1470 rows × 1 columns</p>\n",
       "</div>"
      ],
      "text/plain": [
       "                                                   url4\n",
       "0                                               13sigan\n",
       "1                                        miseu-seulroun\n",
       "2               fantastic-beasts-and-where-to-find-them\n",
       "3                           maedeu-maegseu-bunnoyi-doro\n",
       "4                                           keontaegteu\n",
       "...                                                 ...\n",
       "1465                            the-boys-who-cried-wolf\n",
       "1466                              the-city-in-the-water\n",
       "1467  geugjangpan-gamyeonraideo-deuraibeu-seopeuraij...\n",
       "1468                                     saekeuripaiseu\n",
       "1469                                   round-trip-heart\n",
       "\n",
       "[1470 rows x 1 columns]"
      ]
     },
     "execution_count": 107,
     "metadata": {},
     "output_type": "execute_result"
    }
   ],
   "source": [
    "data_list4=[]\n",
    "\n",
    "for i in range(0,len(movies)):\n",
    "    name = movies[i].get_attribute(\"href\").split('/')[-1]\n",
    "    data_list4.append(name)\n",
    "\n",
    "df4 = pd.DataFrame({\n",
    "    'url4':data_list4\n",
    "})\n",
    "df4"
   ]
  },
  {
   "cell_type": "code",
   "execution_count": 76,
   "metadata": {},
   "outputs": [],
   "source": [
    "driver.quit()"
   ]
  },
  {
   "cell_type": "markdown",
   "metadata": {},
   "source": [
    "## URL5"
   ]
  },
  {
   "cell_type": "code",
   "execution_count": 77,
   "metadata": {},
   "outputs": [
    {
     "name": "stderr",
     "output_type": "stream",
     "text": [
      "\n",
      "\n",
      "====== WebDriver manager ======\n",
      "Current google-chrome version is 98.0.4758\n",
      "Get LATEST chromedriver version for 98.0.4758 google-chrome\n",
      "Driver [C:\\Users\\jlune\\.wdm\\drivers\\chromedriver\\win32\\98.0.4758.102\\chromedriver.exe] found in cache\n"
     ]
    }
   ],
   "source": [
    "driver = get_chrome_driver()\n",
    "driver.maximize_window()\n",
    "driver.get(url5)"
   ]
  },
  {
   "cell_type": "code",
   "execution_count": 78,
   "metadata": {},
   "outputs": [],
   "source": [
    "# URl5\n",
    "SCROLL_PAUSE_SEC = 1\n",
    "last_height = driver.execute_script(\"return document.body.scrollHeight\")\n",
    "\n",
    "while True:\n",
    "    driver.execute_script(\"window.scrollTo(0, document.body.scrollHeight);\")\n",
    "    time.sleep(SCROLL_PAUSE_SEC)\n",
    "    new_height = driver.execute_script(\"return document.body.scrollHeight\")\n",
    "    if new_height == last_height:\n",
    "        time.sleep(5) # 로딩이 늦어져서. 목록의 끝이 아닌데. 스크롤 높이가 동일해지는 것 방지. 로딩시간 부여. 스크롤타임 안늘려도 되서 좋아.\n",
    "        break\n",
    "    last_height = new_height"
   ]
  },
  {
   "cell_type": "code",
   "execution_count": 79,
   "metadata": {},
   "outputs": [
    {
     "data": {
      "text/plain": [
       "1936"
      ]
     },
     "execution_count": 79,
     "metadata": {},
     "output_type": "execute_result"
    }
   ],
   "source": [
    "movies = driver.find_elements(\n",
    "    By.XPATH,\n",
    "    '//*[@id=\"base\"]/div[3]/div/div[2]/div[1]/div/div/a')\n",
    "len(movies)"
   ]
  },
  {
   "cell_type": "code",
   "execution_count": 81,
   "metadata": {},
   "outputs": [
    {
     "data": {
      "text/html": [
       "<div>\n",
       "<style scoped>\n",
       "    .dataframe tbody tr th:only-of-type {\n",
       "        vertical-align: middle;\n",
       "    }\n",
       "\n",
       "    .dataframe tbody tr th {\n",
       "        vertical-align: top;\n",
       "    }\n",
       "\n",
       "    .dataframe thead th {\n",
       "        text-align: right;\n",
       "    }\n",
       "</style>\n",
       "<table border=\"1\" class=\"dataframe\">\n",
       "  <thead>\n",
       "    <tr style=\"text-align: right;\">\n",
       "      <th></th>\n",
       "      <th>url5</th>\n",
       "    </tr>\n",
       "  </thead>\n",
       "  <tbody>\n",
       "    <tr>\n",
       "      <th>0</th>\n",
       "      <td>murder-on-the-orient-express</td>\n",
       "    </tr>\n",
       "    <tr>\n",
       "      <th>1</th>\n",
       "      <td>the-witch-part-1-the-subversion</td>\n",
       "    </tr>\n",
       "    <tr>\n",
       "      <th>2</th>\n",
       "      <td>redi-peulreieo-weon</td>\n",
       "    </tr>\n",
       "    <tr>\n",
       "      <th>3</th>\n",
       "      <td>asako</td>\n",
       "    </tr>\n",
       "    <tr>\n",
       "      <th>4</th>\n",
       "      <td>benom</td>\n",
       "    </tr>\n",
       "    <tr>\n",
       "      <th>...</th>\n",
       "      <td>...</td>\n",
       "    </tr>\n",
       "    <tr>\n",
       "      <th>1931</th>\n",
       "      <td>sonyeo-haneuleul-nalda</td>\n",
       "    </tr>\n",
       "    <tr>\n",
       "      <th>1932</th>\n",
       "      <td>ten-sikeuris-misyeon</td>\n",
       "    </tr>\n",
       "    <tr>\n",
       "      <th>1933</th>\n",
       "      <td>green-days-by-the-river</td>\n",
       "    </tr>\n",
       "    <tr>\n",
       "      <th>1934</th>\n",
       "      <td>redeu-seupeuring-apokalribseu</td>\n",
       "    </tr>\n",
       "    <tr>\n",
       "      <th>1935</th>\n",
       "      <td>weorieo-rodeu</td>\n",
       "    </tr>\n",
       "  </tbody>\n",
       "</table>\n",
       "<p>1936 rows × 1 columns</p>\n",
       "</div>"
      ],
      "text/plain": [
       "                                 url5\n",
       "0        murder-on-the-orient-express\n",
       "1     the-witch-part-1-the-subversion\n",
       "2                 redi-peulreieo-weon\n",
       "3                               asako\n",
       "4                               benom\n",
       "...                               ...\n",
       "1931           sonyeo-haneuleul-nalda\n",
       "1932             ten-sikeuris-misyeon\n",
       "1933          green-days-by-the-river\n",
       "1934    redeu-seupeuring-apokalribseu\n",
       "1935                    weorieo-rodeu\n",
       "\n",
       "[1936 rows x 1 columns]"
      ]
     },
     "execution_count": 81,
     "metadata": {},
     "output_type": "execute_result"
    }
   ],
   "source": [
    "data_list5=[]\n",
    "\n",
    "for i in range(0,len(movies)):\n",
    "    name = movies[i].get_attribute(\"href\").split('/')[-1]\n",
    "    data_list5.append(name)\n",
    "\n",
    "df5 = pd.DataFrame({\n",
    "    'url5':data_list5\n",
    "})\n",
    "df5"
   ]
  },
  {
   "cell_type": "markdown",
   "metadata": {},
   "source": [
    "## URL6"
   ]
  },
  {
   "cell_type": "code",
   "execution_count": 82,
   "metadata": {},
   "outputs": [],
   "source": [
    "driver.quit()"
   ]
  },
  {
   "cell_type": "code",
   "execution_count": 83,
   "metadata": {},
   "outputs": [
    {
     "name": "stderr",
     "output_type": "stream",
     "text": [
      "\n",
      "\n",
      "====== WebDriver manager ======\n",
      "Current google-chrome version is 98.0.4758\n",
      "Get LATEST chromedriver version for 98.0.4758 google-chrome\n",
      "Driver [C:\\Users\\jlune\\.wdm\\drivers\\chromedriver\\win32\\98.0.4758.102\\chromedriver.exe] found in cache\n"
     ]
    }
   ],
   "source": [
    "driver = get_chrome_driver()\n",
    "driver.maximize_window()\n",
    "driver.get(url6)"
   ]
  },
  {
   "cell_type": "code",
   "execution_count": 85,
   "metadata": {},
   "outputs": [],
   "source": [
    "# URl6\n",
    "SCROLL_PAUSE_SEC = 1\n",
    "last_height = driver.execute_script(\"return document.body.scrollHeight\")\n",
    "\n",
    "while True:\n",
    "    driver.execute_script(\"window.scrollTo(0, document.body.scrollHeight);\")\n",
    "    time.sleep(SCROLL_PAUSE_SEC)\n",
    "    new_height = driver.execute_script(\"return document.body.scrollHeight\")\n",
    "    if new_height == last_height:\n",
    "        time.sleep(5) # 로딩이 늦어져서. 목록의 끝이 아닌데. 스크롤 높이가 동일해지는 것 방지. 로딩시간 부여. 스크롤타임 안늘려도 되서 좋아.\n",
    "        break\n",
    "    last_height = new_height"
   ]
  },
  {
   "cell_type": "code",
   "execution_count": 86,
   "metadata": {},
   "outputs": [
    {
     "data": {
      "text/plain": [
       "1662"
      ]
     },
     "execution_count": 86,
     "metadata": {},
     "output_type": "execute_result"
    }
   ],
   "source": [
    "movies = driver.find_elements(\n",
    "    By.XPATH,\n",
    "    '//*[@id=\"base\"]/div[3]/div/div[2]/div[1]/div/div/a')\n",
    "len(movies)"
   ]
  },
  {
   "cell_type": "code",
   "execution_count": 88,
   "metadata": {},
   "outputs": [
    {
     "data": {
      "text/html": [
       "<div>\n",
       "<style scoped>\n",
       "    .dataframe tbody tr th:only-of-type {\n",
       "        vertical-align: middle;\n",
       "    }\n",
       "\n",
       "    .dataframe tbody tr th {\n",
       "        vertical-align: top;\n",
       "    }\n",
       "\n",
       "    .dataframe thead th {\n",
       "        text-align: right;\n",
       "    }\n",
       "</style>\n",
       "<table border=\"1\" class=\"dataframe\">\n",
       "  <thead>\n",
       "    <tr style=\"text-align: right;\">\n",
       "      <th></th>\n",
       "      <th>url6</th>\n",
       "    </tr>\n",
       "  </thead>\n",
       "  <tbody>\n",
       "    <tr>\n",
       "      <th>0</th>\n",
       "      <td>bugseumateu</td>\n",
       "    </tr>\n",
       "    <tr>\n",
       "      <th>1</th>\n",
       "      <td>jokeo</td>\n",
       "    </tr>\n",
       "    <tr>\n",
       "      <th>2</th>\n",
       "      <td>1917</td>\n",
       "    </tr>\n",
       "    <tr>\n",
       "      <th>3</th>\n",
       "      <td>peoseuteu-kau</td>\n",
       "    </tr>\n",
       "    <tr>\n",
       "      <th>4</th>\n",
       "      <td>megi</td>\n",
       "    </tr>\n",
       "    <tr>\n",
       "      <th>...</th>\n",
       "      <td>...</td>\n",
       "    </tr>\n",
       "    <tr>\n",
       "      <th>1657</th>\n",
       "      <td>gaengseuteo-obeu-siti</td>\n",
       "    </tr>\n",
       "    <tr>\n",
       "      <th>1658</th>\n",
       "      <td>apeun-mankeum-saranghanda</td>\n",
       "    </tr>\n",
       "    <tr>\n",
       "      <th>1659</th>\n",
       "      <td>cilgeom-2-baegbalmanyeojeon</td>\n",
       "    </tr>\n",
       "    <tr>\n",
       "      <th>1660</th>\n",
       "      <td>jerojon</td>\n",
       "    </tr>\n",
       "    <tr>\n",
       "      <th>1661</th>\n",
       "      <td>geran</td>\n",
       "    </tr>\n",
       "  </tbody>\n",
       "</table>\n",
       "<p>1662 rows × 1 columns</p>\n",
       "</div>"
      ],
      "text/plain": [
       "                             url6\n",
       "0                     bugseumateu\n",
       "1                           jokeo\n",
       "2                            1917\n",
       "3                   peoseuteu-kau\n",
       "4                            megi\n",
       "...                           ...\n",
       "1657        gaengseuteo-obeu-siti\n",
       "1658    apeun-mankeum-saranghanda\n",
       "1659  cilgeom-2-baegbalmanyeojeon\n",
       "1660                      jerojon\n",
       "1661                        geran\n",
       "\n",
       "[1662 rows x 1 columns]"
      ]
     },
     "execution_count": 88,
     "metadata": {},
     "output_type": "execute_result"
    }
   ],
   "source": [
    "data_list6=[]\n",
    "\n",
    "for i in range(0,len(movies)):\n",
    "    name = movies[i].get_attribute(\"href\").split('/')[-1]\n",
    "    data_list6.append(name)\n",
    "\n",
    "df6 = pd.DataFrame({\n",
    "    'url6':data_list6\n",
    "})\n",
    "df6"
   ]
  },
  {
   "cell_type": "markdown",
   "metadata": {},
   "source": [
    "## URL7"
   ]
  },
  {
   "cell_type": "code",
   "execution_count": 89,
   "metadata": {},
   "outputs": [],
   "source": [
    "driver.quit()"
   ]
  },
  {
   "cell_type": "code",
   "execution_count": 90,
   "metadata": {},
   "outputs": [
    {
     "name": "stderr",
     "output_type": "stream",
     "text": [
      "\n",
      "\n",
      "====== WebDriver manager ======\n",
      "Current google-chrome version is 98.0.4758\n",
      "Get LATEST chromedriver version for 98.0.4758 google-chrome\n",
      "Driver [C:\\Users\\jlune\\.wdm\\drivers\\chromedriver\\win32\\98.0.4758.102\\chromedriver.exe] found in cache\n"
     ]
    }
   ],
   "source": [
    "driver = get_chrome_driver()\n",
    "driver.maximize_window()\n",
    "driver.get(url7)"
   ]
  },
  {
   "cell_type": "code",
   "execution_count": 91,
   "metadata": {},
   "outputs": [],
   "source": [
    "# URl7\n",
    "SCROLL_PAUSE_SEC = 1\n",
    "last_height = driver.execute_script(\"return document.body.scrollHeight\")\n",
    "\n",
    "while True:\n",
    "    driver.execute_script(\"window.scrollTo(0, document.body.scrollHeight);\")\n",
    "    time.sleep(SCROLL_PAUSE_SEC)\n",
    "    new_height = driver.execute_script(\"return document.body.scrollHeight\")\n",
    "    if new_height == last_height:\n",
    "        time.sleep(5) # 로딩이 늦어져서. 목록의 끝이 아닌데. 스크롤 높이가 동일해지는 것 방지. 로딩시간 부여. 스크롤타임 안늘려도 되서 좋아.\n",
    "        break\n",
    "    last_height = new_height"
   ]
  },
  {
   "cell_type": "code",
   "execution_count": 92,
   "metadata": {},
   "outputs": [
    {
     "data": {
      "text/plain": [
       "460"
      ]
     },
     "execution_count": 92,
     "metadata": {},
     "output_type": "execute_result"
    }
   ],
   "source": [
    "movies = driver.find_elements(\n",
    "    By.XPATH,\n",
    "    '//*[@id=\"base\"]/div[3]/div/div[2]/div[1]/div/div/a')\n",
    "len(movies)"
   ]
  },
  {
   "cell_type": "code",
   "execution_count": 94,
   "metadata": {},
   "outputs": [
    {
     "data": {
      "text/html": [
       "<div>\n",
       "<style scoped>\n",
       "    .dataframe tbody tr th:only-of-type {\n",
       "        vertical-align: middle;\n",
       "    }\n",
       "\n",
       "    .dataframe tbody tr th {\n",
       "        vertical-align: top;\n",
       "    }\n",
       "\n",
       "    .dataframe thead th {\n",
       "        text-align: right;\n",
       "    }\n",
       "</style>\n",
       "<table border=\"1\" class=\"dataframe\">\n",
       "  <thead>\n",
       "    <tr style=\"text-align: right;\">\n",
       "      <th></th>\n",
       "      <th>url7</th>\n",
       "    </tr>\n",
       "  </thead>\n",
       "  <tbody>\n",
       "    <tr>\n",
       "      <th>0</th>\n",
       "      <td>peurenci-diseupaeci</td>\n",
       "    </tr>\n",
       "    <tr>\n",
       "      <th>1</th>\n",
       "      <td>ssing2gedeo</td>\n",
       "    </tr>\n",
       "    <tr>\n",
       "      <th>2</th>\n",
       "      <td>dyun</td>\n",
       "    </tr>\n",
       "    <tr>\n",
       "      <th>3</th>\n",
       "      <td>benom-2-res-deeo-bi-kaniji</td>\n",
       "    </tr>\n",
       "    <tr>\n",
       "      <th>4</th>\n",
       "      <td>deo-raseuteu-dyueol</td>\n",
       "    </tr>\n",
       "    <tr>\n",
       "      <th>...</th>\n",
       "      <td>...</td>\n",
       "    </tr>\n",
       "    <tr>\n",
       "      <th>455</th>\n",
       "      <td>ganiyeog</td>\n",
       "    </tr>\n",
       "    <tr>\n",
       "      <th>456</th>\n",
       "      <td>paineol-peulraetun</td>\n",
       "    </tr>\n",
       "    <tr>\n",
       "      <th>457</th>\n",
       "      <td>beolgeobeoseun-ceonsa-bulgeun-bang</td>\n",
       "    </tr>\n",
       "    <tr>\n",
       "      <th>458</th>\n",
       "      <td>sajinsayi-yeoja</td>\n",
       "    </tr>\n",
       "    <tr>\n",
       "      <th>459</th>\n",
       "      <td>sin-teniseuyi-wangja-hyotei-vs-riskai-geim-obe...</td>\n",
       "    </tr>\n",
       "  </tbody>\n",
       "</table>\n",
       "<p>460 rows × 1 columns</p>\n",
       "</div>"
      ],
      "text/plain": [
       "                                                  url7\n",
       "0                                  peurenci-diseupaeci\n",
       "1                                          ssing2gedeo\n",
       "2                                                 dyun\n",
       "3                           benom-2-res-deeo-bi-kaniji\n",
       "4                                  deo-raseuteu-dyueol\n",
       "..                                                 ...\n",
       "455                                           ganiyeog\n",
       "456                                 paineol-peulraetun\n",
       "457                 beolgeobeoseun-ceonsa-bulgeun-bang\n",
       "458                                    sajinsayi-yeoja\n",
       "459  sin-teniseuyi-wangja-hyotei-vs-riskai-geim-obe...\n",
       "\n",
       "[460 rows x 1 columns]"
      ]
     },
     "execution_count": 94,
     "metadata": {},
     "output_type": "execute_result"
    }
   ],
   "source": [
    "data_list7=[]\n",
    "\n",
    "for i in range(0,len(movies)):\n",
    "    name = movies[i].get_attribute(\"href\").split('/')[-1]\n",
    "    data_list7.append(name)\n",
    "\n",
    "df7 = pd.DataFrame({\n",
    "    'url7':data_list7\n",
    "})\n",
    "df7"
   ]
  },
  {
   "cell_type": "code",
   "execution_count": null,
   "metadata": {},
   "outputs": [],
   "source": [
    "driver.quit()"
   ]
  },
  {
   "cell_type": "markdown",
   "metadata": {},
   "source": [
    "각각 데이터의 수가 달라 한번에 DF으로 쓸수없어 \n",
    "리스트 - 시리즈 - DF 순서로 만듬. "
   ]
  },
  {
   "cell_type": "code",
   "execution_count": 108,
   "metadata": {},
   "outputs": [
    {
     "name": "stdout",
     "output_type": "stream",
     "text": [
      "1957 1858 1478 1470 1936 1662 460\n"
     ]
    }
   ],
   "source": [
    "w1 = pd.Series(data_list1)\n",
    "w2 = pd.Series(data_list2)\n",
    "w3 = pd.Series(data_list3)\n",
    "w4 = pd.Series(data_list4)\n",
    "w5 = pd.Series(data_list5)\n",
    "w6 = pd.Series(data_list6)\n",
    "w7 = pd.Series(data_list7)\n",
    "\n",
    "print(len(w1), len(w2), len(w3), len(w4), len(w5), len(w6), len(w7))"
   ]
  },
  {
   "cell_type": "code",
   "execution_count": 109,
   "metadata": {},
   "outputs": [
    {
     "data": {
      "text/html": [
       "<div>\n",
       "<style scoped>\n",
       "    .dataframe tbody tr th:only-of-type {\n",
       "        vertical-align: middle;\n",
       "    }\n",
       "\n",
       "    .dataframe tbody tr th {\n",
       "        vertical-align: top;\n",
       "    }\n",
       "\n",
       "    .dataframe thead th {\n",
       "        text-align: right;\n",
       "    }\n",
       "</style>\n",
       "<table border=\"1\" class=\"dataframe\">\n",
       "  <thead>\n",
       "    <tr style=\"text-align: right;\">\n",
       "      <th></th>\n",
       "      <th>~03</th>\n",
       "      <th>04~11</th>\n",
       "      <th>12~14</th>\n",
       "      <th>15~16</th>\n",
       "      <th>17~18</th>\n",
       "      <th>19~20</th>\n",
       "      <th>21~22</th>\n",
       "    </tr>\n",
       "  </thead>\n",
       "  <tbody>\n",
       "    <tr>\n",
       "      <th>0</th>\n",
       "      <td>banjiyi-jewang-banji-weonjeongdae</td>\n",
       "      <td>the-time-travelers-wife</td>\n",
       "      <td>john-wick</td>\n",
       "      <td>13sigan</td>\n",
       "      <td>murder-on-the-orient-express</td>\n",
       "      <td>bugseumateu</td>\n",
       "      <td>peurenci-diseupaeci</td>\n",
       "    </tr>\n",
       "    <tr>\n",
       "      <th>1</th>\n",
       "      <td>namsaegdaemun</td>\n",
       "      <td>peuropojeu</td>\n",
       "      <td>the-grand-budapest-hotel</td>\n",
       "      <td>miseu-seulroun</td>\n",
       "      <td>the-witch-part-1-the-subversion</td>\n",
       "      <td>jokeo</td>\n",
       "      <td>ssing2gedeo</td>\n",
       "    </tr>\n",
       "    <tr>\n",
       "      <th>2</th>\n",
       "      <td>meolholraendeu-deuraibeu</td>\n",
       "      <td>the-prestige</td>\n",
       "      <td>begin-again</td>\n",
       "      <td>fantastic-beasts-and-where-to-find-them</td>\n",
       "      <td>redi-peulreieo-weon</td>\n",
       "      <td>1917</td>\n",
       "      <td>dyun</td>\n",
       "    </tr>\n",
       "    <tr>\n",
       "      <th>3</th>\n",
       "      <td>harry-potter-and-the-philosophers-stone</td>\n",
       "      <td>the-debt</td>\n",
       "      <td>the-dark-knight-rises</td>\n",
       "      <td>maedeu-maegseu-bunnoyi-doro</td>\n",
       "      <td>asako</td>\n",
       "      <td>peoseuteu-kau</td>\n",
       "      <td>benom-2-res-deeo-bi-kaniji</td>\n",
       "    </tr>\n",
       "    <tr>\n",
       "      <th>4</th>\n",
       "      <td>peolpeu-pigsyeon</td>\n",
       "      <td>inception</td>\n",
       "      <td>whiplash</td>\n",
       "      <td>keontaegteu</td>\n",
       "      <td>benom</td>\n",
       "      <td>megi</td>\n",
       "      <td>deo-raseuteu-dyueol</td>\n",
       "    </tr>\n",
       "    <tr>\n",
       "      <th>...</th>\n",
       "      <td>...</td>\n",
       "      <td>...</td>\n",
       "      <td>...</td>\n",
       "      <td>...</td>\n",
       "      <td>...</td>\n",
       "      <td>...</td>\n",
       "      <td>...</td>\n",
       "    </tr>\n",
       "    <tr>\n",
       "      <th>1952</th>\n",
       "      <td>pungudongro</td>\n",
       "      <td>NaN</td>\n",
       "      <td>NaN</td>\n",
       "      <td>NaN</td>\n",
       "      <td>NaN</td>\n",
       "      <td>NaN</td>\n",
       "      <td>NaN</td>\n",
       "    </tr>\n",
       "    <tr>\n",
       "      <th>1953</th>\n",
       "      <td>seongtankwaerag-meri-keuriseumaseu</td>\n",
       "      <td>NaN</td>\n",
       "      <td>NaN</td>\n",
       "      <td>NaN</td>\n",
       "      <td>NaN</td>\n",
       "      <td>NaN</td>\n",
       "      <td>NaN</td>\n",
       "    </tr>\n",
       "    <tr>\n",
       "      <th>1954</th>\n",
       "      <td>mad-minutes</td>\n",
       "      <td>NaN</td>\n",
       "      <td>NaN</td>\n",
       "      <td>NaN</td>\n",
       "      <td>NaN</td>\n",
       "      <td>NaN</td>\n",
       "      <td>NaN</td>\n",
       "    </tr>\n",
       "    <tr>\n",
       "      <th>1955</th>\n",
       "      <td>caempieon</td>\n",
       "      <td>NaN</td>\n",
       "      <td>NaN</td>\n",
       "      <td>NaN</td>\n",
       "      <td>NaN</td>\n",
       "      <td>NaN</td>\n",
       "      <td>NaN</td>\n",
       "    </tr>\n",
       "    <tr>\n",
       "      <th>1956</th>\n",
       "      <td>ugyeonarang</td>\n",
       "      <td>NaN</td>\n",
       "      <td>NaN</td>\n",
       "      <td>NaN</td>\n",
       "      <td>NaN</td>\n",
       "      <td>NaN</td>\n",
       "      <td>NaN</td>\n",
       "    </tr>\n",
       "  </tbody>\n",
       "</table>\n",
       "<p>1957 rows × 7 columns</p>\n",
       "</div>"
      ],
      "text/plain": [
       "                                          ~03                    04~11  \\\n",
       "0           banjiyi-jewang-banji-weonjeongdae  the-time-travelers-wife   \n",
       "1                               namsaegdaemun               peuropojeu   \n",
       "2                    meolholraendeu-deuraibeu             the-prestige   \n",
       "3     harry-potter-and-the-philosophers-stone                 the-debt   \n",
       "4                            peolpeu-pigsyeon                inception   \n",
       "...                                       ...                      ...   \n",
       "1952                              pungudongro                      NaN   \n",
       "1953       seongtankwaerag-meri-keuriseumaseu                      NaN   \n",
       "1954                              mad-minutes                      NaN   \n",
       "1955                                caempieon                      NaN   \n",
       "1956                              ugyeonarang                      NaN   \n",
       "\n",
       "                         12~14                                    15~16  \\\n",
       "0                    john-wick                                  13sigan   \n",
       "1     the-grand-budapest-hotel                           miseu-seulroun   \n",
       "2                  begin-again  fantastic-beasts-and-where-to-find-them   \n",
       "3        the-dark-knight-rises              maedeu-maegseu-bunnoyi-doro   \n",
       "4                     whiplash                              keontaegteu   \n",
       "...                        ...                                      ...   \n",
       "1952                       NaN                                      NaN   \n",
       "1953                       NaN                                      NaN   \n",
       "1954                       NaN                                      NaN   \n",
       "1955                       NaN                                      NaN   \n",
       "1956                       NaN                                      NaN   \n",
       "\n",
       "                                17~18          19~20  \\\n",
       "0        murder-on-the-orient-express    bugseumateu   \n",
       "1     the-witch-part-1-the-subversion          jokeo   \n",
       "2                 redi-peulreieo-weon           1917   \n",
       "3                               asako  peoseuteu-kau   \n",
       "4                               benom           megi   \n",
       "...                               ...            ...   \n",
       "1952                              NaN            NaN   \n",
       "1953                              NaN            NaN   \n",
       "1954                              NaN            NaN   \n",
       "1955                              NaN            NaN   \n",
       "1956                              NaN            NaN   \n",
       "\n",
       "                           21~22  \n",
       "0            peurenci-diseupaeci  \n",
       "1                    ssing2gedeo  \n",
       "2                           dyun  \n",
       "3     benom-2-res-deeo-bi-kaniji  \n",
       "4            deo-raseuteu-dyueol  \n",
       "...                          ...  \n",
       "1952                         NaN  \n",
       "1953                         NaN  \n",
       "1954                         NaN  \n",
       "1955                         NaN  \n",
       "1956                         NaN  \n",
       "\n",
       "[1957 rows x 7 columns]"
      ]
     },
     "execution_count": 109,
     "metadata": {},
     "output_type": "execute_result"
    }
   ],
   "source": [
    "key_wavve = pd.DataFrame({\n",
    "    '~03': w1,\n",
    "    '04~11' : w2,\n",
    "    '12~14' : w3,\n",
    "    '15~16' : w4,\n",
    "    '17~18' : w5,\n",
    "    '19~20' : w6,\n",
    "    '21~22' : w7    \n",
    "})\n",
    "key_wavve"
   ]
  },
  {
   "cell_type": "code",
   "execution_count": 110,
   "metadata": {},
   "outputs": [],
   "source": [
    "key_wavve.to_csv(\"key_wavve.csv\", header=True)"
   ]
  },
  {
   "cell_type": "code",
   "execution_count": 111,
   "metadata": {},
   "outputs": [
    {
     "name": "stdout",
     "output_type": "stream",
     "text": [
      "                                          ~03                    04~11  \\\n",
      "0           banjiyi-jewang-banji-weonjeongdae  the-time-travelers-wife   \n",
      "1                               namsaegdaemun               peuropojeu   \n",
      "2                    meolholraendeu-deuraibeu             the-prestige   \n",
      "3     harry-potter-and-the-philosophers-stone                 the-debt   \n",
      "4                            peolpeu-pigsyeon                inception   \n",
      "...                                       ...                      ...   \n",
      "1952                              pungudongro                      NaN   \n",
      "1953       seongtankwaerag-meri-keuriseumaseu                      NaN   \n",
      "1954                              mad-minutes                      NaN   \n",
      "1955                                caempieon                      NaN   \n",
      "1956                              ugyeonarang                      NaN   \n",
      "\n",
      "                         12~14                                    15~16  \\\n",
      "0                    john-wick                                  13sigan   \n",
      "1     the-grand-budapest-hotel                           miseu-seulroun   \n",
      "2                  begin-again  fantastic-beasts-and-where-to-find-them   \n",
      "3        the-dark-knight-rises              maedeu-maegseu-bunnoyi-doro   \n",
      "4                     whiplash                              keontaegteu   \n",
      "...                        ...                                      ...   \n",
      "1952                       NaN                                      NaN   \n",
      "1953                       NaN                                      NaN   \n",
      "1954                       NaN                                      NaN   \n",
      "1955                       NaN                                      NaN   \n",
      "1956                       NaN                                      NaN   \n",
      "\n",
      "                                17~18          19~20  \\\n",
      "0        murder-on-the-orient-express    bugseumateu   \n",
      "1     the-witch-part-1-the-subversion          jokeo   \n",
      "2                 redi-peulreieo-weon           1917   \n",
      "3                               asako  peoseuteu-kau   \n",
      "4                               benom           megi   \n",
      "...                               ...            ...   \n",
      "1952                              NaN            NaN   \n",
      "1953                              NaN            NaN   \n",
      "1954                              NaN            NaN   \n",
      "1955                              NaN            NaN   \n",
      "1956                              NaN            NaN   \n",
      "\n",
      "                           21~22  \n",
      "0            peurenci-diseupaeci  \n",
      "1                    ssing2gedeo  \n",
      "2                           dyun  \n",
      "3     benom-2-res-deeo-bi-kaniji  \n",
      "4            deo-raseuteu-dyueol  \n",
      "...                          ...  \n",
      "1952                         NaN  \n",
      "1953                         NaN  \n",
      "1954                         NaN  \n",
      "1955                         NaN  \n",
      "1956                         NaN  \n",
      "\n",
      "[1957 rows x 7 columns]\n"
     ]
    }
   ],
   "source": [
    "dataset = pd.read_csv(\"key_wavve.csv\", index_col=0) # 이렇게 불러오면 0번컬럼의 인덱스를 사용가능.\n",
    "\n",
    "print(dataset)"
   ]
  }
 ],
 "metadata": {
  "interpreter": {
   "hash": "b3ba2566441a7c06988d0923437866b63cedc61552a5af99d1f4fb67d367b25f"
  },
  "kernelspec": {
   "display_name": "Python 3.8.8 ('base')",
   "language": "python",
   "name": "python3"
  },
  "language_info": {
   "codemirror_mode": {
    "name": "ipython",
    "version": 3
   },
   "file_extension": ".py",
   "mimetype": "text/x-python",
   "name": "python",
   "nbconvert_exporter": "python",
   "pygments_lexer": "ipython3",
   "version": "3.8.8"
  },
  "orig_nbformat": 4
 },
 "nbformat": 4,
 "nbformat_minor": 2
}
