{
 "cells": [
  {
   "cell_type": "markdown",
   "metadata": {},
   "source": [
    "# 컨텐츠 기반 필터링(Content-based filtering)"
   ]
  },
  {
   "cell_type": "code",
   "execution_count": 1,
   "metadata": {},
   "outputs": [],
   "source": [
    "import numpy as np\n",
    "import pandas as pd"
   ]
  },
  {
   "cell_type": "code",
   "execution_count": 3,
   "metadata": {},
   "outputs": [
    {
     "data": {
      "text/html": [
       "<div>\n",
       "<style scoped>\n",
       "    .dataframe tbody tr th:only-of-type {\n",
       "        vertical-align: middle;\n",
       "    }\n",
       "\n",
       "    .dataframe tbody tr th {\n",
       "        vertical-align: top;\n",
       "    }\n",
       "\n",
       "    .dataframe thead th {\n",
       "        text-align: right;\n",
       "    }\n",
       "</style>\n",
       "<table border=\"1\" class=\"dataframe\">\n",
       "  <thead>\n",
       "    <tr style=\"text-align: right;\">\n",
       "      <th></th>\n",
       "      <th>user-id</th>\n",
       "      <th>movie-id</th>\n",
       "      <th>rating</th>\n",
       "      <th>timestamp</th>\n",
       "    </tr>\n",
       "  </thead>\n",
       "  <tbody>\n",
       "    <tr>\n",
       "      <th>0</th>\n",
       "      <td>196</td>\n",
       "      <td>242</td>\n",
       "      <td>3.0</td>\n",
       "      <td>881250949</td>\n",
       "    </tr>\n",
       "    <tr>\n",
       "      <th>1</th>\n",
       "      <td>186</td>\n",
       "      <td>302</td>\n",
       "      <td>3.0</td>\n",
       "      <td>891717742</td>\n",
       "    </tr>\n",
       "    <tr>\n",
       "      <th>2</th>\n",
       "      <td>22</td>\n",
       "      <td>377</td>\n",
       "      <td>1.0</td>\n",
       "      <td>878887116</td>\n",
       "    </tr>\n",
       "    <tr>\n",
       "      <th>3</th>\n",
       "      <td>244</td>\n",
       "      <td>51</td>\n",
       "      <td>2.0</td>\n",
       "      <td>880606923</td>\n",
       "    </tr>\n",
       "    <tr>\n",
       "      <th>4</th>\n",
       "      <td>166</td>\n",
       "      <td>346</td>\n",
       "      <td>1.0</td>\n",
       "      <td>886397596</td>\n",
       "    </tr>\n",
       "  </tbody>\n",
       "</table>\n",
       "</div>"
      ],
      "text/plain": [
       "  user-id movie-id  rating  timestamp\n",
       "0     196      242     3.0  881250949\n",
       "1     186      302     3.0  891717742\n",
       "2      22      377     1.0  878887116\n",
       "3     244       51     2.0  880606923\n",
       "4     166      346     1.0  886397596"
      ]
     },
     "execution_count": 3,
     "metadata": {},
     "output_type": "execute_result"
    }
   ],
   "source": [
    "\n",
    "from surprise import Datasetdata = Dataset.load_builtin('ml-100k', prompt=False)\n",
    "df = pd.DataFrame(data.raw_ratings, columns=['user-id', 'movie-id', 'rating', 'timestamp'])\n",
    "df.head()"
   ]
  },
  {
   "cell_type": "code",
   "execution_count": 4,
   "metadata": {},
   "outputs": [
    {
     "data": {
      "text/plain": [
       "(100000, 4)"
      ]
     },
     "execution_count": 4,
     "metadata": {},
     "output_type": "execute_result"
    }
   ],
   "source": [
    "df.shape"
   ]
  },
  {
   "cell_type": "markdown",
   "metadata": {},
   "source": [
    "- Adjacent Matrix를 생성 - 이웃행렬\n",
    "    - 행은 사용자\n",
    "    - 열은 영화\n",
    "    - 내용은 평점"
   ]
  },
  {
   "cell_type": "code",
   "execution_count": 6,
   "metadata": {},
   "outputs": [
    {
     "data": {
      "text/plain": [
       "array([[      195,       241,         3, 881250949],\n",
       "       [      185,       301,         3, 891717742],\n",
       "       [       21,       376,         1, 878887116],\n",
       "       [      243,        50,         2, 880606923],\n",
       "       [      165,       345,         1, 886397596]])"
      ]
     },
     "execution_count": 6,
     "metadata": {},
     "output_type": "execute_result"
    }
   ],
   "source": [
    "raw_data = np.array(data.raw_ratings, dtype=int)\n",
    "raw_data[:,:2] -= 1   # user-id, movie-id가 0부터 시작하도록\n",
    "raw_data[:5]"
   ]
  },
  {
   "cell_type": "code",
   "execution_count": 11,
   "metadata": {},
   "outputs": [
    {
     "data": {
      "text/plain": [
       "(943, 1682)"
      ]
     },
     "execution_count": 11,
     "metadata": {},
     "output_type": "execute_result"
    }
   ],
   "source": [
    "n_users = df['user-id'].nunique()\n",
    "n_movies = df['movie-id'].astype(int).max()\n",
    "n_users, n_movies\n",
    "# 사용자가 몇명이냐. timsp"
   ]
  },
  {
   "cell_type": "markdown",
   "metadata": {},
   "source": [
    "- adj_matrix : 0/1 평점점수를 주는 경우\n"
   ]
  },
  {
   "cell_type": "code",
   "execution_count": 12,
   "metadata": {},
   "outputs": [],
   "source": [
    "adj_matrix = np.zeros((n_users, n_movies),int)"
   ]
  },
  {
   "cell_type": "code",
   "execution_count": 13,
   "metadata": {},
   "outputs": [
    {
     "data": {
      "text/plain": [
       "array([[1, 1, 1, ..., 0, 0, 0],\n",
       "       [1, 0, 0, ..., 0, 0, 0],\n",
       "       [0, 0, 0, ..., 0, 0, 0],\n",
       "       [0, 0, 0, ..., 0, 0, 0],\n",
       "       [1, 1, 0, ..., 0, 0, 0]])"
      ]
     },
     "execution_count": 13,
     "metadata": {},
     "output_type": "execute_result"
    }
   ],
   "source": [
    "# 본영화는 1, 안본영화는 0\n",
    "adj_matrix = np.zeros((n_users,n_movies),int)\n",
    "for user_id, movie_id, _, _, in raw_data:\n",
    "    adj_matrix[user_id, movie_id]=1\n",
    "adj_matrix[:5]"
   ]
  },
  {
   "cell_type": "code",
   "execution_count": 14,
   "metadata": {},
   "outputs": [
    {
     "data": {
      "text/plain": [
       "(18, 8)"
      ]
     },
     "execution_count": 14,
     "metadata": {},
     "output_type": "execute_result"
    }
   ],
   "source": [
    "# 유사도 - 이진 벡터의 내적\n",
    "my_id, my_vector = 0, adj_matrix[0]\n",
    "\n",
    "np.dot(my_vector, adj_matrix[1]), np.dot(my_vector, adj_matrix[2])"
   ]
  },
  {
   "cell_type": "code",
   "execution_count": 36,
   "metadata": {},
   "outputs": [
    {
     "data": {
      "text/plain": [
       "(3, 340)"
      ]
     },
     "execution_count": 36,
     "metadata": {},
     "output_type": "execute_result"
    }
   ],
   "source": [
    "# 누가 나(user-id  0인 유저)랑 가장 닯았나? \n",
    "best_score, best_match_id = 0, 0 # -1, -1  No problem\n",
    "\n",
    "for i in range(1,len(adj_matrix)):\n",
    "    dot = np.dot(my_vector, adj_matrix[i])\n",
    "    if dot < best_score:\n",
    "        best_score = dot\n",
    "        best_match_id = i\n",
    "\n",
    "best_score, best_match_id"
   ]
  },
  {
   "cell_type": "code",
   "execution_count": 24,
   "metadata": {},
   "outputs": [
    {
     "data": {
      "text/plain": [
       "(array([0, 0, 0, 0, 0, 0, 0, 0, 0, 0]), array([0, 0, 1, 0, 1, 1, 1, 1, 0, 0]))"
      ]
     },
     "execution_count": 24,
     "metadata": {},
     "output_type": "execute_result"
    }
   ],
   "source": [
    "best_vector = adj_matrix[best_match_id]\n",
    "my_vector[310:320], best_vector[310:320]"
   ]
  },
  {
   "cell_type": "code",
   "execution_count": 25,
   "metadata": {},
   "outputs": [],
   "source": [
    "# 추천이란, 나는 안봤지만, 나량 유사한 사용자가 본영화를 추천하는것.\n",
    "# 내가 보지 않은 영화중에서 best_match 사용가자 본 영화 - 추천"
   ]
  },
  {
   "cell_type": "code",
   "execution_count": 31,
   "metadata": {},
   "outputs": [
    {
     "data": {
      "text/plain": [
       "(335, [272, 273, 275, 280, 281, 283, 287, 288, 289, 290])"
      ]
     },
     "execution_count": 31,
     "metadata": {},
     "output_type": "execute_result"
    }
   ],
   "source": [
    "# 내가 보지 않은 영화중에서 best_match 사용가자 본 영화 - 추천\n",
    "recommend_list = []\n",
    "for i, (my_view, best_match_view) in enumerate(zip(my_vector, best_vector)):\n",
    "    if my_view == 0 and best_match_view >= 1:\n",
    "        recommend_list.append(i)\n",
    "\n",
    "len(recommend_list), recommend_list[:10]\n"
   ]
  },
  {
   "cell_type": "code",
   "execution_count": 32,
   "metadata": {},
   "outputs": [],
   "source": [
    "# 이렇게 하지말고 adj_matrix 를 평점 점수를 기본으로 해서 만들어 보자"
   ]
  },
  {
   "cell_type": "code",
   "execution_count": 46,
   "metadata": {},
   "outputs": [
    {
     "data": {
      "text/plain": [
       "array([[5, 3, 4, ..., 0, 0, 0],\n",
       "       [4, 0, 0, ..., 0, 0, 0],\n",
       "       [0, 0, 0, ..., 0, 0, 0],\n",
       "       [0, 0, 0, ..., 0, 0, 0],\n",
       "       [4, 3, 0, ..., 0, 0, 0]])"
      ]
     },
     "execution_count": 46,
     "metadata": {},
     "output_type": "execute_result"
    }
   ],
   "source": [
    "adj_matrix = np.zeros((n_users,n_movies),int)\n",
    "for user_id, movie_id, rating, _, in raw_data:\n",
    "    adj_matrix[user_id, movie_id] = rating\n",
    "adj_matrix[:5]"
   ]
  },
  {
   "cell_type": "code",
   "execution_count": 47,
   "metadata": {},
   "outputs": [
    {
     "data": {
      "text/plain": [
       "(55.06359959174482, 737)"
      ]
     },
     "execution_count": 47,
     "metadata": {},
     "output_type": "execute_result"
    }
   ],
   "source": [
    "# 누가 나(user-id  0인 유저)랑 가장 닯았나? - 유클리드 거리 , 기하학적 거리. 그런데 백터에서는 \n",
    "best_score, best_match_id = 1000000, 0 # -1, -1  No problem 유클라디안 크게 줘야 해\n",
    "my_vector = adj_matrix[0]\n",
    "\n",
    "for i in range(1,len(adj_matrix)):\n",
    "    user_vector = adj_matrix[i]\n",
    "    euc_dist = np.sqrt(np.sum(np.square(my_vector - user_vector)))   # 유클라디안 거리\n",
    "    if euc_dist < best_score:\n",
    "        best_score = euc_dist\n",
    "        best_match_id = i\n",
    "\n",
    "best_score, best_match_id"
   ]
  },
  {
   "cell_type": "code",
   "execution_count": 41,
   "metadata": {},
   "outputs": [
    {
     "data": {
      "text/plain": [
       "(48, [297, 312, 317, 342, 356, 366, 379, 384, 392, 402])"
      ]
     },
     "execution_count": 41,
     "metadata": {},
     "output_type": "execute_result"
    }
   ],
   "source": [
    "# 내가 보지 않은 영화중에서 best_match 사용가자 본 영화 - 추천\n",
    "recommend_list = []\n",
    "best_vector = adj_matrix[best_match_id]\n",
    "\n",
    "for i, (my_view, best_match_view) in enumerate(zip(my_vector, best_vector)):\n",
    "    if my_view == 0 and best_match_view >= 1:\n",
    "        recommend_list.append(i)\n",
    "\n",
    "len(recommend_list), recommend_list[:10]"
   ]
  },
  {
   "cell_type": "markdown",
   "metadata": {},
   "source": [
    "## 1-2 2.Case 2)코사인 유사도\n"
   ]
  },
  {
   "cell_type": "code",
   "execution_count": 49,
   "metadata": {},
   "outputs": [],
   "source": [
    "def compute_cos_sim(v1, v2):\n",
    "    norm1 = np.sqrt(np.sum(np.square(v1)))\n",
    "    norm2 = np.sqrt(np.sum(np.square(v2)))\n",
    "    return np.dot(v1, v2) / (norm1 * norm2)"
   ]
  },
  {
   "cell_type": "code",
   "execution_count": 50,
   "metadata": {},
   "outputs": [
    {
     "data": {
      "text/plain": [
       "(-1, 0)"
      ]
     },
     "execution_count": 50,
     "metadata": {},
     "output_type": "execute_result"
    }
   ],
   "source": [
    "# 누가 나(user-id  0인 유저)랑 가장 닯았나? 코사인 시뮬레러티 코사인 유사도 \n",
    "best_score, best_match_id = -1, 0 # 코사인 -1 ~ 1 까지 그러니 -1 값 주는 것 중요해 \n",
    "my_vector = adj_matrix[0]\n",
    "\n",
    "for i in range(1,len(adj_matrix)):\n",
    "    user_vector = adj_matrix[i]\n",
    "    cos_sim = compute_cos_sim(my_vector, user_vector)\n",
    "    # euc_dist = np.sqrt(np.sum(np.square(my_vector - user_vector)))   # 유클라디안 거리\n",
    "    if  cos_sim < best_score:\n",
    "        best_score = cos_sim\n",
    "        best_match_id = i\n",
    "\n",
    "best_score, best_match_id"
   ]
  },
  {
   "cell_type": "markdown",
   "metadata": {},
   "source": [
    "contents-based filtering \n",
    "\n",
    "Adjacent - matrix\n",
    "\n",
    "\n",
    "0,1                                    rating\n",
    "단순내적                              - 단순내적\n",
    "유클리드 거리                         - 유클리드 거리\n",
    "코사인 유사도                         - 코사인 유사도 "
   ]
  }
 ],
 "metadata": {
  "interpreter": {
   "hash": "b3ba2566441a7c06988d0923437866b63cedc61552a5af99d1f4fb67d367b25f"
  },
  "kernelspec": {
   "display_name": "Python 3.8.8 64-bit ('base': conda)",
   "language": "python",
   "name": "python3"
  },
  "language_info": {
   "codemirror_mode": {
    "name": "ipython",
    "version": 3
   },
   "file_extension": ".py",
   "mimetype": "text/x-python",
   "name": "python",
   "nbconvert_exporter": "python",
   "pygments_lexer": "ipython3",
   "version": "3.8.8"
  },
  "orig_nbformat": 4
 },
 "nbformat": 4,
 "nbformat_minor": 2
}
